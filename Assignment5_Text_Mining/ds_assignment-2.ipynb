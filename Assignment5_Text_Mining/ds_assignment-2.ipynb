{
  "nbformat": 4,
  "nbformat_minor": 0,
  "metadata": {
    "kernelspec": {
      "display_name": "Python 3",
      "language": "python",
      "name": "python3"
    },
    "language_info": {
      "codemirror_mode": {
        "name": "ipython",
        "version": 3
      },
      "file_extension": ".py",
      "mimetype": "text/x-python",
      "name": "python",
      "nbconvert_exporter": "python",
      "pygments_lexer": "ipython3",
      "version": "3.5.2"
    },
    "colab": {
      "name": "ds_assignment.ipynb",
      "provenance": [],
      "collapsed_sections": [
        "IuW5JdJqC5nu"
      ]
    }
  },
  "cells": [
    {
      "cell_type": "markdown",
      "metadata": {
        "id": "NHlmc-vA1mG_",
        "colab_type": "text"
      },
      "source": [
        "# Oops... Nothing Here..  So, you are on your own this time."
      ]
    },
    {
      "cell_type": "markdown",
      "metadata": {
        "id": "IuW5JdJqC5nu",
        "colab_type": "text"
      },
      "source": [
        "# Data "
      ]
    },
    {
      "cell_type": "code",
      "metadata": {
        "id": "3rlLEXArDM8z",
        "colab_type": "code",
        "outputId": "e2b1d688-88ab-44c1-fad0-b1f35d9121f8",
        "colab": {
          "base_uri": "https://localhost:8080/",
          "height": 184
        }
      },
      "source": [
        "!pip install wget\n",
        "import wget"
      ],
      "execution_count": 0,
      "outputs": [
        {
          "output_type": "stream",
          "text": [
            "Collecting wget\n",
            "  Downloading https://files.pythonhosted.org/packages/47/6a/62e288da7bcda82b935ff0c6cfe542970f04e29c756b0e147251b2fb251f/wget-3.2.zip\n",
            "Building wheels for collected packages: wget\n",
            "  Building wheel for wget (setup.py) ... \u001b[?25l\u001b[?25hdone\n",
            "  Created wheel for wget: filename=wget-3.2-cp36-none-any.whl size=9682 sha256=5b6dc34c9bab4bdc098268e9dd43c87df50b5981781efb06a0a036377779f4a2\n",
            "  Stored in directory: /root/.cache/pip/wheels/40/15/30/7d8f7cea2902b4db79e3fea550d7d7b85ecb27ef992b618f3f\n",
            "Successfully built wget\n",
            "Installing collected packages: wget\n",
            "Successfully installed wget-3.2\n"
          ],
          "name": "stdout"
        }
      ]
    },
    {
      "cell_type": "code",
      "metadata": {
        "id": "-dG3khHFCvZR",
        "colab_type": "code",
        "outputId": "34a3b862-204e-43b8-e99d-b77ca5e57ba9",
        "colab": {
          "base_uri": "https://localhost:8080/",
          "height": 49
        }
      },
      "source": [
        "wget.download(\"https://github.com/MIE451-1513-2019/course-datasets/raw/master/reviews.zip\")\n",
        "!unzip reviews.zip"
      ],
      "execution_count": 0,
      "outputs": [
        {
          "output_type": "stream",
          "text": [
            "Archive:  reviews.zip\n",
            "replace reviews.csv? [y]es, [n]o, [A]ll, [N]one, [r]ename: "
          ],
          "name": "stdout"
        }
      ]
    },
    {
      "cell_type": "code",
      "metadata": {
        "id": "lxVLHB9V1mHF",
        "colab_type": "code",
        "colab": {}
      },
      "source": [
        "def submission():\n",
        "    \"\"\"remove this function before submission\n",
        "    \"\"\"\n",
        "    assert False, \"I didn't submit assignment on time!\""
      ],
      "execution_count": 0,
      "outputs": []
    },
    {
      "cell_type": "code",
      "metadata": {
        "id": "V3O5jD2-1mHn",
        "colab_type": "code",
        "colab": {}
      },
      "source": [
        "submission()"
      ],
      "execution_count": 0,
      "outputs": []
    },
    {
      "cell_type": "markdown",
      "metadata": {
        "id": "DddJD8lp3_72",
        "colab_type": "text"
      },
      "source": [
        "#Imports"
      ]
    },
    {
      "cell_type": "code",
      "metadata": {
        "id": "lQX7NIri1mHq",
        "colab_type": "code",
        "outputId": "e0543201-f3b9-4439-f69d-34ee984ad601",
        "colab": {
          "base_uri": "https://localhost:8080/",
          "height": 245
        }
      },
      "source": [
        "#Plot\n",
        "import matplotlib.pyplot as plt\n",
        "import seaborn as sns\n",
        "%matplotlib inline\n",
        "\n",
        "#Data Packages\n",
        "import math\n",
        "import pandas\n",
        "import pandas as pd\n",
        "import numpy as np\n",
        "\n",
        "#Progress bar\n",
        "from tqdm import tqdm\n",
        "\n",
        "#Counter\n",
        "from collections import Counter\n",
        "\n",
        "#Operation\n",
        "import operator\n",
        "\n",
        "#Natural Language Processing Packages\n",
        "import re\n",
        "import nltk\n",
        "import string\n",
        "\n",
        "## Download Resources\n",
        "nltk.download(\"vader_lexicon\")\n",
        "nltk.download(\"stopwords\")\n",
        "nltk.download(\"averaged_perceptron_tagger\")\n",
        "nltk.download(\"wordnet\")\n",
        "\n",
        "from nltk.sentiment import SentimentAnalyzer\n",
        "from nltk.sentiment.vader import SentimentIntensityAnalyzer\n",
        "from nltk.sentiment.util import *\n",
        "from nltk import tokenize\n",
        "from nltk.corpus import stopwords\n",
        "stopwords = stopwords.words('english')\n",
        "lemmatizer = nltk.WordNetLemmatizer()\n",
        "stemmer = nltk.stem.porter.PorterStemmer()\n",
        "from nltk.tag import PerceptronTagger\n",
        "from nltk.data import find\n",
        "\n",
        "## Machine Learning\n",
        "import sklearn\n",
        "import sklearn.metrics as metrics\n",
        "\n"
      ],
      "execution_count": 0,
      "outputs": [
        {
          "output_type": "stream",
          "text": [
            "/usr/local/lib/python3.6/dist-packages/statsmodels/tools/_testing.py:19: FutureWarning: pandas.util.testing is deprecated. Use the functions in the public API at pandas.testing instead.\n",
            "  import pandas.util.testing as tm\n"
          ],
          "name": "stderr"
        },
        {
          "output_type": "stream",
          "text": [
            "[nltk_data] Downloading package vader_lexicon to /root/nltk_data...\n",
            "[nltk_data] Downloading package stopwords to /root/nltk_data...\n",
            "[nltk_data]   Unzipping corpora/stopwords.zip.\n",
            "[nltk_data] Downloading package averaged_perceptron_tagger to\n",
            "[nltk_data]     /root/nltk_data...\n",
            "[nltk_data]   Unzipping taggers/averaged_perceptron_tagger.zip.\n",
            "[nltk_data] Downloading package wordnet to /root/nltk_data...\n",
            "[nltk_data]   Unzipping corpora/wordnet.zip.\n"
          ],
          "name": "stdout"
        },
        {
          "output_type": "stream",
          "text": [
            "/usr/local/lib/python3.6/dist-packages/nltk/twitter/__init__.py:20: UserWarning: The twython library has not been installed. Some functionality from the twitter package will not be available.\n",
            "  warnings.warn(\"The twython library has not been installed. \"\n"
          ],
          "name": "stderr"
        }
      ]
    },
    {
      "cell_type": "markdown",
      "metadata": {
        "id": "6beDb1Ya2iB_",
        "colab_type": "text"
      },
      "source": [
        "# Read Data"
      ]
    },
    {
      "cell_type": "code",
      "metadata": {
        "id": "9YWeaD0V2kfA",
        "colab_type": "code",
        "colab": {}
      },
      "source": [
        "hotelDf = pd.read_csv('reviews.csv')"
      ],
      "execution_count": 0,
      "outputs": []
    },
    {
      "cell_type": "code",
      "metadata": {
        "id": "_HWQBA674d9z",
        "colab_type": "code",
        "colab": {}
      },
      "source": [
        "# Add column title to each column\n",
        "hotelDf.columns=['filePath','hotelName','reviewColumn','ratingScore','groundTruth']"
      ],
      "execution_count": 0,
      "outputs": []
    },
    {
      "cell_type": "code",
      "metadata": {
        "id": "wJp-mSOs4ISd",
        "colab_type": "code",
        "outputId": "bd4ca7a8-7e3d-42fe-a860-c6aadd4b7613",
        "colab": {
          "base_uri": "https://localhost:8080/",
          "height": 121
        }
      },
      "source": [
        "# Check the number of missing values\n",
        "hotelDf.isnull().sum()"
      ],
      "execution_count": 0,
      "outputs": [
        {
          "output_type": "execute_result",
          "data": {
            "text/plain": [
              "filePath        0\n",
              "hotelName       0\n",
              "reviewColumn    0\n",
              "ratingScore     0\n",
              "groundTruth     0\n",
              "dtype: int64"
            ]
          },
          "metadata": {
            "tags": []
          },
          "execution_count": 5
        }
      ]
    },
    {
      "cell_type": "code",
      "metadata": {
        "id": "0s-ssTuRUdm8",
        "colab_type": "code",
        "outputId": "4118a8ee-72c2-4664-a523-135f83dc9794",
        "colab": {
          "base_uri": "https://localhost:8080/",
          "height": 454
        }
      },
      "source": [
        "# Check number of hotels and other important imofrmation\n",
        "hotelDf.groupby('hotelName').count()"
      ],
      "execution_count": 0,
      "outputs": [
        {
          "output_type": "execute_result",
          "data": {
            "text/html": [
              "<div>\n",
              "<style scoped>\n",
              "    .dataframe tbody tr th:only-of-type {\n",
              "        vertical-align: middle;\n",
              "    }\n",
              "\n",
              "    .dataframe tbody tr th {\n",
              "        vertical-align: top;\n",
              "    }\n",
              "\n",
              "    .dataframe thead th {\n",
              "        text-align: right;\n",
              "    }\n",
              "</style>\n",
              "<table border=\"1\" class=\"dataframe\">\n",
              "  <thead>\n",
              "    <tr style=\"text-align: right;\">\n",
              "      <th></th>\n",
              "      <th>filePath</th>\n",
              "      <th>reviewColumn</th>\n",
              "      <th>ratingScore</th>\n",
              "      <th>groundTruth</th>\n",
              "    </tr>\n",
              "    <tr>\n",
              "      <th>hotelName</th>\n",
              "      <th></th>\n",
              "      <th></th>\n",
              "      <th></th>\n",
              "      <th></th>\n",
              "    </tr>\n",
              "  </thead>\n",
              "  <tbody>\n",
              "    <tr>\n",
              "      <th>172 Ballantyne B &amp;amp; B</th>\n",
              "      <td>9</td>\n",
              "      <td>9</td>\n",
              "      <td>9</td>\n",
              "      <td>9</td>\n",
              "    </tr>\n",
              "    <tr>\n",
              "      <th>A B&amp;amp;B on Bay, Acrylic Dreams</th>\n",
              "      <td>52</td>\n",
              "      <td>52</td>\n",
              "      <td>52</td>\n",
              "      <td>52</td>\n",
              "    </tr>\n",
              "    <tr>\n",
              "      <th>A Garden Stroll B&amp;amp;B</th>\n",
              "      <td>17</td>\n",
              "      <td>17</td>\n",
              "      <td>17</td>\n",
              "      <td>17</td>\n",
              "    </tr>\n",
              "    <tr>\n",
              "      <th>A Night at Rosehurst</th>\n",
              "      <td>37</td>\n",
              "      <td>37</td>\n",
              "      <td>37</td>\n",
              "      <td>37</td>\n",
              "    </tr>\n",
              "    <tr>\n",
              "      <th>A Patch of Heaven Bed and Breakfast</th>\n",
              "      <td>12</td>\n",
              "      <td>12</td>\n",
              "      <td>12</td>\n",
              "      <td>12</td>\n",
              "    </tr>\n",
              "    <tr>\n",
              "      <th>...</th>\n",
              "      <td>...</td>\n",
              "      <td>...</td>\n",
              "      <td>...</td>\n",
              "      <td>...</td>\n",
              "    </tr>\n",
              "    <tr>\n",
              "      <th>Westmount Motel</th>\n",
              "      <td>10</td>\n",
              "      <td>10</td>\n",
              "      <td>10</td>\n",
              "      <td>10</td>\n",
              "    </tr>\n",
              "    <tr>\n",
              "      <th>Whispering Pines of Stratford</th>\n",
              "      <td>25</td>\n",
              "      <td>25</td>\n",
              "      <td>25</td>\n",
              "      <td>25</td>\n",
              "    </tr>\n",
              "    <tr>\n",
              "      <th>Windsor Hotel</th>\n",
              "      <td>107</td>\n",
              "      <td>107</td>\n",
              "      <td>107</td>\n",
              "      <td>107</td>\n",
              "    </tr>\n",
              "    <tr>\n",
              "      <th>Woodmont Guest House</th>\n",
              "      <td>15</td>\n",
              "      <td>15</td>\n",
              "      <td>15</td>\n",
              "      <td>15</td>\n",
              "    </tr>\n",
              "    <tr>\n",
              "      <th>Xxviii - The Apartments of 28 Waterloo Street North</th>\n",
              "      <td>6</td>\n",
              "      <td>6</td>\n",
              "      <td>6</td>\n",
              "      <td>6</td>\n",
              "    </tr>\n",
              "  </tbody>\n",
              "</table>\n",
              "<p>76 rows × 4 columns</p>\n",
              "</div>"
            ],
            "text/plain": [
              "                                                    filePath  ...  groundTruth\n",
              "hotelName                                                     ...             \n",
              "172 Ballantyne B &amp; B                                   9  ...            9\n",
              "A B&amp;B on Bay, Acrylic Dreams                          52  ...           52\n",
              "A Garden Stroll B&amp;B                                   17  ...           17\n",
              "A Night at Rosehurst                                      37  ...           37\n",
              "A Patch of Heaven Bed and Breakfast                       12  ...           12\n",
              "...                                                      ...  ...          ...\n",
              "Westmount Motel                                           10  ...           10\n",
              "Whispering Pines of Stratford                             25  ...           25\n",
              "Windsor Hotel                                            107  ...          107\n",
              "Woodmont Guest House                                      15  ...           15\n",
              "Xxviii - The Apartments of 28 Waterloo Street N...         6  ...            6\n",
              "\n",
              "[76 rows x 4 columns]"
            ]
          },
          "metadata": {
            "tags": []
          },
          "execution_count": 6
        }
      ]
    },
    {
      "cell_type": "code",
      "metadata": {
        "id": "AquVm-sU65lH",
        "colab_type": "code",
        "outputId": "3ef11a06-2cfd-4530-d60a-f1864d4cf3d3",
        "colab": {
          "base_uri": "https://localhost:8080/",
          "height": 206
        }
      },
      "source": [
        "hotelDf.head()"
      ],
      "execution_count": 0,
      "outputs": [
        {
          "output_type": "execute_result",
          "data": {
            "text/html": [
              "<div>\n",
              "<style scoped>\n",
              "    .dataframe tbody tr th:only-of-type {\n",
              "        vertical-align: middle;\n",
              "    }\n",
              "\n",
              "    .dataframe tbody tr th {\n",
              "        vertical-align: top;\n",
              "    }\n",
              "\n",
              "    .dataframe thead th {\n",
              "        text-align: right;\n",
              "    }\n",
              "</style>\n",
              "<table border=\"1\" class=\"dataframe\">\n",
              "  <thead>\n",
              "    <tr style=\"text-align: right;\">\n",
              "      <th></th>\n",
              "      <th>filePath</th>\n",
              "      <th>hotelName</th>\n",
              "      <th>reviewColumn</th>\n",
              "      <th>ratingScore</th>\n",
              "      <th>groundTruth</th>\n",
              "    </tr>\n",
              "  </thead>\n",
              "  <tbody>\n",
              "    <tr>\n",
              "      <th>0</th>\n",
              "      <td>data/ca/181736/182000/206859191.html</td>\n",
              "      <td>Courtyard Waterloo St. Jacobs</td>\n",
              "      <td>\"Situated right beside the St Jacob's theatre,...</td>\n",
              "      <td>5</td>\n",
              "      <td>positive</td>\n",
              "    </tr>\n",
              "    <tr>\n",
              "      <th>1</th>\n",
              "      <td>data/ca/181736/182000/318616131.html</td>\n",
              "      <td>Courtyard Waterloo St. Jacobs</td>\n",
              "      <td>\"My family and I arrived recently on a Friday ...</td>\n",
              "      <td>4</td>\n",
              "      <td>positive</td>\n",
              "    </tr>\n",
              "    <tr>\n",
              "      <th>2</th>\n",
              "      <td>data/ca/181736/182000/691359341.html</td>\n",
              "      <td>Courtyard Waterloo St. Jacobs</td>\n",
              "      <td>\"The staff at the front desk were lovely (WHEN...</td>\n",
              "      <td>2</td>\n",
              "      <td>negative</td>\n",
              "    </tr>\n",
              "    <tr>\n",
              "      <th>3</th>\n",
              "      <td>data/ca/181736/182000/356425412.html</td>\n",
              "      <td>Courtyard Waterloo St. Jacobs</td>\n",
              "      <td>\"The manager of the housekeeping was very rude...</td>\n",
              "      <td>1</td>\n",
              "      <td>negative</td>\n",
              "    </tr>\n",
              "    <tr>\n",
              "      <th>4</th>\n",
              "      <td>data/ca/181736/182000/153795869.html</td>\n",
              "      <td>Courtyard Waterloo St. Jacobs</td>\n",
              "      <td>\"The hotel is wonderfully clean, staff is very...</td>\n",
              "      <td>3</td>\n",
              "      <td>negative</td>\n",
              "    </tr>\n",
              "  </tbody>\n",
              "</table>\n",
              "</div>"
            ],
            "text/plain": [
              "                               filePath  ... groundTruth\n",
              "0  data/ca/181736/182000/206859191.html  ...    positive\n",
              "1  data/ca/181736/182000/318616131.html  ...    positive\n",
              "2  data/ca/181736/182000/691359341.html  ...    negative\n",
              "3  data/ca/181736/182000/356425412.html  ...    negative\n",
              "4  data/ca/181736/182000/153795869.html  ...    negative\n",
              "\n",
              "[5 rows x 5 columns]"
            ]
          },
          "metadata": {
            "tags": []
          },
          "execution_count": 7
        }
      ]
    },
    {
      "cell_type": "markdown",
      "metadata": {
        "id": "u9sKExoy2xvn",
        "colab_type": "text"
      },
      "source": [
        "# Q1. Sentiment Analysis and Aggregation"
      ]
    },
    {
      "cell_type": "markdown",
      "metadata": {
        "id": "KrJHfR2B22_S",
        "colab_type": "text"
      },
      "source": [
        "## (a) Compute average Vader sentiment and average ground truth rating per hotel."
      ]
    },
    {
      "cell_type": "code",
      "metadata": {
        "id": "10rHFXhZU2mH",
        "colab_type": "code",
        "colab": {}
      },
      "source": [
        "# Copied and modiefed fro lab mateiral\n",
        "# Use vader to evaluated sentiment of reviews\n",
        "def evalSentences(sentences, to_df=False, columns=[]):\n",
        "    #Instantiate an instance to access SentimentIntensityAnalyzer class\n",
        "    sid = SentimentIntensityAnalyzer()\n",
        "    pdlist = []\n",
        "    if to_df:\n",
        "        for sentence in tqdm(sentences):\n",
        "            ss = sid.polarity_scores(sentence)\n",
        "            pdlist.append([sentence]+[ss['compound']])\n",
        "        reviewDf = pandas.DataFrame(pdlist)\n",
        "        reviewDf.columns = columns\n",
        "        return reviewDf\n",
        "    \n",
        "    else:\n",
        "        for sentence in tqdm(sentences):\n",
        "            print(sentence)\n",
        "            ss = sid.polarity_scores(sentence)\n",
        "            for k in sorted(ss):\n",
        "                print('{0}: {1}, '.format(k, ss[k]), end='')\n",
        "            print()"
      ],
      "execution_count": 0,
      "outputs": []
    },
    {
      "cell_type": "code",
      "metadata": {
        "id": "DbEWycWzU6gQ",
        "colab_type": "code",
        "colab": {}
      },
      "source": [
        "# Copied and modifed from lab material\n",
        "reviews = hotelDf['reviewColumn'].values"
      ],
      "execution_count": 0,
      "outputs": []
    },
    {
      "cell_type": "code",
      "metadata": {
        "id": "7-AybTK5U8di",
        "colab_type": "code",
        "outputId": "26da7df2-5c7d-4f85-9f46-313357054b17",
        "colab": {
          "base_uri": "https://localhost:8080/",
          "height": 34
        }
      },
      "source": [
        "# Copied and modifed from lab material\n",
        "reviewDF = evalSentences(reviews, to_df=True, columns=['reviewCol','vader'])"
      ],
      "execution_count": 0,
      "outputs": [
        {
          "output_type": "stream",
          "text": [
            "100%|██████████| 5598/5598 [00:06<00:00, 830.35it/s]\n"
          ],
          "name": "stderr"
        }
      ]
    },
    {
      "cell_type": "code",
      "metadata": {
        "id": "-J-tn2ROVAqa",
        "colab_type": "code",
        "outputId": "42f776c5-f4ca-41f6-d8a2-e38f6f1a7358",
        "colab": {
          "base_uri": "https://localhost:8080/",
          "height": 206
        }
      },
      "source": [
        "# Copied and modifed from lab material\n",
        "reviewDF.head()"
      ],
      "execution_count": 0,
      "outputs": [
        {
          "output_type": "execute_result",
          "data": {
            "text/html": [
              "<div>\n",
              "<style scoped>\n",
              "    .dataframe tbody tr th:only-of-type {\n",
              "        vertical-align: middle;\n",
              "    }\n",
              "\n",
              "    .dataframe tbody tr th {\n",
              "        vertical-align: top;\n",
              "    }\n",
              "\n",
              "    .dataframe thead th {\n",
              "        text-align: right;\n",
              "    }\n",
              "</style>\n",
              "<table border=\"1\" class=\"dataframe\">\n",
              "  <thead>\n",
              "    <tr style=\"text-align: right;\">\n",
              "      <th></th>\n",
              "      <th>reviewCol</th>\n",
              "      <th>vader</th>\n",
              "    </tr>\n",
              "  </thead>\n",
              "  <tbody>\n",
              "    <tr>\n",
              "      <th>0</th>\n",
              "      <td>\"Situated right beside the St Jacob's theatre,...</td>\n",
              "      <td>0.5106</td>\n",
              "    </tr>\n",
              "    <tr>\n",
              "      <th>1</th>\n",
              "      <td>\"My family and I arrived recently on a Friday ...</td>\n",
              "      <td>0.9108</td>\n",
              "    </tr>\n",
              "    <tr>\n",
              "      <th>2</th>\n",
              "      <td>\"The staff at the front desk were lovely (WHEN...</td>\n",
              "      <td>0.5647</td>\n",
              "    </tr>\n",
              "    <tr>\n",
              "      <th>3</th>\n",
              "      <td>\"The manager of the housekeeping was very rude...</td>\n",
              "      <td>-0.4754</td>\n",
              "    </tr>\n",
              "    <tr>\n",
              "      <th>4</th>\n",
              "      <td>\"The hotel is wonderfully clean, staff is very...</td>\n",
              "      <td>0.9961</td>\n",
              "    </tr>\n",
              "  </tbody>\n",
              "</table>\n",
              "</div>"
            ],
            "text/plain": [
              "                                           reviewCol   vader\n",
              "0  \"Situated right beside the St Jacob's theatre,...  0.5106\n",
              "1  \"My family and I arrived recently on a Friday ...  0.9108\n",
              "2  \"The staff at the front desk were lovely (WHEN...  0.5647\n",
              "3  \"The manager of the housekeeping was very rude... -0.4754\n",
              "4  \"The hotel is wonderfully clean, staff is very...  0.9961"
            ]
          },
          "metadata": {
            "tags": []
          },
          "execution_count": 11
        }
      ]
    },
    {
      "cell_type": "code",
      "metadata": {
        "id": "fAuZicPwK0z6",
        "colab_type": "code",
        "colab": {}
      },
      "source": [
        "# Calcuate vader score for each review\n",
        "vader_score = []\n",
        "for review in hotelDf['reviewColumn']:\n",
        "  vader_score.append(SentimentIntensityAnalyzer().polarity_scores(review)['compound']) # extract the compound"
      ],
      "execution_count": 0,
      "outputs": []
    },
    {
      "cell_type": "code",
      "metadata": {
        "id": "IfE9QkN6S7o-",
        "colab_type": "code",
        "colab": {}
      },
      "source": [
        "hotelDf['vader'] = vader_score"
      ],
      "execution_count": 0,
      "outputs": []
    },
    {
      "cell_type": "code",
      "metadata": {
        "id": "e3-Xq3W5TGrs",
        "colab_type": "code",
        "outputId": "b11c5376-0b02-4054-a3d5-56d08b0ebbef",
        "colab": {
          "base_uri": "https://localhost:8080/",
          "height": 206
        }
      },
      "source": [
        "hotelDf.head()"
      ],
      "execution_count": 0,
      "outputs": [
        {
          "output_type": "execute_result",
          "data": {
            "text/html": [
              "<div>\n",
              "<style scoped>\n",
              "    .dataframe tbody tr th:only-of-type {\n",
              "        vertical-align: middle;\n",
              "    }\n",
              "\n",
              "    .dataframe tbody tr th {\n",
              "        vertical-align: top;\n",
              "    }\n",
              "\n",
              "    .dataframe thead th {\n",
              "        text-align: right;\n",
              "    }\n",
              "</style>\n",
              "<table border=\"1\" class=\"dataframe\">\n",
              "  <thead>\n",
              "    <tr style=\"text-align: right;\">\n",
              "      <th></th>\n",
              "      <th>filePath</th>\n",
              "      <th>hotelName</th>\n",
              "      <th>reviewColumn</th>\n",
              "      <th>ratingScore</th>\n",
              "      <th>groundTruth</th>\n",
              "      <th>vader</th>\n",
              "    </tr>\n",
              "  </thead>\n",
              "  <tbody>\n",
              "    <tr>\n",
              "      <th>0</th>\n",
              "      <td>data/ca/181736/182000/206859191.html</td>\n",
              "      <td>Courtyard Waterloo St. Jacobs</td>\n",
              "      <td>\"Situated right beside the St Jacob's theatre,...</td>\n",
              "      <td>5</td>\n",
              "      <td>positive</td>\n",
              "      <td>0.5106</td>\n",
              "    </tr>\n",
              "    <tr>\n",
              "      <th>1</th>\n",
              "      <td>data/ca/181736/182000/318616131.html</td>\n",
              "      <td>Courtyard Waterloo St. Jacobs</td>\n",
              "      <td>\"My family and I arrived recently on a Friday ...</td>\n",
              "      <td>4</td>\n",
              "      <td>positive</td>\n",
              "      <td>0.9108</td>\n",
              "    </tr>\n",
              "    <tr>\n",
              "      <th>2</th>\n",
              "      <td>data/ca/181736/182000/691359341.html</td>\n",
              "      <td>Courtyard Waterloo St. Jacobs</td>\n",
              "      <td>\"The staff at the front desk were lovely (WHEN...</td>\n",
              "      <td>2</td>\n",
              "      <td>negative</td>\n",
              "      <td>0.5647</td>\n",
              "    </tr>\n",
              "    <tr>\n",
              "      <th>3</th>\n",
              "      <td>data/ca/181736/182000/356425412.html</td>\n",
              "      <td>Courtyard Waterloo St. Jacobs</td>\n",
              "      <td>\"The manager of the housekeeping was very rude...</td>\n",
              "      <td>1</td>\n",
              "      <td>negative</td>\n",
              "      <td>-0.4754</td>\n",
              "    </tr>\n",
              "    <tr>\n",
              "      <th>4</th>\n",
              "      <td>data/ca/181736/182000/153795869.html</td>\n",
              "      <td>Courtyard Waterloo St. Jacobs</td>\n",
              "      <td>\"The hotel is wonderfully clean, staff is very...</td>\n",
              "      <td>3</td>\n",
              "      <td>negative</td>\n",
              "      <td>0.9961</td>\n",
              "    </tr>\n",
              "  </tbody>\n",
              "</table>\n",
              "</div>"
            ],
            "text/plain": [
              "                               filePath  ...   vader\n",
              "0  data/ca/181736/182000/206859191.html  ...  0.5106\n",
              "1  data/ca/181736/182000/318616131.html  ...  0.9108\n",
              "2  data/ca/181736/182000/691359341.html  ...  0.5647\n",
              "3  data/ca/181736/182000/356425412.html  ... -0.4754\n",
              "4  data/ca/181736/182000/153795869.html  ...  0.9961\n",
              "\n",
              "[5 rows x 6 columns]"
            ]
          },
          "metadata": {
            "tags": []
          },
          "execution_count": 14
        }
      ]
    },
    {
      "cell_type": "code",
      "metadata": {
        "id": "lUwKjrprUGbP",
        "colab_type": "code",
        "outputId": "f1f1dc80-e3d7-4d42-dc46-8328c2adf1bd",
        "colab": {
          "base_uri": "https://localhost:8080/",
          "height": 424
        }
      },
      "source": [
        "# Average ground truth rating per hotel\n",
        "hotel_AVGrating = hotelDf.groupby('hotelName')['ratingScore'].mean().reset_index()\n",
        "hotel_AVGrating"
      ],
      "execution_count": 0,
      "outputs": [
        {
          "output_type": "execute_result",
          "data": {
            "text/html": [
              "<div>\n",
              "<style scoped>\n",
              "    .dataframe tbody tr th:only-of-type {\n",
              "        vertical-align: middle;\n",
              "    }\n",
              "\n",
              "    .dataframe tbody tr th {\n",
              "        vertical-align: top;\n",
              "    }\n",
              "\n",
              "    .dataframe thead th {\n",
              "        text-align: right;\n",
              "    }\n",
              "</style>\n",
              "<table border=\"1\" class=\"dataframe\">\n",
              "  <thead>\n",
              "    <tr style=\"text-align: right;\">\n",
              "      <th></th>\n",
              "      <th>hotelName</th>\n",
              "      <th>ratingScore</th>\n",
              "    </tr>\n",
              "  </thead>\n",
              "  <tbody>\n",
              "    <tr>\n",
              "      <th>0</th>\n",
              "      <td>172 Ballantyne B &amp;amp; B</td>\n",
              "      <td>4.888889</td>\n",
              "    </tr>\n",
              "    <tr>\n",
              "      <th>1</th>\n",
              "      <td>A B&amp;amp;B on Bay, Acrylic Dreams</td>\n",
              "      <td>4.884615</td>\n",
              "    </tr>\n",
              "    <tr>\n",
              "      <th>2</th>\n",
              "      <td>A Garden Stroll B&amp;amp;B</td>\n",
              "      <td>4.529412</td>\n",
              "    </tr>\n",
              "    <tr>\n",
              "      <th>3</th>\n",
              "      <td>A Night at Rosehurst</td>\n",
              "      <td>4.945946</td>\n",
              "    </tr>\n",
              "    <tr>\n",
              "      <th>4</th>\n",
              "      <td>A Patch of Heaven Bed and Breakfast</td>\n",
              "      <td>4.916667</td>\n",
              "    </tr>\n",
              "    <tr>\n",
              "      <th>...</th>\n",
              "      <td>...</td>\n",
              "      <td>...</td>\n",
              "    </tr>\n",
              "    <tr>\n",
              "      <th>71</th>\n",
              "      <td>Westmount Motel</td>\n",
              "      <td>3.400000</td>\n",
              "    </tr>\n",
              "    <tr>\n",
              "      <th>72</th>\n",
              "      <td>Whispering Pines of Stratford</td>\n",
              "      <td>4.960000</td>\n",
              "    </tr>\n",
              "    <tr>\n",
              "      <th>73</th>\n",
              "      <td>Windsor Hotel</td>\n",
              "      <td>2.710280</td>\n",
              "    </tr>\n",
              "    <tr>\n",
              "      <th>74</th>\n",
              "      <td>Woodmont Guest House</td>\n",
              "      <td>4.933333</td>\n",
              "    </tr>\n",
              "    <tr>\n",
              "      <th>75</th>\n",
              "      <td>Xxviii - The Apartments of 28 Waterloo Street ...</td>\n",
              "      <td>4.500000</td>\n",
              "    </tr>\n",
              "  </tbody>\n",
              "</table>\n",
              "<p>76 rows × 2 columns</p>\n",
              "</div>"
            ],
            "text/plain": [
              "                                            hotelName  ratingScore\n",
              "0                            172 Ballantyne B &amp; B     4.888889\n",
              "1                    A B&amp;B on Bay, Acrylic Dreams     4.884615\n",
              "2                             A Garden Stroll B&amp;B     4.529412\n",
              "3                                A Night at Rosehurst     4.945946\n",
              "4                 A Patch of Heaven Bed and Breakfast     4.916667\n",
              "..                                                ...          ...\n",
              "71                                    Westmount Motel     3.400000\n",
              "72                      Whispering Pines of Stratford     4.960000\n",
              "73                                      Windsor Hotel     2.710280\n",
              "74                               Woodmont Guest House     4.933333\n",
              "75  Xxviii - The Apartments of 28 Waterloo Street ...     4.500000\n",
              "\n",
              "[76 rows x 2 columns]"
            ]
          },
          "metadata": {
            "tags": []
          },
          "execution_count": 15
        }
      ]
    },
    {
      "cell_type": "markdown",
      "metadata": {
        "id": "VA17Tlui25wf",
        "colab_type": "text"
      },
      "source": [
        "##(b) Rank hotels by \n",
        "(i) Average Ground Truth Sentiment \n",
        "(ii) Average Vader Compound Sentiment Score\n",
        "Show both top-5 and bottom-5 for both ranking methods. Do they agree or are there inter- esting differences?"
      ]
    },
    {
      "cell_type": "markdown",
      "metadata": {
        "id": "bmFuCKWRYqhc",
        "colab_type": "text"
      },
      "source": [
        "### (i) Rank hotels by average ground truth sentiment"
      ]
    },
    {
      "cell_type": "code",
      "metadata": {
        "id": "zDZXShfx3BRF",
        "colab_type": "code",
        "outputId": "51b1e1c1-3e2e-4e10-9cdc-0c25368b0912",
        "colab": {
          "base_uri": "https://localhost:8080/",
          "height": 362
        }
      },
      "source": [
        "# (i) By average ground truth sentiment\n",
        "# Top 5 rankings\n",
        "hotel_AVGrating.sort_values(by='ratingScore',ascending = False).head(10)"
      ],
      "execution_count": 0,
      "outputs": [
        {
          "output_type": "execute_result",
          "data": {
            "text/html": [
              "<div>\n",
              "<style scoped>\n",
              "    .dataframe tbody tr th:only-of-type {\n",
              "        vertical-align: middle;\n",
              "    }\n",
              "\n",
              "    .dataframe tbody tr th {\n",
              "        vertical-align: top;\n",
              "    }\n",
              "\n",
              "    .dataframe thead th {\n",
              "        text-align: right;\n",
              "    }\n",
              "</style>\n",
              "<table border=\"1\" class=\"dataframe\">\n",
              "  <thead>\n",
              "    <tr style=\"text-align: right;\">\n",
              "      <th></th>\n",
              "      <th>hotelName</th>\n",
              "      <th>ratingScore</th>\n",
              "    </tr>\n",
              "  </thead>\n",
              "  <tbody>\n",
              "    <tr>\n",
              "      <th>24</th>\n",
              "      <td>Cottage on Caledonia</td>\n",
              "      <td>5.000000</td>\n",
              "    </tr>\n",
              "    <tr>\n",
              "      <th>36</th>\n",
              "      <td>Hatfield House on Hibernia B and  B</td>\n",
              "      <td>5.000000</td>\n",
              "    </tr>\n",
              "    <tr>\n",
              "      <th>27</th>\n",
              "      <td>Daly House Boutique Bed &amp;amp; Breakfast</td>\n",
              "      <td>5.000000</td>\n",
              "    </tr>\n",
              "    <tr>\n",
              "      <th>67</th>\n",
              "      <td>The Robin Goodfellow B&amp;amp;B</td>\n",
              "      <td>5.000000</td>\n",
              "    </tr>\n",
              "    <tr>\n",
              "      <th>15</th>\n",
              "      <td>Avonview Manor</td>\n",
              "      <td>5.000000</td>\n",
              "    </tr>\n",
              "    <tr>\n",
              "      <th>48</th>\n",
              "      <td>Newhaven on the River</td>\n",
              "      <td>5.000000</td>\n",
              "    </tr>\n",
              "    <tr>\n",
              "      <th>32</th>\n",
              "      <td>Evanndor</td>\n",
              "      <td>5.000000</td>\n",
              "    </tr>\n",
              "    <tr>\n",
              "      <th>64</th>\n",
              "      <td>The Old Rectory</td>\n",
              "      <td>4.988235</td>\n",
              "    </tr>\n",
              "    <tr>\n",
              "      <th>19</th>\n",
              "      <td>Birmingham Manor Bed and Breakfast</td>\n",
              "      <td>4.973404</td>\n",
              "    </tr>\n",
              "    <tr>\n",
              "      <th>14</th>\n",
              "      <td>Avery House B&amp;amp;B</td>\n",
              "      <td>4.966667</td>\n",
              "    </tr>\n",
              "  </tbody>\n",
              "</table>\n",
              "</div>"
            ],
            "text/plain": [
              "                                  hotelName  ratingScore\n",
              "24                     Cottage on Caledonia     5.000000\n",
              "36      Hatfield House on Hibernia B and  B     5.000000\n",
              "27  Daly House Boutique Bed &amp; Breakfast     5.000000\n",
              "67             The Robin Goodfellow B&amp;B     5.000000\n",
              "15                           Avonview Manor     5.000000\n",
              "48                    Newhaven on the River     5.000000\n",
              "32                                 Evanndor     5.000000\n",
              "64                          The Old Rectory     4.988235\n",
              "19       Birmingham Manor Bed and Breakfast     4.973404\n",
              "14                      Avery House B&amp;B     4.966667"
            ]
          },
          "metadata": {
            "tags": []
          },
          "execution_count": 16
        }
      ]
    },
    {
      "cell_type": "code",
      "metadata": {
        "id": "9nKRdFg0YCuW",
        "colab_type": "code",
        "outputId": "90c5810d-31ef-4761-f84c-87201c72eab7",
        "colab": {
          "base_uri": "https://localhost:8080/",
          "height": 206
        }
      },
      "source": [
        "hotel_AVGrating.sort_values(by='ratingScore',ascending = False).tail()"
      ],
      "execution_count": 0,
      "outputs": [
        {
          "output_type": "execute_result",
          "data": {
            "text/html": [
              "<div>\n",
              "<style scoped>\n",
              "    .dataframe tbody tr th:only-of-type {\n",
              "        vertical-align: middle;\n",
              "    }\n",
              "\n",
              "    .dataframe tbody tr th {\n",
              "        vertical-align: top;\n",
              "    }\n",
              "\n",
              "    .dataframe thead th {\n",
              "        text-align: right;\n",
              "    }\n",
              "</style>\n",
              "<table border=\"1\" class=\"dataframe\">\n",
              "  <thead>\n",
              "    <tr style=\"text-align: right;\">\n",
              "      <th></th>\n",
              "      <th>hotelName</th>\n",
              "      <th>ratingScore</th>\n",
              "    </tr>\n",
              "  </thead>\n",
              "  <tbody>\n",
              "    <tr>\n",
              "      <th>56</th>\n",
              "      <td>St. George Suites</td>\n",
              "      <td>3.200000</td>\n",
              "    </tr>\n",
              "    <tr>\n",
              "      <th>47</th>\n",
              "      <td>Newburg Inn</td>\n",
              "      <td>2.750000</td>\n",
              "    </tr>\n",
              "    <tr>\n",
              "      <th>73</th>\n",
              "      <td>Windsor Hotel</td>\n",
              "      <td>2.710280</td>\n",
              "    </tr>\n",
              "    <tr>\n",
              "      <th>49</th>\n",
              "      <td>Noretta Motel</td>\n",
              "      <td>2.533333</td>\n",
              "    </tr>\n",
              "    <tr>\n",
              "      <th>54</th>\n",
              "      <td>Rosecourt Motel</td>\n",
              "      <td>2.315789</td>\n",
              "    </tr>\n",
              "  </tbody>\n",
              "</table>\n",
              "</div>"
            ],
            "text/plain": [
              "            hotelName  ratingScore\n",
              "56  St. George Suites     3.200000\n",
              "47        Newburg Inn     2.750000\n",
              "73      Windsor Hotel     2.710280\n",
              "49      Noretta Motel     2.533333\n",
              "54    Rosecourt Motel     2.315789"
            ]
          },
          "metadata": {
            "tags": []
          },
          "execution_count": 17
        }
      ]
    },
    {
      "cell_type": "markdown",
      "metadata": {
        "id": "zOvvSqZnYj99",
        "colab_type": "text"
      },
      "source": [
        "### (ii) Rank hotels by average vader compond sentiment score"
      ]
    },
    {
      "cell_type": "code",
      "metadata": {
        "id": "oS2DEiWuWne3",
        "colab_type": "code",
        "outputId": "2b5107b2-0b98-4e99-e9b4-99b3bf08a080",
        "colab": {
          "base_uri": "https://localhost:8080/",
          "height": 206
        }
      },
      "source": [
        "# Top 5 rankings\n",
        "hotel_AVG_vader = hotelDf.groupby('hotelName')['vader'].mean().reset_index()\n",
        "hotel_AVG_vader.sort_values(by='vader',ascending = False).head()"
      ],
      "execution_count": 0,
      "outputs": [
        {
          "output_type": "execute_result",
          "data": {
            "text/html": [
              "<div>\n",
              "<style scoped>\n",
              "    .dataframe tbody tr th:only-of-type {\n",
              "        vertical-align: middle;\n",
              "    }\n",
              "\n",
              "    .dataframe tbody tr th {\n",
              "        vertical-align: top;\n",
              "    }\n",
              "\n",
              "    .dataframe thead th {\n",
              "        text-align: right;\n",
              "    }\n",
              "</style>\n",
              "<table border=\"1\" class=\"dataframe\">\n",
              "  <thead>\n",
              "    <tr style=\"text-align: right;\">\n",
              "      <th></th>\n",
              "      <th>hotelName</th>\n",
              "      <th>vader</th>\n",
              "    </tr>\n",
              "  </thead>\n",
              "  <tbody>\n",
              "    <tr>\n",
              "      <th>35</th>\n",
              "      <td>Ginger Jar Guest House</td>\n",
              "      <td>0.993600</td>\n",
              "    </tr>\n",
              "    <tr>\n",
              "      <th>48</th>\n",
              "      <td>Newhaven on the River</td>\n",
              "      <td>0.983460</td>\n",
              "    </tr>\n",
              "    <tr>\n",
              "      <th>32</th>\n",
              "      <td>Evanndor</td>\n",
              "      <td>0.976400</td>\n",
              "    </tr>\n",
              "    <tr>\n",
              "      <th>27</th>\n",
              "      <td>Daly House Boutique Bed &amp;amp; Breakfast</td>\n",
              "      <td>0.974633</td>\n",
              "    </tr>\n",
              "    <tr>\n",
              "      <th>67</th>\n",
              "      <td>The Robin Goodfellow B&amp;amp;B</td>\n",
              "      <td>0.973850</td>\n",
              "    </tr>\n",
              "  </tbody>\n",
              "</table>\n",
              "</div>"
            ],
            "text/plain": [
              "                                  hotelName     vader\n",
              "35                   Ginger Jar Guest House  0.993600\n",
              "48                    Newhaven on the River  0.983460\n",
              "32                                 Evanndor  0.976400\n",
              "27  Daly House Boutique Bed &amp; Breakfast  0.974633\n",
              "67             The Robin Goodfellow B&amp;B  0.973850"
            ]
          },
          "metadata": {
            "tags": []
          },
          "execution_count": 18
        }
      ]
    },
    {
      "cell_type": "code",
      "metadata": {
        "id": "qILsMvPnXnty",
        "colab_type": "code",
        "outputId": "88ffffbe-958f-4a87-9493-6fb2231f1283",
        "colab": {
          "base_uri": "https://localhost:8080/",
          "height": 206
        }
      },
      "source": [
        "# Bottom 5 rankings\n",
        "hotel_AVG_vader.sort_values(by='vader',ascending = False).tail()"
      ],
      "execution_count": 0,
      "outputs": [
        {
          "output_type": "execute_result",
          "data": {
            "text/html": [
              "<div>\n",
              "<style scoped>\n",
              "    .dataframe tbody tr th:only-of-type {\n",
              "        vertical-align: middle;\n",
              "    }\n",
              "\n",
              "    .dataframe tbody tr th {\n",
              "        vertical-align: top;\n",
              "    }\n",
              "\n",
              "    .dataframe thead th {\n",
              "        text-align: right;\n",
              "    }\n",
              "</style>\n",
              "<table border=\"1\" class=\"dataframe\">\n",
              "  <thead>\n",
              "    <tr style=\"text-align: right;\">\n",
              "      <th></th>\n",
              "      <th>hotelName</th>\n",
              "      <th>vader</th>\n",
              "    </tr>\n",
              "  </thead>\n",
              "  <tbody>\n",
              "    <tr>\n",
              "      <th>28</th>\n",
              "      <td>Days Inn by Wyndham Woodstock</td>\n",
              "      <td>0.471586</td>\n",
              "    </tr>\n",
              "    <tr>\n",
              "      <th>73</th>\n",
              "      <td>Windsor Hotel</td>\n",
              "      <td>0.422536</td>\n",
              "    </tr>\n",
              "    <tr>\n",
              "      <th>49</th>\n",
              "      <td>Noretta Motel</td>\n",
              "      <td>0.325790</td>\n",
              "    </tr>\n",
              "    <tr>\n",
              "      <th>54</th>\n",
              "      <td>Rosecourt Motel</td>\n",
              "      <td>0.227063</td>\n",
              "    </tr>\n",
              "    <tr>\n",
              "      <th>47</th>\n",
              "      <td>Newburg Inn</td>\n",
              "      <td>0.066690</td>\n",
              "    </tr>\n",
              "  </tbody>\n",
              "</table>\n",
              "</div>"
            ],
            "text/plain": [
              "                        hotelName     vader\n",
              "28  Days Inn by Wyndham Woodstock  0.471586\n",
              "73                  Windsor Hotel  0.422536\n",
              "49                  Noretta Motel  0.325790\n",
              "54                Rosecourt Motel  0.227063\n",
              "47                    Newburg Inn  0.066690"
            ]
          },
          "metadata": {
            "tags": []
          },
          "execution_count": 19
        }
      ]
    },
    {
      "cell_type": "markdown",
      "metadata": {
        "id": "8EOlDM7SY-G9",
        "colab_type": "text"
      },
      "source": [
        "As for top 5 rankning, two out of five are matching while 4 out of 5 are matching for the bottom 5 rankning."
      ]
    },
    {
      "cell_type": "markdown",
      "metadata": {
        "id": "M2hyZZ-2ZnvI",
        "colab_type": "text"
      },
      "source": [
        "# Q2. Frequency Analysis"
      ]
    },
    {
      "cell_type": "markdown",
      "metadata": {
        "id": "-d3aEJJuaGaU",
        "colab_type": "text"
      },
      "source": [
        "## Data Cleaning"
      ]
    },
    {
      "cell_type": "code",
      "metadata": {
        "id": "MkdeQX5h3kYW",
        "colab_type": "code",
        "colab": {}
      },
      "source": [
        "def cleaning_text (text):\n",
        "  #Remove all the punctuation: !\"#$%&\\'()*+,-./:;<=>?@[\\\\]^_`{|}~\n",
        "  text  = \"\".join([char for char in text if char not in string.punctuation])\n",
        "  df_cleaned = text.lower()\n",
        "  # Remove urls\n",
        "  df_cleaned = re.sub(r'https?://\\S+ ?', '', df_cleaned)\n",
        "  # Remove Stop words\n",
        "  Stop_word_list = ['hotel','rooms','room','www','com','stratford','stay','staff','jacob','stratford festiv']\n",
        "  Stop_Words = set(stopwords + Stop_word_list)\n",
        "  #Stop_Words.add(Stop_word_list) \n",
        "\n",
        "  df_cleaned = \" \".join([word for word in df_cleaned.split() if word not in Stop_Words])\n",
        "  return df_cleaned"
      ],
      "execution_count": 0,
      "outputs": []
    },
    {
      "cell_type": "code",
      "metadata": {
        "id": "N-O1JOZc2Yhm",
        "colab_type": "code",
        "colab": {}
      },
      "source": [
        "# Clean ReviewDF dataset\n",
        "reviewDF_cleaned = reviewDF.copy()\n",
        "reviewDF_cleaned['reviewCol'] = reviewDF['reviewCol'] .apply(cleaning_text)"
      ],
      "execution_count": 0,
      "outputs": []
    },
    {
      "cell_type": "code",
      "metadata": {
        "id": "NIFUUu1dQzNg",
        "colab_type": "code",
        "outputId": "efb32f13-d669-4a6a-e558-ae858443499d",
        "colab": {
          "base_uri": "https://localhost:8080/",
          "height": 206
        }
      },
      "source": [
        "# View cleaned review df\n",
        "reviewDF_cleaned.head()"
      ],
      "execution_count": 0,
      "outputs": [
        {
          "output_type": "execute_result",
          "data": {
            "text/html": [
              "<div>\n",
              "<style scoped>\n",
              "    .dataframe tbody tr th:only-of-type {\n",
              "        vertical-align: middle;\n",
              "    }\n",
              "\n",
              "    .dataframe tbody tr th {\n",
              "        vertical-align: top;\n",
              "    }\n",
              "\n",
              "    .dataframe thead th {\n",
              "        text-align: right;\n",
              "    }\n",
              "</style>\n",
              "<table border=\"1\" class=\"dataframe\">\n",
              "  <thead>\n",
              "    <tr style=\"text-align: right;\">\n",
              "      <th></th>\n",
              "      <th>reviewCol</th>\n",
              "      <th>vader</th>\n",
              "    </tr>\n",
              "  </thead>\n",
              "  <tbody>\n",
              "    <tr>\n",
              "      <th>0</th>\n",
              "      <td>situated right beside st jacobs theatre steps ...</td>\n",
              "      <td>0.5106</td>\n",
              "    </tr>\n",
              "    <tr>\n",
              "      <th>1</th>\n",
              "      <td>family arrived recently friday night booked 2 ...</td>\n",
              "      <td>0.9108</td>\n",
              "    </tr>\n",
              "    <tr>\n",
              "      <th>2</th>\n",
              "      <td>front desk lovely could actually locate someon...</td>\n",
              "      <td>0.5647</td>\n",
              "    </tr>\n",
              "    <tr>\n",
              "      <th>3</th>\n",
              "      <td>manager housekeeping rude seemed annoyed every...</td>\n",
              "      <td>-0.4754</td>\n",
              "    </tr>\n",
              "    <tr>\n",
              "      <th>4</th>\n",
              "      <td>wonderfully clean friendly first seems great l...</td>\n",
              "      <td>0.9961</td>\n",
              "    </tr>\n",
              "  </tbody>\n",
              "</table>\n",
              "</div>"
            ],
            "text/plain": [
              "                                           reviewCol   vader\n",
              "0  situated right beside st jacobs theatre steps ...  0.5106\n",
              "1  family arrived recently friday night booked 2 ...  0.9108\n",
              "2  front desk lovely could actually locate someon...  0.5647\n",
              "3  manager housekeeping rude seemed annoyed every... -0.4754\n",
              "4  wonderfully clean friendly first seems great l...  0.9961"
            ]
          },
          "metadata": {
            "tags": []
          },
          "execution_count": 22
        }
      ]
    },
    {
      "cell_type": "code",
      "metadata": {
        "id": "I42kJaQj3kfI",
        "colab_type": "code",
        "colab": {}
      },
      "source": [
        "# Clean the hotelDf dataset\n",
        "hotelDf_cleaned = hotelDf.copy()\n",
        "hotelDf_cleaned ['reviewColumn'] = hotelDf['reviewColumn'].apply(cleaning_text)"
      ],
      "execution_count": 0,
      "outputs": []
    },
    {
      "cell_type": "code",
      "metadata": {
        "id": "J9-Fonf5gB3c",
        "colab_type": "code",
        "outputId": "03e60716-3338-4996-b260-5168481f2638",
        "colab": {
          "base_uri": "https://localhost:8080/",
          "height": 144
        }
      },
      "source": [
        "# View cleaned Hotel df \n",
        "hotelDf_cleaned.head(3)"
      ],
      "execution_count": 0,
      "outputs": [
        {
          "output_type": "execute_result",
          "data": {
            "text/html": [
              "<div>\n",
              "<style scoped>\n",
              "    .dataframe tbody tr th:only-of-type {\n",
              "        vertical-align: middle;\n",
              "    }\n",
              "\n",
              "    .dataframe tbody tr th {\n",
              "        vertical-align: top;\n",
              "    }\n",
              "\n",
              "    .dataframe thead th {\n",
              "        text-align: right;\n",
              "    }\n",
              "</style>\n",
              "<table border=\"1\" class=\"dataframe\">\n",
              "  <thead>\n",
              "    <tr style=\"text-align: right;\">\n",
              "      <th></th>\n",
              "      <th>filePath</th>\n",
              "      <th>hotelName</th>\n",
              "      <th>reviewColumn</th>\n",
              "      <th>ratingScore</th>\n",
              "      <th>groundTruth</th>\n",
              "      <th>vader</th>\n",
              "    </tr>\n",
              "  </thead>\n",
              "  <tbody>\n",
              "    <tr>\n",
              "      <th>0</th>\n",
              "      <td>data/ca/181736/182000/206859191.html</td>\n",
              "      <td>Courtyard Waterloo St. Jacobs</td>\n",
              "      <td>situated right beside st jacobs theatre steps ...</td>\n",
              "      <td>5</td>\n",
              "      <td>positive</td>\n",
              "      <td>0.5106</td>\n",
              "    </tr>\n",
              "    <tr>\n",
              "      <th>1</th>\n",
              "      <td>data/ca/181736/182000/318616131.html</td>\n",
              "      <td>Courtyard Waterloo St. Jacobs</td>\n",
              "      <td>family arrived recently friday night booked 2 ...</td>\n",
              "      <td>4</td>\n",
              "      <td>positive</td>\n",
              "      <td>0.9108</td>\n",
              "    </tr>\n",
              "    <tr>\n",
              "      <th>2</th>\n",
              "      <td>data/ca/181736/182000/691359341.html</td>\n",
              "      <td>Courtyard Waterloo St. Jacobs</td>\n",
              "      <td>front desk lovely could actually locate someon...</td>\n",
              "      <td>2</td>\n",
              "      <td>negative</td>\n",
              "      <td>0.5647</td>\n",
              "    </tr>\n",
              "  </tbody>\n",
              "</table>\n",
              "</div>"
            ],
            "text/plain": [
              "                               filePath  ...   vader\n",
              "0  data/ca/181736/182000/206859191.html  ...  0.5106\n",
              "1  data/ca/181736/182000/318616131.html  ...  0.9108\n",
              "2  data/ca/181736/182000/691359341.html  ...  0.5647\n",
              "\n",
              "[3 rows x 6 columns]"
            ]
          },
          "metadata": {
            "tags": []
          },
          "execution_count": 24
        }
      ]
    },
    {
      "cell_type": "markdown",
      "metadata": {
        "id": "FVJm62SWaUih",
        "colab_type": "text"
      },
      "source": [
        "##(a) Use term frequency of the words for (i) positive reviews and (ii) negative with ground truth sentiment to rank the top-50 most frequent non-stopwords in the review collection. Do you note anything interesting and/or locale-specific about these top-ranked words?"
      ]
    },
    {
      "cell_type": "code",
      "metadata": {
        "id": "ZLL50szkPpqN",
        "colab_type": "code",
        "colab": {}
      },
      "source": [
        "# The following code is copied from lab\n",
        "def dataFrameTransformation(hotelDf, reviewDF, k):\n",
        "    reviews = reviewDF['reviewCol'].values\n",
        "    \n",
        "    stop = set(stopwords)\n",
        "    \n",
        "    # Top-k frequent terms\n",
        "    counter = Counter()\n",
        "    for review in reviews:\n",
        "            counter.update([word.lower() \n",
        "                            for word \n",
        "                            in re.findall(r'\\w+', review) \n",
        "                            if word.lower() not in stop and len(word) > 2])\n",
        "    topk = counter.most_common(k)        \n",
        "    \n",
        "    #Find out if a particular review has the word from topk list\n",
        "    freqReview = []\n",
        "    for i in range(len(reviews)):\n",
        "        tempCounter = Counter([word.lower() for word in re.findall(r'\\w+',reviews[i])])\n",
        "        topkinReview = [1 if tempCounter[word] > 0 else 0 for (word,wordCount) in topk]\n",
        "        freqReview.append(topkinReview)\n",
        "          \n",
        "    #Prepare freqReviewDf\n",
        "    freqReviewDf = pandas.DataFrame(freqReview)\n",
        "    dfName = []\n",
        "    for c in topk:\n",
        "        dfName.append(c[0])\n",
        "    freqReviewDf.columns = dfName\n",
        "    finalreviewDf = reviewDF.join(freqReviewDf)\n",
        "    finaldf = hotelDf[['hotelName','ratingScore','groundTruth']].join(finalreviewDf)\n",
        "    return topk, finaldf"
      ],
      "execution_count": 0,
      "outputs": []
    },
    {
      "cell_type": "code",
      "metadata": {
        "id": "bNFj4lpBbl94",
        "colab_type": "code",
        "colab": {}
      },
      "source": [
        "def getTopK(df, k, label_value, label_column='groundTruth', operation=operator.eq, value_column='reviewCol'):\n",
        "    stop = set(stopwords)\n",
        "    #Add possible Stop Words for Hotel Reviews\n",
        "    stop.add('hotel')\n",
        "    stop.add('room')\n",
        "    stop.add('rooms')\n",
        "    stop.add('stay')\n",
        "    stop.add('staff')\n",
        "    counter = Counter()\n",
        "    for review in df.loc[operation(df[label_column],label_value)][value_column]:\n",
        "            counter.update([word.lower() \n",
        "                            for word \n",
        "                            in re.findall(r'\\w+', review) \n",
        "                            if word.lower() not in stop and len(word) > 2])\n",
        "    topk = counter.most_common(k)\n",
        "    return topk"
      ],
      "execution_count": 0,
      "outputs": []
    },
    {
      "cell_type": "code",
      "metadata": {
        "id": "qPYOKJRRa6vp",
        "colab_type": "code",
        "colab": {}
      },
      "source": [
        "topk, finaldf = dataFrameTransformation(hotelDf_cleaned, reviewDF_cleaned, k=50)"
      ],
      "execution_count": 0,
      "outputs": []
    },
    {
      "cell_type": "code",
      "metadata": {
        "id": "w8FkJbmxbBk3",
        "colab_type": "code",
        "colab": {}
      },
      "source": [
        "itemAnalysisDf_word = finaldf[['reviewCol','groundTruth','vader']]"
      ],
      "execution_count": 0,
      "outputs": []
    },
    {
      "cell_type": "code",
      "metadata": {
        "id": "YuN7vqSbbgR0",
        "colab_type": "code",
        "colab": {}
      },
      "source": [
        "topkGroundPos_word = getTopK(df=itemAnalysisDf_word, k=50, label_value='positive')"
      ],
      "execution_count": 0,
      "outputs": []
    },
    {
      "cell_type": "code",
      "metadata": {
        "id": "xZ2SHfTncLor",
        "colab_type": "code",
        "colab": {}
      },
      "source": [
        "topkGroundNeg_word = getTopK(df=itemAnalysisDf_word, k=50, label_value='negative')"
      ],
      "execution_count": 0,
      "outputs": []
    },
    {
      "cell_type": "code",
      "metadata": {
        "id": "Rxe7Wxrsb0Pr",
        "colab_type": "code",
        "outputId": "dc0c2540-ea16-4725-ec04-7c658c5239a8",
        "colab": {
          "base_uri": "https://localhost:8080/",
          "height": 884
        }
      },
      "source": [
        "topkGroundPos_word"
      ],
      "execution_count": 0,
      "outputs": [
        {
          "output_type": "execute_result",
          "data": {
            "text/plain": [
              "[('breakfast', 2591),\n",
              " ('great', 2271),\n",
              " ('clean', 2100),\n",
              " ('comfortable', 1743),\n",
              " ('stayed', 1688),\n",
              " ('would', 1432),\n",
              " ('good', 1429),\n",
              " ('well', 1411),\n",
              " ('nice', 1398),\n",
              " ('friendly', 1333),\n",
              " ('one', 1242),\n",
              " ('place', 1184),\n",
              " ('location', 1120),\n",
              " ('time', 1061),\n",
              " ('area', 1016),\n",
              " ('back', 1015),\n",
              " ('bed', 910),\n",
              " ('festival', 910),\n",
              " ('wonderful', 901),\n",
              " ('also', 872),\n",
              " ('lovely', 846),\n",
              " ('home', 821),\n",
              " ('inn', 820),\n",
              " ('like', 815),\n",
              " ('night', 814),\n",
              " ('walk', 807),\n",
              " ('helpful', 795),\n",
              " ('next', 793),\n",
              " ('coffee', 785),\n",
              " ('theatre', 782),\n",
              " ('excellent', 768),\n",
              " ('recommend', 755),\n",
              " ('house', 748),\n",
              " ('beautiful', 740),\n",
              " ('hosts', 723),\n",
              " ('made', 708),\n",
              " ('two', 693),\n",
              " ('food', 688),\n",
              " ('definitely', 688),\n",
              " ('restaurant', 681),\n",
              " ('restaurants', 681),\n",
              " ('quiet', 678),\n",
              " ('best', 669),\n",
              " ('pool', 659),\n",
              " ('service', 653),\n",
              " ('large', 650),\n",
              " ('could', 647),\n",
              " ('everything', 646),\n",
              " ('enjoyed', 639),\n",
              " ('even', 636)]"
            ]
          },
          "metadata": {
            "tags": []
          },
          "execution_count": 31
        }
      ]
    },
    {
      "cell_type": "code",
      "metadata": {
        "id": "OUcY52CpcZBM",
        "colab_type": "code",
        "outputId": "d1df5a3c-5f6c-4194-a68a-2928b5dcfafe",
        "colab": {
          "base_uri": "https://localhost:8080/",
          "height": 884
        }
      },
      "source": [
        "topkGroundNeg_word"
      ],
      "execution_count": 0,
      "outputs": [
        {
          "output_type": "execute_result",
          "data": {
            "text/plain": [
              "[('would', 364),\n",
              " ('one', 331),\n",
              " ('clean', 262),\n",
              " ('breakfast', 260),\n",
              " ('night', 250),\n",
              " ('good', 247),\n",
              " ('could', 217),\n",
              " ('stayed', 211),\n",
              " ('desk', 207),\n",
              " ('bed', 195),\n",
              " ('front', 192),\n",
              " ('like', 184),\n",
              " ('place', 176),\n",
              " ('get', 172),\n",
              " ('bathroom', 166),\n",
              " ('back', 163),\n",
              " ('nice', 162),\n",
              " ('even', 152),\n",
              " ('inn', 151),\n",
              " ('location', 150),\n",
              " ('time', 148),\n",
              " ('small', 147),\n",
              " ('told', 146),\n",
              " ('service', 137),\n",
              " ('didnt', 134),\n",
              " ('great', 131),\n",
              " ('door', 128),\n",
              " ('two', 127),\n",
              " ('pool', 124),\n",
              " ('booked', 118),\n",
              " ('comfortable', 118),\n",
              " ('first', 117),\n",
              " ('parking', 116),\n",
              " ('next', 116),\n",
              " ('said', 115),\n",
              " ('well', 113),\n",
              " ('also', 112),\n",
              " ('coffee', 112),\n",
              " ('motel', 111),\n",
              " ('never', 109),\n",
              " ('need', 107),\n",
              " ('area', 101),\n",
              " ('little', 101),\n",
              " ('check', 101),\n",
              " ('much', 100),\n",
              " ('floor', 100),\n",
              " ('friendly', 99),\n",
              " ('people', 98),\n",
              " ('old', 98),\n",
              " ('shower', 96)]"
            ]
          },
          "metadata": {
            "tags": []
          },
          "execution_count": 32
        }
      ]
    },
    {
      "cell_type": "markdown",
      "metadata": {
        "id": "Z3pT6doUqmUf",
        "colab_type": "text"
      },
      "source": [
        "For postive review, it is noted that the words\" great, well,nice and good did actually apear very offen. For neagtive review,we could also see some \"positive\" words, such as nice, and some negative words, such as small. This could be due to that we may ignore the \"not or no\" and the single word could be very missingleading. For example, not good, not nice and not comfortable."
      ]
    },
    {
      "cell_type": "markdown",
      "metadata": {
        "id": "5-ltSAbQ2eB7",
        "colab_type": "text"
      },
      "source": [
        "## (b) Repeat this analysis for the top-50 noun phrases and note any interesting results."
      ]
    },
    {
      "cell_type": "code",
      "metadata": {
        "id": "dlB6QHRDPTPh",
        "colab_type": "code",
        "colab": {}
      },
      "source": [
        "tagger = PerceptronTagger()\n",
        "pos_tag = tagger.tag\n",
        "\n",
        "grammar = r\"\"\"\n",
        "    NBAR:\n",
        "        {<NN.*|JJ>*<NN.*>}  # Nouns and Adjectives, terminated with Nouns\n",
        "        \n",
        "    NP:\n",
        "        {<NBAR>}\n",
        "        {<NBAR><IN><NBAR>}  # Above, connected with in/of/etc...\n",
        "\"\"\"\n",
        "# Create phrase tree\n",
        "chunker = nltk.RegexpParser(grammar)"
      ],
      "execution_count": 0,
      "outputs": []
    },
    {
      "cell_type": "code",
      "metadata": {
        "id": "GJsBk9sd2f8P",
        "colab_type": "code",
        "colab": {}
      },
      "source": [
        "# The follwoing code is copied and modifed from lab SA\n",
        "\n",
        "# generator, generate leaves one by one\n",
        "def leaves(tree):\n",
        "    \"\"\"Finds NP (nounphrase) leaf nodes of a chunk tree.\"\"\"\n",
        "    for subtree in tree.subtrees(filter = lambda t: t.label()=='NP' or t.label()=='JJ' or t.label()=='RB'):\n",
        "        yield subtree.leaves()\n",
        "\n",
        "# stemming, lematizing, lower case... \n",
        "def normalise(word):\n",
        "    \"\"\"Normalises words to lowercase and stems and lemmatizes it.\"\"\"\n",
        "    word = word.lower()\n",
        "    word = stemmer.stem(word)\n",
        "    word = lemmatizer.lemmatize(word)\n",
        "    return word\n",
        "\n",
        "# stop-words and length control\n",
        "def acceptable_word(word):\n",
        "    \"\"\"Checks conditions for acceptable word: length, stopword.\"\"\"\n",
        "    accepted = bool(2 <= len(word) <= 40\n",
        "        and word.lower() not in stopwords)\n",
        "    return accepted\n",
        "\n",
        "# generator, create item once a time\n",
        "def get_terms(tree):\n",
        "    for leaf in leaves(tree):\n",
        "        term = [normalise(w) for w,t in leaf if acceptable_word(w) ]\n",
        "        # Phrase only\n",
        "        if len(term)>1:\n",
        "            yield term\n",
        "\n",
        "# Flatten phrase lists to get tokens for analysis\n",
        "def flatten(npTokenList):\n",
        "    finalList =[]\n",
        "    for phrase in npTokenList:\n",
        "        token = ''\n",
        "        for word in phrase:\n",
        "            token += word + ' '\n",
        "        finalList.append(token.rstrip())\n",
        "    return finalList"
      ],
      "execution_count": 0,
      "outputs": []
    },
    {
      "cell_type": "code",
      "metadata": {
        "id": "SV-4kHNc-jUr",
        "colab_type": "code",
        "colab": {}
      },
      "source": [
        "def getTopK_phrase(df, k, label_value, label_column='groundTruth', operation=operator.eq, value_column='reviewCol'):\n",
        "    counter = Counter()\n",
        "    for review in df.loc[operation(df[label_column],label_value)][value_column]:\n",
        "            counter.update(flatten([word for word in get_terms(chunker.parse(pos_tag(re.findall(r'\\w+', review))))]))\n",
        "    topk = counter.most_common(k)\n",
        "    return topk"
      ],
      "execution_count": 0,
      "outputs": []
    },
    {
      "cell_type": "code",
      "metadata": {
        "id": "uyjRwU8b4StC",
        "colab_type": "code",
        "colab": {}
      },
      "source": [
        "# Revise the previous dataframe transform function...\n",
        "def newDataFrameTransformation(hotelDf, reviewDF, k=50):\n",
        "    reviews = reviewDF['reviewCol'].values\n",
        "    \n",
        "    # Top-k frequent terms\n",
        "    counter = Counter()\n",
        "    for review in reviews:\n",
        "            counter.update(flatten([word\n",
        "                            for word \n",
        "                            in get_terms(chunker.parse(pos_tag(re.findall(r'\\w+', review)))) \n",
        "                            ]))\n",
        "    topk = counter.most_common(k)        \n",
        "    \n",
        "    #Find out if a particular review has the word from topk list\n",
        "    freqReview = []\n",
        "    for i in range(len(reviews)):\n",
        "        tempCounter = Counter(flatten([word \n",
        "                                       for word \n",
        "                                       in get_terms(chunker.parse(pos_tag(re.findall(r'\\w+',reviews[i]))))]))\n",
        "        topkinReview = [1 if tempCounter[word] > 0 else 0 for (word,wordCount) in topk]\n",
        "        freqReview.append(topkinReview)\n",
        "        \n",
        "        \n",
        "    #Prepare freqReviewDf\n",
        "    freqReviewDf = pandas.DataFrame(freqReview)\n",
        "    dfName = []\n",
        "    for c in topk:\n",
        "        dfName.append(c[0])\n",
        "    freqReviewDf.columns = dfName\n",
        "    finalreviewDf = reviewDF.join(freqReviewDf)\n",
        "    finaldf = hotelDf[['hotelName','ratingScore','groundTruth']].join(finalreviewDf)\n",
        "    return topk, finaldf"
      ],
      "execution_count": 0,
      "outputs": []
    },
    {
      "cell_type": "code",
      "metadata": {
        "id": "tF9LazcxuIxt",
        "colab_type": "code",
        "colab": {}
      },
      "source": [
        "topk_phrase, finaldf_phrase = newDataFrameTransformation(hotelDf_cleaned,reviewDF_cleaned)"
      ],
      "execution_count": 0,
      "outputs": []
    },
    {
      "cell_type": "code",
      "metadata": {
        "id": "eGH9VFvI9TxO",
        "colab_type": "code",
        "colab": {}
      },
      "source": [
        "itemAnalysisDf_phrase = finaldf_phrase[['reviewCol','groundTruth','vader']]"
      ],
      "execution_count": 0,
      "outputs": []
    },
    {
      "cell_type": "markdown",
      "metadata": {
        "id": "VHZu0Mx10JkX",
        "colab_type": "text"
      },
      "source": [
        "#### Top Postive Noun Phrase\n"
      ]
    },
    {
      "cell_type": "code",
      "metadata": {
        "id": "Je-0Llh14IWw",
        "colab_type": "code",
        "colab": {}
      },
      "source": [
        " # Top Postive Noun Phrase\n",
        "topk_phrase_positive = getTopK_phrase(itemAnalysisDf_phrase,k=50,label_value='positive')"
      ],
      "execution_count": 0,
      "outputs": []
    },
    {
      "cell_type": "code",
      "metadata": {
        "id": "x294aqJS_3ll",
        "colab_type": "code",
        "outputId": "119e5fb3-25de-4733-d66b-78a3f31db9fe",
        "colab": {
          "base_uri": "https://localhost:8080/",
          "height": 884
        }
      },
      "source": [
        "topk_phrase_positive"
      ],
      "execution_count": 0,
      "outputs": [
        {
          "output_type": "execute_result",
          "data": {
            "text/plain": [
              "[('next year', 81),\n",
              " ('minut walk', 53),\n",
              " ('front desk', 42),\n",
              " ('first time', 41),\n",
              " ('comfort bed', 41),\n",
              " ('homewood suit', 39),\n",
              " ('graciou host', 34),\n",
              " ('arden park', 34),\n",
              " ('great locat', 33),\n",
              " ('next visit', 32),\n",
              " ('distanc theatr', 32),\n",
              " ('stone maiden inn', 32),\n",
              " ('next time', 31),\n",
              " ('festiv theatr', 31),\n",
              " ('mani year', 31),\n",
              " ('queen bed', 26),\n",
              " ('st jacob', 26),\n",
              " ('great place', 26),\n",
              " ('delici breakfast', 26),\n",
              " ('mani time', 25),\n",
              " ('distanc theater', 24),\n",
              " ('averi hous', 24),\n",
              " ('second time', 23),\n",
              " ('john amanda', 21),\n",
              " ('old rectori', 20),\n",
              " ('new owner', 19),\n",
              " ('parlour inn', 19),\n",
              " ('birmingham manor', 19),\n",
              " ('friend famili', 18),\n",
              " ('elena dom', 18),\n",
              " ('bristol hous', 18),\n",
              " ('farmer market', 17),\n",
              " ('last year', 16),\n",
              " ('acryl dream', 16),\n",
              " ('next door', 15),\n",
              " ('sever time', 15),\n",
              " ('free wifi', 15),\n",
              " ('bed breakfast', 15),\n",
              " ('coffe maker', 14),\n",
              " ('sure everyth', 14),\n",
              " ('sever year', 14),\n",
              " ('short walk', 14),\n",
              " ('good place', 12),\n",
              " ('next day', 12),\n",
              " ('right home', 12),\n",
              " ('good thing', 12),\n",
              " ('main street', 12),\n",
              " ('old friend', 12),\n",
              " ('dinner reserv', 12),\n",
              " ('conni georg', 12)]"
            ]
          },
          "metadata": {
            "tags": []
          },
          "execution_count": 40
        }
      ]
    },
    {
      "cell_type": "markdown",
      "metadata": {
        "id": "-K9lQQyr0ObS",
        "colab_type": "text"
      },
      "source": [
        "####Top Negative Noun Pharse"
      ]
    },
    {
      "cell_type": "code",
      "metadata": {
        "id": "VZP6_dBLx1nN",
        "colab_type": "code",
        "colab": {}
      },
      "source": [
        "# Top Negative Noun Pharse\n",
        "topk_phrase_negative = getTopK_phrase(itemAnalysisDf_phrase,50,label_value='negative')"
      ],
      "execution_count": 0,
      "outputs": []
    },
    {
      "cell_type": "code",
      "metadata": {
        "id": "2vKekYTS_8ke",
        "colab_type": "code",
        "outputId": "4967fd57-2177-400b-97d6-0d5ae51b3499",
        "colab": {
          "base_uri": "https://localhost:8080/",
          "height": 884
        }
      },
      "source": [
        "topk_phrase_negative"
      ],
      "execution_count": 0,
      "outputs": [
        {
          "output_type": "execute_result",
          "data": {
            "text/plain": [
              "[('front desk', 34),\n",
              " ('air condition', 10),\n",
              " ('credit card', 10),\n",
              " ('arden park', 7),\n",
              " ('doubl bed', 6),\n",
              " ('next day', 5),\n",
              " ('free breakfast', 5),\n",
              " ('minut walk', 5),\n",
              " ('great locat', 4),\n",
              " ('second night', 4),\n",
              " ('next morn', 4),\n",
              " ('custom servic', 4),\n",
              " ('late checkout', 4),\n",
              " ('second floor', 4),\n",
              " ('front door', 4),\n",
              " ('hot tub', 4),\n",
              " ('festiv theatr', 4),\n",
              " ('next time', 4),\n",
              " ('second day', 3),\n",
              " ('indoor pool', 3),\n",
              " ('half hour', 3),\n",
              " ('month advanc', 3),\n",
              " ('first night', 3),\n",
              " ('extra sheet', 3),\n",
              " ('park lot', 3),\n",
              " ('ice machin', 3),\n",
              " ('new year', 3),\n",
              " ('web site', 3),\n",
              " ('good locat', 3),\n",
              " ('old build', 3),\n",
              " ('albert street', 3),\n",
              " ('clean bed', 3),\n",
              " ('didnt work', 3),\n",
              " ('speak manag', 3),\n",
              " ('festiv inn', 3),\n",
              " ('mani time', 3),\n",
              " ('sever time', 3),\n",
              " ('new owner', 3),\n",
              " ('good night', 3),\n",
              " ('listen peopl', 2),\n",
              " ('continent breakfast', 2),\n",
              " ('courtyard marriott st jacob', 2),\n",
              " ('night busi', 2),\n",
              " ('complimentari breakfast', 2),\n",
              " ('mani year', 2),\n",
              " ('night daughter', 2),\n",
              " ('phone call', 2),\n",
              " ('extra pillow', 2),\n",
              " ('mani peopl', 2),\n",
              " ('call mainten man', 2)]"
            ]
          },
          "metadata": {
            "tags": []
          },
          "execution_count": 42
        }
      ]
    },
    {
      "cell_type": "markdown",
      "metadata": {
        "id": "WA4XMQi81dGj",
        "colab_type": "text"
      },
      "source": [
        "It is more meaningful with bi-wrods ranking for both postive and negative reveiws. For example, the negative review now contain negative words: small room,late, old build, smell and etc."
      ]
    },
    {
      "cell_type": "markdown",
      "metadata": {
        "id": "eOYGGAnM2kiU",
        "colab_type": "text"
      },
      "source": [
        "# Q3. Mutual Information"
      ]
    },
    {
      "cell_type": "markdown",
      "metadata": {
        "id": "bLvVCzjL2pK1",
        "colab_type": "text"
      },
      "source": [
        "### (a) Use mutual information (MI) with ground truth sentiment to rank the top-50 most sentiment- bearing non-stopwords in the review collection. Do you note anything interesting and/or locale-specific about these top-ranked words?\n"
      ]
    },
    {
      "cell_type": "code",
      "metadata": {
        "id": "l4Nw-62RLcrA",
        "colab_type": "code",
        "colab": {}
      },
      "source": [
        "topk, finaldf = dataFrameTransformation(hotelDf_cleaned, reviewDF_cleaned, k=50)"
      ],
      "execution_count": 0,
      "outputs": []
    },
    {
      "cell_type": "code",
      "metadata": {
        "id": "gr9IEGrR13H5",
        "colab_type": "code",
        "colab": {}
      },
      "source": [
        "# The follwoing code is copied from lab\n",
        "# get Top K mutual information terms from the dataframe\n",
        "def getMI(topk, df, label_column='groundTruth'):\n",
        "    miScore = []\n",
        "    for word in topk:\n",
        "        miScore.append([word[0]]+[metrics.mutual_info_score(df[label_column], df[word[0]])]) # zero means extracting the words\n",
        "    miScoredf = pandas.DataFrame(miScore).sort_values(1,ascending=0)\n",
        "    miScoredf.columns = ['Word','MI Score']\n",
        "    return miScoredf"
      ],
      "execution_count": 0,
      "outputs": []
    },
    {
      "cell_type": "code",
      "metadata": {
        "id": "yOGgHPvE13Ud",
        "colab_type": "code",
        "colab": {}
      },
      "source": [
        "miScoredf = getMI(topk, finaldf)"
      ],
      "execution_count": 0,
      "outputs": []
    },
    {
      "cell_type": "code",
      "metadata": {
        "id": "6yJghKKTP-q4",
        "colab_type": "code",
        "outputId": "9770893d-a4ac-48fc-bad8-83db1cfb6c70",
        "colab": {
          "base_uri": "https://localhost:8080/",
          "height": 362
        }
      },
      "source": [
        "miScoredf.head(10)"
      ],
      "execution_count": 0,
      "outputs": [
        {
          "output_type": "execute_result",
          "data": {
            "text/html": [
              "<div>\n",
              "<style scoped>\n",
              "    .dataframe tbody tr th:only-of-type {\n",
              "        vertical-align: middle;\n",
              "    }\n",
              "\n",
              "    .dataframe tbody tr th {\n",
              "        vertical-align: top;\n",
              "    }\n",
              "\n",
              "    .dataframe thead th {\n",
              "        text-align: right;\n",
              "    }\n",
              "</style>\n",
              "<table border=\"1\" class=\"dataframe\">\n",
              "  <thead>\n",
              "    <tr style=\"text-align: right;\">\n",
              "      <th></th>\n",
              "      <th>Word</th>\n",
              "      <th>MI Score</th>\n",
              "    </tr>\n",
              "  </thead>\n",
              "  <tbody>\n",
              "    <tr>\n",
              "      <th>44</th>\n",
              "      <td>hosts</td>\n",
              "      <td>0.011543</td>\n",
              "    </tr>\n",
              "    <tr>\n",
              "      <th>22</th>\n",
              "      <td>wonderful</td>\n",
              "      <td>0.009775</td>\n",
              "    </tr>\n",
              "    <tr>\n",
              "      <th>1</th>\n",
              "      <td>great</td>\n",
              "      <td>0.007975</td>\n",
              "    </tr>\n",
              "    <tr>\n",
              "      <th>27</th>\n",
              "      <td>could</td>\n",
              "      <td>0.006307</td>\n",
              "    </tr>\n",
              "    <tr>\n",
              "      <th>4</th>\n",
              "      <td>comfortable</td>\n",
              "      <td>0.006228</td>\n",
              "    </tr>\n",
              "    <tr>\n",
              "      <th>41</th>\n",
              "      <td>beautiful</td>\n",
              "      <td>0.005813</td>\n",
              "    </tr>\n",
              "    <tr>\n",
              "      <th>17</th>\n",
              "      <td>night</td>\n",
              "      <td>0.005728</td>\n",
              "    </tr>\n",
              "    <tr>\n",
              "      <th>43</th>\n",
              "      <td>get</td>\n",
              "      <td>0.005335</td>\n",
              "    </tr>\n",
              "    <tr>\n",
              "      <th>25</th>\n",
              "      <td>lovely</td>\n",
              "      <td>0.005217</td>\n",
              "    </tr>\n",
              "    <tr>\n",
              "      <th>33</th>\n",
              "      <td>excellent</td>\n",
              "      <td>0.005095</td>\n",
              "    </tr>\n",
              "  </tbody>\n",
              "</table>\n",
              "</div>"
            ],
            "text/plain": [
              "           Word  MI Score\n",
              "44        hosts  0.011543\n",
              "22    wonderful  0.009775\n",
              "1         great  0.007975\n",
              "27        could  0.006307\n",
              "4   comfortable  0.006228\n",
              "41    beautiful  0.005813\n",
              "17        night  0.005728\n",
              "43          get  0.005335\n",
              "25       lovely  0.005217\n",
              "33    excellent  0.005095"
            ]
          },
          "metadata": {
            "tags": []
          },
          "execution_count": 98
        }
      ]
    },
    {
      "cell_type": "markdown",
      "metadata": {
        "id": "e1Rs6mBoSiXQ",
        "colab_type": "text"
      },
      "source": [
        "It is noted that the above pd frame contasin both postive and negative sentiments which could be hard to which word is related to postive or negative. Locale specific phrase: hoss, beatuiful"
      ]
    },
    {
      "cell_type": "markdown",
      "metadata": {
        "id": "O7H5URYY2sjL",
        "colab_type": "text"
      },
      "source": [
        "### (b) Repeat this analysis for the top-50 noun phrases and note any interesting results.\n"
      ]
    },
    {
      "cell_type": "code",
      "metadata": {
        "id": "DSpxcdSw2wNN",
        "colab_type": "code",
        "colab": {}
      },
      "source": [
        "miScoredf = getMI(topk_phrase, finaldf_phrase)"
      ],
      "execution_count": 0,
      "outputs": []
    },
    {
      "cell_type": "code",
      "metadata": {
        "id": "ozl1-F6wY965",
        "colab_type": "code",
        "outputId": "b0b19ab8-a1e9-4e6b-924d-5ab5e33148ae",
        "colab": {
          "base_uri": "https://localhost:8080/",
          "height": 362
        }
      },
      "source": [
        "miScoredf.head(10)"
      ],
      "execution_count": 0,
      "outputs": [
        {
          "output_type": "execute_result",
          "data": {
            "text/html": [
              "<div>\n",
              "<style scoped>\n",
              "    .dataframe tbody tr th:only-of-type {\n",
              "        vertical-align: middle;\n",
              "    }\n",
              "\n",
              "    .dataframe tbody tr th {\n",
              "        vertical-align: top;\n",
              "    }\n",
              "\n",
              "    .dataframe thead th {\n",
              "        text-align: right;\n",
              "    }\n",
              "</style>\n",
              "<table border=\"1\" class=\"dataframe\">\n",
              "  <thead>\n",
              "    <tr style=\"text-align: right;\">\n",
              "      <th></th>\n",
              "      <th>Word</th>\n",
              "      <th>MI Score</th>\n",
              "    </tr>\n",
              "  </thead>\n",
              "  <tbody>\n",
              "    <tr>\n",
              "      <th>1</th>\n",
              "      <td>front desk</td>\n",
              "      <td>0.004104</td>\n",
              "    </tr>\n",
              "    <tr>\n",
              "      <th>0</th>\n",
              "      <td>next year</td>\n",
              "      <td>0.000867</td>\n",
              "    </tr>\n",
              "    <tr>\n",
              "      <th>40</th>\n",
              "      <td>doubl bed</td>\n",
              "      <td>0.000777</td>\n",
              "    </tr>\n",
              "    <tr>\n",
              "      <th>10</th>\n",
              "      <td>graciou host</td>\n",
              "      <td>0.000755</td>\n",
              "    </tr>\n",
              "    <tr>\n",
              "      <th>14</th>\n",
              "      <td>stone maiden inn</td>\n",
              "      <td>0.000643</td>\n",
              "    </tr>\n",
              "    <tr>\n",
              "      <th>45</th>\n",
              "      <td>free breakfast</td>\n",
              "      <td>0.000552</td>\n",
              "    </tr>\n",
              "    <tr>\n",
              "      <th>22</th>\n",
              "      <td>averi hous</td>\n",
              "      <td>0.000532</td>\n",
              "    </tr>\n",
              "    <tr>\n",
              "      <th>4</th>\n",
              "      <td>first time</td>\n",
              "      <td>0.000431</td>\n",
              "    </tr>\n",
              "    <tr>\n",
              "      <th>27</th>\n",
              "      <td>birmingham manor</td>\n",
              "      <td>0.000421</td>\n",
              "    </tr>\n",
              "    <tr>\n",
              "      <th>24</th>\n",
              "      <td>john amanda</td>\n",
              "      <td>0.000421</td>\n",
              "    </tr>\n",
              "  </tbody>\n",
              "</table>\n",
              "</div>"
            ],
            "text/plain": [
              "                Word  MI Score\n",
              "1         front desk  0.004104\n",
              "0          next year  0.000867\n",
              "40         doubl bed  0.000777\n",
              "10      graciou host  0.000755\n",
              "14  stone maiden inn  0.000643\n",
              "45    free breakfast  0.000552\n",
              "22        averi hous  0.000532\n",
              "4         first time  0.000431\n",
              "27  birmingham manor  0.000421\n",
              "24       john amanda  0.000421"
            ]
          },
          "metadata": {
            "tags": []
          },
          "execution_count": 100
        }
      ]
    },
    {
      "cell_type": "markdown",
      "metadata": {
        "id": "yQAyYH1OZCcs",
        "colab_type": "text"
      },
      "source": [
        "The bi-wrods is makes more sense than the single word. For eample, free breakfast is more meaningul than breakfast."
      ]
    },
    {
      "cell_type": "markdown",
      "metadata": {
        "id": "bXbgEVvL2w10",
        "colab_type": "text"
      },
      "source": [
        "# Q4. Pointwise Mutual Information\n"
      ]
    },
    {
      "cell_type": "markdown",
      "metadata": {
        "id": "BCAS_jJJ22rw",
        "colab_type": "text"
      },
      "source": [
        "### (a) For ground truth sentiment, calculate the top-50 words according to PMI of the word occuring with (i) positive reviews and (ii) negative reviews. Do you note anything interesting and/or locale-specific about these top-ranked words?"
      ]
    },
    {
      "cell_type": "code",
      "metadata": {
        "id": "D2U8lksT20xM",
        "colab_type": "code",
        "colab": {}
      },
      "source": [
        "# Simple example of getting pairwise mutual information of a term\n",
        "def pmiCal(df, x):\n",
        "    pmilist=[]\n",
        "    for i in ['positive','negative']:\n",
        "        for j in [0,1]:\n",
        "            px = sum(df['groundTruth']==i)/len(df)\n",
        "            py = sum(df[x]==j)/len(df)\n",
        "            pxy = len(df[(df['groundTruth']==i) & (df[x]==j)])/len(df)\n",
        "            if pxy==0:#Log 0 cannot happen\n",
        "                pmi = math.log((pxy+0.0001)/(px*py))\n",
        "            else:\n",
        "                pmi = math.log(pxy/(px*py))\n",
        "            pmilist.append([i]+[j]+[px]+[py]+[pxy]+[pmi])\n",
        "    pmidf = pandas.DataFrame(pmilist)\n",
        "    pmidf.columns = ['x','y','px','py','pxy','pmi']\n",
        "    return pmidf\n",
        "\n",
        "def pmiIndivCal(df,x,gt, label_column='groundTruth'):\n",
        "    px = sum(df[label_column]==gt)/len(df)\n",
        "    py = sum(df[x]==1)/len(df)\n",
        "    pxy = len(df[(df[label_column]==gt) & (df[x]==1)])/len(df)\n",
        "    if pxy==0:#Log 0 cannot happen\n",
        "        pmi = math.log((pxy+0.0001)/(px*py))\n",
        "    else:\n",
        "        pmi = math.log(pxy/(px*py))\n",
        "    return pmi\n",
        "\n",
        "# Compute PMI for all terms and all possible labels\n",
        "def pmiForAllCal(df, label_column, topk):\n",
        "    #Try calculate all the pmi for top k and store them into one pmidf dataframe\n",
        "    pmilist = []\n",
        "    pmiposlist = []\n",
        "    pmineglist = []\n",
        "    for word in tqdm(topk):\n",
        "        pmilist.append([word[0]]+[pmiCal(df,word[0])])\n",
        "        pmiposlist.append([word[0]]+[pmiIndivCal(df,word[0],'positive',label_column)])\n",
        "        pmineglist.append([word[0]]+[pmiIndivCal(df,word[0],'negative',label_column)])\n",
        "    pmidf = pandas.DataFrame(pmilist)\n",
        "    pmiposlist = pandas.DataFrame(pmiposlist)\n",
        "    pmineglist = pandas.DataFrame(pmineglist)\n",
        "    pmiposlist.columns = ['word','pmi']\n",
        "    pmineglist.columns = ['word','pmi']\n",
        "    pmidf.columns = ['word','pmi']\n",
        "    return pmiposlist, pmineglist, pmidf\n"
      ],
      "execution_count": 0,
      "outputs": []
    },
    {
      "cell_type": "code",
      "metadata": {
        "id": "nkWFc83xeYCt",
        "colab_type": "code",
        "colab": {}
      },
      "source": [
        "topk_50, finaldf_50 = dataFrameTransformation(hotelDf_cleaned, reviewDF_cleaned, k=50)"
      ],
      "execution_count": 0,
      "outputs": []
    },
    {
      "cell_type": "code",
      "metadata": {
        "id": "WPxutDyrfbqM",
        "colab_type": "code",
        "outputId": "4ba1d146-475f-454c-aacc-0cedf252b52c",
        "colab": {
          "base_uri": "https://localhost:8080/",
          "height": 34
        }
      },
      "source": [
        "pmiposlist,pmineglist,pmidf = pmiForAllCal(finaldf_50,label_column='groundTruth', topk = topk_50)"
      ],
      "execution_count": 0,
      "outputs": [
        {
          "output_type": "stream",
          "text": [
            "100%|██████████| 50/50 [00:01<00:00, 44.56it/s]\n"
          ],
          "name": "stderr"
        }
      ]
    },
    {
      "cell_type": "code",
      "metadata": {
        "id": "gm5jfwuZeAK5",
        "colab_type": "code",
        "outputId": "c3720513-f6f2-4b20-d4e7-d0053ce40fcb",
        "colab": {
          "base_uri": "https://localhost:8080/",
          "height": 362
        }
      },
      "source": [
        "pmiposlist.sort_values('pmi',ascending=0).head(10)"
      ],
      "execution_count": 0,
      "outputs": [
        {
          "output_type": "execute_result",
          "data": {
            "text/html": [
              "<div>\n",
              "<style scoped>\n",
              "    .dataframe tbody tr th:only-of-type {\n",
              "        vertical-align: middle;\n",
              "    }\n",
              "\n",
              "    .dataframe tbody tr th {\n",
              "        vertical-align: top;\n",
              "    }\n",
              "\n",
              "    .dataframe thead th {\n",
              "        text-align: right;\n",
              "    }\n",
              "</style>\n",
              "<table border=\"1\" class=\"dataframe\">\n",
              "  <thead>\n",
              "    <tr style=\"text-align: right;\">\n",
              "      <th></th>\n",
              "      <th>word</th>\n",
              "      <th>pmi</th>\n",
              "    </tr>\n",
              "  </thead>\n",
              "  <tbody>\n",
              "    <tr>\n",
              "      <th>44</th>\n",
              "      <td>hosts</td>\n",
              "      <td>0.114712</td>\n",
              "    </tr>\n",
              "    <tr>\n",
              "      <th>22</th>\n",
              "      <td>wonderful</td>\n",
              "      <td>0.101851</td>\n",
              "    </tr>\n",
              "    <tr>\n",
              "      <th>40</th>\n",
              "      <td>house</td>\n",
              "      <td>0.091661</td>\n",
              "    </tr>\n",
              "    <tr>\n",
              "      <th>41</th>\n",
              "      <td>beautiful</td>\n",
              "      <td>0.088218</td>\n",
              "    </tr>\n",
              "    <tr>\n",
              "      <th>46</th>\n",
              "      <td>definitely</td>\n",
              "      <td>0.082526</td>\n",
              "    </tr>\n",
              "    <tr>\n",
              "      <th>33</th>\n",
              "      <td>excellent</td>\n",
              "      <td>0.082247</td>\n",
              "    </tr>\n",
              "    <tr>\n",
              "      <th>25</th>\n",
              "      <td>lovely</td>\n",
              "      <td>0.080697</td>\n",
              "    </tr>\n",
              "    <tr>\n",
              "      <th>28</th>\n",
              "      <td>home</td>\n",
              "      <td>0.075117</td>\n",
              "    </tr>\n",
              "    <tr>\n",
              "      <th>47</th>\n",
              "      <td>quiet</td>\n",
              "      <td>0.070667</td>\n",
              "    </tr>\n",
              "    <tr>\n",
              "      <th>45</th>\n",
              "      <td>restaurants</td>\n",
              "      <td>0.068051</td>\n",
              "    </tr>\n",
              "  </tbody>\n",
              "</table>\n",
              "</div>"
            ],
            "text/plain": [
              "           word       pmi\n",
              "44        hosts  0.114712\n",
              "22    wonderful  0.101851\n",
              "40        house  0.091661\n",
              "41    beautiful  0.088218\n",
              "46   definitely  0.082526\n",
              "33    excellent  0.082247\n",
              "25       lovely  0.080697\n",
              "28         home  0.075117\n",
              "47        quiet  0.070667\n",
              "45  restaurants  0.068051"
            ]
          },
          "metadata": {
            "tags": []
          },
          "execution_count": 52
        }
      ]
    },
    {
      "cell_type": "code",
      "metadata": {
        "id": "Un-7rng8gYtq",
        "colab_type": "code",
        "outputId": "a45681f7-186d-4a1d-f99f-ef27d1d5abf7",
        "colab": {
          "base_uri": "https://localhost:8080/",
          "height": 362
        }
      },
      "source": [
        "pmineglist.sort_values('pmi',ascending=0).head(10)"
      ],
      "execution_count": 0,
      "outputs": [
        {
          "output_type": "execute_result",
          "data": {
            "text/html": [
              "<div>\n",
              "<style scoped>\n",
              "    .dataframe tbody tr th:only-of-type {\n",
              "        vertical-align: middle;\n",
              "    }\n",
              "\n",
              "    .dataframe tbody tr th {\n",
              "        vertical-align: top;\n",
              "    }\n",
              "\n",
              "    .dataframe thead th {\n",
              "        text-align: right;\n",
              "    }\n",
              "</style>\n",
              "<table border=\"1\" class=\"dataframe\">\n",
              "  <thead>\n",
              "    <tr style=\"text-align: right;\">\n",
              "      <th></th>\n",
              "      <th>word</th>\n",
              "      <th>pmi</th>\n",
              "    </tr>\n",
              "  </thead>\n",
              "  <tbody>\n",
              "    <tr>\n",
              "      <th>27</th>\n",
              "      <td>could</td>\n",
              "      <td>0.635992</td>\n",
              "    </tr>\n",
              "    <tr>\n",
              "      <th>43</th>\n",
              "      <td>get</td>\n",
              "      <td>0.628228</td>\n",
              "    </tr>\n",
              "    <tr>\n",
              "      <th>17</th>\n",
              "      <td>night</td>\n",
              "      <td>0.546316</td>\n",
              "    </tr>\n",
              "    <tr>\n",
              "      <th>7</th>\n",
              "      <td>one</td>\n",
              "      <td>0.436532</td>\n",
              "    </tr>\n",
              "    <tr>\n",
              "      <th>36</th>\n",
              "      <td>even</td>\n",
              "      <td>0.386039</td>\n",
              "    </tr>\n",
              "    <tr>\n",
              "      <th>18</th>\n",
              "      <td>like</td>\n",
              "      <td>0.373958</td>\n",
              "    </tr>\n",
              "    <tr>\n",
              "      <th>5</th>\n",
              "      <td>would</td>\n",
              "      <td>0.356955</td>\n",
              "    </tr>\n",
              "    <tr>\n",
              "      <th>34</th>\n",
              "      <td>service</td>\n",
              "      <td>0.305278</td>\n",
              "    </tr>\n",
              "    <tr>\n",
              "      <th>16</th>\n",
              "      <td>bed</td>\n",
              "      <td>0.266471</td>\n",
              "    </tr>\n",
              "    <tr>\n",
              "      <th>21</th>\n",
              "      <td>inn</td>\n",
              "      <td>0.258115</td>\n",
              "    </tr>\n",
              "  </tbody>\n",
              "</table>\n",
              "</div>"
            ],
            "text/plain": [
              "       word       pmi\n",
              "27    could  0.635992\n",
              "43      get  0.628228\n",
              "17    night  0.546316\n",
              "7       one  0.436532\n",
              "36     even  0.386039\n",
              "18     like  0.373958\n",
              "5     would  0.356955\n",
              "34  service  0.305278\n",
              "16      bed  0.266471\n",
              "21      inn  0.258115"
            ]
          },
          "metadata": {
            "tags": []
          },
          "execution_count": 53
        }
      ]
    },
    {
      "cell_type": "markdown",
      "metadata": {
        "id": "N6fhjaI1hM2H",
        "colab_type": "text"
      },
      "source": [
        "For positive reviews, it is noted that hosts and wonerfull are important terms.\n",
        "\n",
        "For negative revews, it is noted that the could seems to mean the hotel could have done someths to make the service better."
      ]
    },
    {
      "cell_type": "markdown",
      "metadata": {
        "id": "8TqDL1QX25Oa",
        "colab_type": "text"
      },
      "source": [
        "### (b) Repeat this analysis for the top-50 noun phrases and note any interesting results.\n"
      ]
    },
    {
      "cell_type": "code",
      "metadata": {
        "id": "wlHQQv1V28Vf",
        "colab_type": "code",
        "colab": {}
      },
      "source": [
        "topk_phrase_50, finaldf_phrase_50 = newDataFrameTransformation(hotelDf_cleaned,reviewDF_cleaned)"
      ],
      "execution_count": 0,
      "outputs": []
    },
    {
      "cell_type": "code",
      "metadata": {
        "id": "49HtHMMtvWXm",
        "colab_type": "code",
        "outputId": "ffa4f41f-c505-4752-c29d-bdc0f047833a",
        "colab": {
          "base_uri": "https://localhost:8080/",
          "height": 34
        }
      },
      "source": [
        "pmiposlist_phrase,pmineglist_phrase,pmidf_phrase = pmiForAllCal(finaldf_phrase_50,label_column='groundTruth', topk = topk_phrase_50)"
      ],
      "execution_count": 0,
      "outputs": [
        {
          "output_type": "stream",
          "text": [
            "100%|██████████| 50/50 [00:01<00:00, 46.64it/s]\n"
          ],
          "name": "stderr"
        }
      ]
    },
    {
      "cell_type": "code",
      "metadata": {
        "id": "T3ydcdLy4MrE",
        "colab_type": "code",
        "outputId": "adc2bfa4-8bf0-4685-ea28-46a6c1120536",
        "colab": {
          "base_uri": "https://localhost:8080/",
          "height": 362
        }
      },
      "source": [
        "pmiposlist_phrase.sort_values('pmi',ascending=0).head(10)"
      ],
      "execution_count": 0,
      "outputs": [
        {
          "output_type": "execute_result",
          "data": {
            "text/html": [
              "<div>\n",
              "<style scoped>\n",
              "    .dataframe tbody tr th:only-of-type {\n",
              "        vertical-align: middle;\n",
              "    }\n",
              "\n",
              "    .dataframe tbody tr th {\n",
              "        vertical-align: top;\n",
              "    }\n",
              "\n",
              "    .dataframe thead th {\n",
              "        text-align: right;\n",
              "    }\n",
              "</style>\n",
              "<table border=\"1\" class=\"dataframe\">\n",
              "  <thead>\n",
              "    <tr style=\"text-align: right;\">\n",
              "      <th></th>\n",
              "      <th>word</th>\n",
              "      <th>pmi</th>\n",
              "    </tr>\n",
              "  </thead>\n",
              "  <tbody>\n",
              "    <tr>\n",
              "      <th>39</th>\n",
              "      <td>bed breakfast</td>\n",
              "      <td>0.12383</td>\n",
              "    </tr>\n",
              "    <tr>\n",
              "      <th>25</th>\n",
              "      <td>old rectori</td>\n",
              "      <td>0.12383</td>\n",
              "    </tr>\n",
              "    <tr>\n",
              "      <th>22</th>\n",
              "      <td>averi hous</td>\n",
              "      <td>0.12383</td>\n",
              "    </tr>\n",
              "    <tr>\n",
              "      <th>44</th>\n",
              "      <td>short walk</td>\n",
              "      <td>0.12383</td>\n",
              "    </tr>\n",
              "    <tr>\n",
              "      <th>42</th>\n",
              "      <td>sever year</td>\n",
              "      <td>0.12383</td>\n",
              "    </tr>\n",
              "    <tr>\n",
              "      <th>41</th>\n",
              "      <td>sure everyth</td>\n",
              "      <td>0.12383</td>\n",
              "    </tr>\n",
              "    <tr>\n",
              "      <th>38</th>\n",
              "      <td>acryl dream</td>\n",
              "      <td>0.12383</td>\n",
              "    </tr>\n",
              "    <tr>\n",
              "      <th>32</th>\n",
              "      <td>bristol hous</td>\n",
              "      <td>0.12383</td>\n",
              "    </tr>\n",
              "    <tr>\n",
              "      <th>31</th>\n",
              "      <td>elena dom</td>\n",
              "      <td>0.12383</td>\n",
              "    </tr>\n",
              "    <tr>\n",
              "      <th>30</th>\n",
              "      <td>friend famili</td>\n",
              "      <td>0.12383</td>\n",
              "    </tr>\n",
              "  </tbody>\n",
              "</table>\n",
              "</div>"
            ],
            "text/plain": [
              "             word      pmi\n",
              "39  bed breakfast  0.12383\n",
              "25    old rectori  0.12383\n",
              "22     averi hous  0.12383\n",
              "44     short walk  0.12383\n",
              "42     sever year  0.12383\n",
              "41   sure everyth  0.12383\n",
              "38    acryl dream  0.12383\n",
              "32   bristol hous  0.12383\n",
              "31      elena dom  0.12383\n",
              "30  friend famili  0.12383"
            ]
          },
          "metadata": {
            "tags": []
          },
          "execution_count": 56
        }
      ]
    },
    {
      "cell_type": "code",
      "metadata": {
        "id": "fadj_HhS4M4X",
        "colab_type": "code",
        "outputId": "09937b2d-9f3d-4328-dea2-9b9166717645",
        "colab": {
          "base_uri": "https://localhost:8080/",
          "height": 362
        }
      },
      "source": [
        "pmineglist_phrase.sort_values('pmi',ascending=0).head(10)"
      ],
      "execution_count": 0,
      "outputs": [
        {
          "output_type": "execute_result",
          "data": {
            "text/html": [
              "<div>\n",
              "<style scoped>\n",
              "    .dataframe tbody tr th:only-of-type {\n",
              "        vertical-align: middle;\n",
              "    }\n",
              "\n",
              "    .dataframe tbody tr th {\n",
              "        vertical-align: top;\n",
              "    }\n",
              "\n",
              "    .dataframe thead th {\n",
              "        text-align: right;\n",
              "    }\n",
              "</style>\n",
              "<table border=\"1\" class=\"dataframe\">\n",
              "  <thead>\n",
              "    <tr style=\"text-align: right;\">\n",
              "      <th></th>\n",
              "      <th>word</th>\n",
              "      <th>pmi</th>\n",
              "    </tr>\n",
              "  </thead>\n",
              "  <tbody>\n",
              "    <tr>\n",
              "      <th>1</th>\n",
              "      <td>front desk</td>\n",
              "      <td>1.307441</td>\n",
              "    </tr>\n",
              "    <tr>\n",
              "      <th>40</th>\n",
              "      <td>doubl bed</td>\n",
              "      <td>1.302822</td>\n",
              "    </tr>\n",
              "    <tr>\n",
              "      <th>45</th>\n",
              "      <td>free breakfast</td>\n",
              "      <td>1.194609</td>\n",
              "    </tr>\n",
              "    <tr>\n",
              "      <th>46</th>\n",
              "      <td>second floor</td>\n",
              "      <td>1.051508</td>\n",
              "    </tr>\n",
              "    <tr>\n",
              "      <th>48</th>\n",
              "      <td>front door</td>\n",
              "      <td>0.971465</td>\n",
              "    </tr>\n",
              "    <tr>\n",
              "      <th>47</th>\n",
              "      <td>next morn</td>\n",
              "      <td>0.971465</td>\n",
              "    </tr>\n",
              "    <tr>\n",
              "      <th>34</th>\n",
              "      <td>next day</td>\n",
              "      <td>0.926345</td>\n",
              "    </tr>\n",
              "    <tr>\n",
              "      <th>5</th>\n",
              "      <td>arden park</td>\n",
              "      <td>0.382458</td>\n",
              "    </tr>\n",
              "    <tr>\n",
              "      <th>29</th>\n",
              "      <td>sever time</td>\n",
              "      <td>0.358361</td>\n",
              "    </tr>\n",
              "    <tr>\n",
              "      <th>43</th>\n",
              "      <td>good thing</td>\n",
              "      <td>0.204210</td>\n",
              "    </tr>\n",
              "  </tbody>\n",
              "</table>\n",
              "</div>"
            ],
            "text/plain": [
              "              word       pmi\n",
              "1       front desk  1.307441\n",
              "40       doubl bed  1.302822\n",
              "45  free breakfast  1.194609\n",
              "46    second floor  1.051508\n",
              "48      front door  0.971465\n",
              "47       next morn  0.971465\n",
              "34        next day  0.926345\n",
              "5       arden park  0.382458\n",
              "29      sever time  0.358361\n",
              "43      good thing  0.204210"
            ]
          },
          "metadata": {
            "tags": []
          },
          "execution_count": 57
        }
      ]
    },
    {
      "cell_type": "markdown",
      "metadata": {
        "id": "geZpfpac289F",
        "colab_type": "text"
      },
      "source": [
        "### (c) Repeat this analysis for the single top and single bottom hotel (according to the ground truth rating). Do you gain any useful hotel-specific insights about what is good and bad about these two hotels? If not, explain why not."
      ]
    },
    {
      "cell_type": "markdown",
      "metadata": {
        "id": "y3sPv4PXZ297",
        "colab_type": "text"
      },
      "source": [
        "Top hotel:\n",
        "People like this hotel because:\n",
        "-\tGreat, gracious host\n",
        "-\tdelicious Breakfast\n",
        "\n",
        "\n",
        "Dislike:\n",
        "-\tHouse years; could be too old\n",
        "\n",
        "Bottom hotel:\n",
        "\n",
        "Like: \n",
        "-\tPeace\n",
        "-\tProbably close to main road\n",
        "\n",
        "Dislike:\n",
        "-\tNoisy\n",
        "-\tSmell terrible\n",
        "-\tBathroom Not very clean\n"
      ]
    },
    {
      "cell_type": "markdown",
      "metadata": {
        "id": "hsHIRogOXjhs",
        "colab_type": "text"
      },
      "source": [
        "### Top Hotel"
      ]
    },
    {
      "cell_type": "code",
      "metadata": {
        "id": "-eNL4wsH4Lu7",
        "colab_type": "code",
        "colab": {}
      },
      "source": [
        "# Top: Avery House B&amp;B \n",
        "# Bottom: Rosecourt Motel\t"
      ],
      "execution_count": 0,
      "outputs": []
    },
    {
      "cell_type": "code",
      "metadata": {
        "id": "y4S-Aelr4L9Q",
        "colab_type": "code",
        "colab": {}
      },
      "source": [
        "hotel_Top_1 = hotelDf_cleaned[hotelDf_cleaned['hotelName']=='Avery House B&amp;B']\n",
        "reviewDF_Top_1 = reviewDF_cleaned.iloc[hotel_Top_1.index]\n",
        "hotel_Top_1.reset_index(inplace=True)\n",
        "reviewDF_Top_1.reset_index(inplace=True)"
      ],
      "execution_count": 0,
      "outputs": []
    },
    {
      "cell_type": "code",
      "metadata": {
        "id": "WAToTrERD4bG",
        "colab_type": "code",
        "outputId": "e035578c-68db-47b2-e790-555c2e165b1b",
        "colab": {
          "base_uri": "https://localhost:8080/",
          "height": 206
        }
      },
      "source": [
        "hotel_Top_1.head()"
      ],
      "execution_count": 0,
      "outputs": [
        {
          "output_type": "execute_result",
          "data": {
            "text/html": [
              "<div>\n",
              "<style scoped>\n",
              "    .dataframe tbody tr th:only-of-type {\n",
              "        vertical-align: middle;\n",
              "    }\n",
              "\n",
              "    .dataframe tbody tr th {\n",
              "        vertical-align: top;\n",
              "    }\n",
              "\n",
              "    .dataframe thead th {\n",
              "        text-align: right;\n",
              "    }\n",
              "</style>\n",
              "<table border=\"1\" class=\"dataframe\">\n",
              "  <thead>\n",
              "    <tr style=\"text-align: right;\">\n",
              "      <th></th>\n",
              "      <th>index</th>\n",
              "      <th>filePath</th>\n",
              "      <th>hotelName</th>\n",
              "      <th>reviewColumn</th>\n",
              "      <th>ratingScore</th>\n",
              "      <th>groundTruth</th>\n",
              "      <th>vader</th>\n",
              "    </tr>\n",
              "  </thead>\n",
              "  <tbody>\n",
              "    <tr>\n",
              "      <th>0</th>\n",
              "      <td>2356</td>\n",
              "      <td>data/ca/155015/624525/166488510.html</td>\n",
              "      <td>Avery House B&amp;amp;B</td>\n",
              "      <td>coming avery house years appreciate learned ju...</td>\n",
              "      <td>5</td>\n",
              "      <td>positive</td>\n",
              "      <td>0.9661</td>\n",
              "    </tr>\n",
              "    <tr>\n",
              "      <th>1</th>\n",
              "      <td>2357</td>\n",
              "      <td>data/ca/155015/624525/410555927.html</td>\n",
              "      <td>Avery House B&amp;amp;B</td>\n",
              "      <td>another lovely experience year even threw spec...</td>\n",
              "      <td>5</td>\n",
              "      <td>positive</td>\n",
              "      <td>0.9001</td>\n",
              "    </tr>\n",
              "    <tr>\n",
              "      <th>2</th>\n",
              "      <td>2358</td>\n",
              "      <td>data/ca/155015/624525/314568772.html</td>\n",
              "      <td>Avery House B&amp;amp;B</td>\n",
              "      <td>two stays lovely b b year avery house avery in...</td>\n",
              "      <td>5</td>\n",
              "      <td>positive</td>\n",
              "      <td>0.9831</td>\n",
              "    </tr>\n",
              "    <tr>\n",
              "      <th>3</th>\n",
              "      <td>2359</td>\n",
              "      <td>data/ca/155015/624525/277176059.html</td>\n",
              "      <td>Avery House B&amp;amp;B</td>\n",
              "      <td>stayed key west suite avery house bb john aman...</td>\n",
              "      <td>5</td>\n",
              "      <td>positive</td>\n",
              "      <td>0.9741</td>\n",
              "    </tr>\n",
              "    <tr>\n",
              "      <th>4</th>\n",
              "      <td>2360</td>\n",
              "      <td>data/ca/155015/624525/594071939.html</td>\n",
              "      <td>Avery House B&amp;amp;B</td>\n",
              "      <td>coming avery house almost 10 years always aver...</td>\n",
              "      <td>5</td>\n",
              "      <td>positive</td>\n",
              "      <td>0.8575</td>\n",
              "    </tr>\n",
              "  </tbody>\n",
              "</table>\n",
              "</div>"
            ],
            "text/plain": [
              "   index                              filePath  ... groundTruth   vader\n",
              "0   2356  data/ca/155015/624525/166488510.html  ...    positive  0.9661\n",
              "1   2357  data/ca/155015/624525/410555927.html  ...    positive  0.9001\n",
              "2   2358  data/ca/155015/624525/314568772.html  ...    positive  0.9831\n",
              "3   2359  data/ca/155015/624525/277176059.html  ...    positive  0.9741\n",
              "4   2360  data/ca/155015/624525/594071939.html  ...    positive  0.8575\n",
              "\n",
              "[5 rows x 7 columns]"
            ]
          },
          "metadata": {
            "tags": []
          },
          "execution_count": 60
        }
      ]
    },
    {
      "cell_type": "code",
      "metadata": {
        "id": "R2YwKjMn2_KN",
        "colab_type": "code",
        "outputId": "320e7d9c-2d56-4c95-8d0d-af213e12560d",
        "colab": {
          "base_uri": "https://localhost:8080/",
          "height": 206
        }
      },
      "source": [
        "reviewDF_Top_1.head()"
      ],
      "execution_count": 0,
      "outputs": [
        {
          "output_type": "execute_result",
          "data": {
            "text/html": [
              "<div>\n",
              "<style scoped>\n",
              "    .dataframe tbody tr th:only-of-type {\n",
              "        vertical-align: middle;\n",
              "    }\n",
              "\n",
              "    .dataframe tbody tr th {\n",
              "        vertical-align: top;\n",
              "    }\n",
              "\n",
              "    .dataframe thead th {\n",
              "        text-align: right;\n",
              "    }\n",
              "</style>\n",
              "<table border=\"1\" class=\"dataframe\">\n",
              "  <thead>\n",
              "    <tr style=\"text-align: right;\">\n",
              "      <th></th>\n",
              "      <th>index</th>\n",
              "      <th>reviewCol</th>\n",
              "      <th>vader</th>\n",
              "    </tr>\n",
              "  </thead>\n",
              "  <tbody>\n",
              "    <tr>\n",
              "      <th>0</th>\n",
              "      <td>2356</td>\n",
              "      <td>coming avery house years appreciate learned ju...</td>\n",
              "      <td>0.9661</td>\n",
              "    </tr>\n",
              "    <tr>\n",
              "      <th>1</th>\n",
              "      <td>2357</td>\n",
              "      <td>another lovely experience year even threw spec...</td>\n",
              "      <td>0.9001</td>\n",
              "    </tr>\n",
              "    <tr>\n",
              "      <th>2</th>\n",
              "      <td>2358</td>\n",
              "      <td>two stays lovely b b year avery house avery in...</td>\n",
              "      <td>0.9831</td>\n",
              "    </tr>\n",
              "    <tr>\n",
              "      <th>3</th>\n",
              "      <td>2359</td>\n",
              "      <td>stayed key west suite avery house bb john aman...</td>\n",
              "      <td>0.9741</td>\n",
              "    </tr>\n",
              "    <tr>\n",
              "      <th>4</th>\n",
              "      <td>2360</td>\n",
              "      <td>coming avery house almost 10 years always aver...</td>\n",
              "      <td>0.8575</td>\n",
              "    </tr>\n",
              "  </tbody>\n",
              "</table>\n",
              "</div>"
            ],
            "text/plain": [
              "   index                                          reviewCol   vader\n",
              "0   2356  coming avery house years appreciate learned ju...  0.9661\n",
              "1   2357  another lovely experience year even threw spec...  0.9001\n",
              "2   2358  two stays lovely b b year avery house avery in...  0.9831\n",
              "3   2359  stayed key west suite avery house bb john aman...  0.9741\n",
              "4   2360  coming avery house almost 10 years always aver...  0.8575"
            ]
          },
          "metadata": {
            "tags": []
          },
          "execution_count": 61
        }
      ]
    },
    {
      "cell_type": "code",
      "metadata": {
        "id": "I2uxaVYEQ6PI",
        "colab_type": "code",
        "colab": {}
      },
      "source": [
        "# Extract the top phrases\n",
        "topk_top1_phrase, finaldf_top1_phrase = newDataFrameTransformation(hotel_Top_1, reviewDF_Top_1)"
      ],
      "execution_count": 0,
      "outputs": []
    },
    {
      "cell_type": "code",
      "metadata": {
        "id": "EDwIePr8S50r",
        "colab_type": "code",
        "outputId": "50086782-94cd-4360-d6c2-d6b5a345de9d",
        "colab": {
          "base_uri": "https://localhost:8080/",
          "height": 34
        }
      },
      "source": [
        "# Positive reviews\n",
        "pmiposlist_top1_phrase, pmineglist_top1_phrase, pmidf_top1_phrase = pmiForAllCal(finaldf_top1_phrase,label_column='groundTruth',topk=topk_top1_phrase)"
      ],
      "execution_count": 0,
      "outputs": [
        {
          "output_type": "stream",
          "text": [
            "100%|██████████| 50/50 [00:00<00:00, 107.19it/s]\n"
          ],
          "name": "stderr"
        }
      ]
    },
    {
      "cell_type": "code",
      "metadata": {
        "id": "XLYa8rS_7xlU",
        "colab_type": "code",
        "colab": {}
      },
      "source": [
        "# Extract the top phrases \n",
        "topk_top1_phrase, finaldf_top1_phrase = newDataFrameTransformation(hotel_Top_1, reviewDF_Top_1)"
      ],
      "execution_count": 0,
      "outputs": []
    },
    {
      "cell_type": "code",
      "metadata": {
        "id": "HH9_khkaVvgX",
        "colab_type": "code",
        "outputId": "81b63eed-5703-4756-fb20-8e0a03fa315f",
        "colab": {
          "base_uri": "https://localhost:8080/",
          "height": 1000
        }
      },
      "source": [
        "pmiposlist_top1_phrase.sort_values('pmi',ascending=0).head(50)"
      ],
      "execution_count": 0,
      "outputs": [
        {
          "output_type": "execute_result",
          "data": {
            "text/html": [
              "<div>\n",
              "<style scoped>\n",
              "    .dataframe tbody tr th:only-of-type {\n",
              "        vertical-align: middle;\n",
              "    }\n",
              "\n",
              "    .dataframe tbody tr th {\n",
              "        vertical-align: top;\n",
              "    }\n",
              "\n",
              "    .dataframe thead th {\n",
              "        text-align: right;\n",
              "    }\n",
              "</style>\n",
              "<table border=\"1\" class=\"dataframe\">\n",
              "  <thead>\n",
              "    <tr style=\"text-align: right;\">\n",
              "      <th></th>\n",
              "      <th>word</th>\n",
              "      <th>pmi</th>\n",
              "    </tr>\n",
              "  </thead>\n",
              "  <tbody>\n",
              "    <tr>\n",
              "      <th>25</th>\n",
              "      <td>great host</td>\n",
              "      <td>0.006689</td>\n",
              "    </tr>\n",
              "    <tr>\n",
              "      <th>37</th>\n",
              "      <td>njohn amanda</td>\n",
              "      <td>0.006689</td>\n",
              "    </tr>\n",
              "    <tr>\n",
              "      <th>27</th>\n",
              "      <td>distanc theatr</td>\n",
              "      <td>0.006689</td>\n",
              "    </tr>\n",
              "    <tr>\n",
              "      <th>28</th>\n",
              "      <td>recent short visit theatr</td>\n",
              "      <td>0.006689</td>\n",
              "    </tr>\n",
              "    <tr>\n",
              "      <th>29</th>\n",
              "      <td>futur visit</td>\n",
              "      <td>0.006689</td>\n",
              "    </tr>\n",
              "    <tr>\n",
              "      <th>30</th>\n",
              "      <td>differ place</td>\n",
              "      <td>0.006689</td>\n",
              "    </tr>\n",
              "    <tr>\n",
              "      <th>31</th>\n",
              "      <td>graciou host</td>\n",
              "      <td>0.006689</td>\n",
              "    </tr>\n",
              "    <tr>\n",
              "      <th>32</th>\n",
              "      <td>comfi bed</td>\n",
              "      <td>0.006689</td>\n",
              "    </tr>\n",
              "    <tr>\n",
              "      <th>33</th>\n",
              "      <td>theatr restaur</td>\n",
              "      <td>0.006689</td>\n",
              "    </tr>\n",
              "    <tr>\n",
              "      <th>34</th>\n",
              "      <td>recommend averi hous bb</td>\n",
              "      <td>0.006689</td>\n",
              "    </tr>\n",
              "    <tr>\n",
              "      <th>35</th>\n",
              "      <td>hous year</td>\n",
              "      <td>0.006689</td>\n",
              "    </tr>\n",
              "    <tr>\n",
              "      <th>36</th>\n",
              "      <td>wonder home new owner</td>\n",
              "      <td>0.006689</td>\n",
              "    </tr>\n",
              "    <tr>\n",
              "      <th>38</th>\n",
              "      <td>new furnitur</td>\n",
              "      <td>0.006689</td>\n",
              "    </tr>\n",
              "    <tr>\n",
              "      <th>1</th>\n",
              "      <td>john amanda</td>\n",
              "      <td>0.006689</td>\n",
              "    </tr>\n",
              "    <tr>\n",
              "      <th>39</th>\n",
              "      <td>comfort friend new bathroom closet thing</td>\n",
              "      <td>0.006689</td>\n",
              "    </tr>\n",
              "    <tr>\n",
              "      <th>40</th>\n",
              "      <td>world differ naveri hous everyth travel</td>\n",
              "      <td>0.006689</td>\n",
              "    </tr>\n",
              "    <tr>\n",
              "      <th>41</th>\n",
              "      <td>distinct pleasur njohn</td>\n",
              "      <td>0.006689</td>\n",
              "    </tr>\n",
              "    <tr>\n",
              "      <th>42</th>\n",
              "      <td>great time allni</td>\n",
              "      <td>0.006689</td>\n",
              "    </tr>\n",
              "    <tr>\n",
              "      <th>43</th>\n",
              "      <td>recommend averi hous</td>\n",
              "      <td>0.006689</td>\n",
              "    </tr>\n",
              "    <tr>\n",
              "      <th>44</th>\n",
              "      <td>experi year</td>\n",
              "      <td>0.006689</td>\n",
              "    </tr>\n",
              "    <tr>\n",
              "      <th>45</th>\n",
              "      <td>special dietari request breakfast miss beat</td>\n",
              "      <td>0.006689</td>\n",
              "    </tr>\n",
              "    <tr>\n",
              "      <th>46</th>\n",
              "      <td>integr part</td>\n",
              "      <td>0.006689</td>\n",
              "    </tr>\n",
              "    <tr>\n",
              "      <th>47</th>\n",
              "      <td>year averi hous averi inn</td>\n",
              "      <td>0.006689</td>\n",
              "    </tr>\n",
              "    <tr>\n",
              "      <th>48</th>\n",
              "      <td>usual amanda</td>\n",
              "      <td>0.006689</td>\n",
              "    </tr>\n",
              "    <tr>\n",
              "      <th>26</th>\n",
              "      <td>mani other</td>\n",
              "      <td>0.006689</td>\n",
              "    </tr>\n",
              "    <tr>\n",
              "      <th>49</th>\n",
              "      <td>warm welcom food die accommod top drawer tange...</td>\n",
              "      <td>0.006689</td>\n",
              "    </tr>\n",
              "    <tr>\n",
              "      <th>24</th>\n",
              "      <td>distanc theater</td>\n",
              "      <td>0.006689</td>\n",
              "    </tr>\n",
              "    <tr>\n",
              "      <th>8</th>\n",
              "      <td>distanc theatr restaur</td>\n",
              "      <td>0.006689</td>\n",
              "    </tr>\n",
              "    <tr>\n",
              "      <th>22</th>\n",
              "      <td>mani bb</td>\n",
              "      <td>0.006689</td>\n",
              "    </tr>\n",
              "    <tr>\n",
              "      <th>21</th>\n",
              "      <td>cours breakfast</td>\n",
              "      <td>0.006689</td>\n",
              "    </tr>\n",
              "    <tr>\n",
              "      <th>20</th>\n",
              "      <td>mani time</td>\n",
              "      <td>0.006689</td>\n",
              "    </tr>\n",
              "    <tr>\n",
              "      <th>19</th>\n",
              "      <td>note play</td>\n",
              "      <td>0.006689</td>\n",
              "    </tr>\n",
              "    <tr>\n",
              "      <th>18</th>\n",
              "      <td>amanda john</td>\n",
              "      <td>0.006689</td>\n",
              "    </tr>\n",
              "    <tr>\n",
              "      <th>17</th>\n",
              "      <td>judi susan</td>\n",
              "      <td>0.006689</td>\n",
              "    </tr>\n",
              "    <tr>\n",
              "      <th>2</th>\n",
              "      <td>next year</td>\n",
              "      <td>0.006689</td>\n",
              "    </tr>\n",
              "    <tr>\n",
              "      <th>3</th>\n",
              "      <td>next door</td>\n",
              "      <td>0.006689</td>\n",
              "    </tr>\n",
              "    <tr>\n",
              "      <th>23</th>\n",
              "      <td>sever year</td>\n",
              "      <td>0.006689</td>\n",
              "    </tr>\n",
              "    <tr>\n",
              "      <th>6</th>\n",
              "      <td>minut walk</td>\n",
              "      <td>0.006689</td>\n",
              "    </tr>\n",
              "    <tr>\n",
              "      <th>7</th>\n",
              "      <td>stay averi hous</td>\n",
              "      <td>0.006689</td>\n",
              "    </tr>\n",
              "    <tr>\n",
              "      <th>9</th>\n",
              "      <td>next visit</td>\n",
              "      <td>0.006689</td>\n",
              "    </tr>\n",
              "    <tr>\n",
              "      <th>4</th>\n",
              "      <td>inn next door</td>\n",
              "      <td>0.006689</td>\n",
              "    </tr>\n",
              "    <tr>\n",
              "      <th>5</th>\n",
              "      <td>delici breakfast</td>\n",
              "      <td>0.006689</td>\n",
              "    </tr>\n",
              "    <tr>\n",
              "      <th>12</th>\n",
              "      <td>right home moment</td>\n",
              "      <td>0.006689</td>\n",
              "    </tr>\n",
              "    <tr>\n",
              "      <th>10</th>\n",
              "      <td>averi inn next door</td>\n",
              "      <td>0.006689</td>\n",
              "    </tr>\n",
              "    <tr>\n",
              "      <th>11</th>\n",
              "      <td>comfort bed</td>\n",
              "      <td>0.006689</td>\n",
              "    </tr>\n",
              "    <tr>\n",
              "      <th>13</th>\n",
              "      <td>averi hous bb</td>\n",
              "      <td>0.006689</td>\n",
              "    </tr>\n",
              "    <tr>\n",
              "      <th>14</th>\n",
              "      <td>next time</td>\n",
              "      <td>0.006689</td>\n",
              "    </tr>\n",
              "    <tr>\n",
              "      <th>15</th>\n",
              "      <td>minut walk downtown</td>\n",
              "      <td>0.006689</td>\n",
              "    </tr>\n",
              "    <tr>\n",
              "      <th>16</th>\n",
              "      <td>dinner reserv</td>\n",
              "      <td>0.006689</td>\n",
              "    </tr>\n",
              "    <tr>\n",
              "      <th>0</th>\n",
              "      <td>averi hous</td>\n",
              "      <td>0.006689</td>\n",
              "    </tr>\n",
              "  </tbody>\n",
              "</table>\n",
              "</div>"
            ],
            "text/plain": [
              "                                                 word       pmi\n",
              "25                                         great host  0.006689\n",
              "37                                       njohn amanda  0.006689\n",
              "27                                     distanc theatr  0.006689\n",
              "28                          recent short visit theatr  0.006689\n",
              "29                                        futur visit  0.006689\n",
              "30                                       differ place  0.006689\n",
              "31                                       graciou host  0.006689\n",
              "32                                          comfi bed  0.006689\n",
              "33                                     theatr restaur  0.006689\n",
              "34                            recommend averi hous bb  0.006689\n",
              "35                                          hous year  0.006689\n",
              "36                              wonder home new owner  0.006689\n",
              "38                                       new furnitur  0.006689\n",
              "1                                         john amanda  0.006689\n",
              "39           comfort friend new bathroom closet thing  0.006689\n",
              "40            world differ naveri hous everyth travel  0.006689\n",
              "41                             distinct pleasur njohn  0.006689\n",
              "42                                   great time allni  0.006689\n",
              "43                               recommend averi hous  0.006689\n",
              "44                                        experi year  0.006689\n",
              "45        special dietari request breakfast miss beat  0.006689\n",
              "46                                        integr part  0.006689\n",
              "47                          year averi hous averi inn  0.006689\n",
              "48                                       usual amanda  0.006689\n",
              "26                                         mani other  0.006689\n",
              "49  warm welcom food die accommod top drawer tange...  0.006689\n",
              "24                                    distanc theater  0.006689\n",
              "8                              distanc theatr restaur  0.006689\n",
              "22                                            mani bb  0.006689\n",
              "21                                    cours breakfast  0.006689\n",
              "20                                          mani time  0.006689\n",
              "19                                          note play  0.006689\n",
              "18                                        amanda john  0.006689\n",
              "17                                         judi susan  0.006689\n",
              "2                                           next year  0.006689\n",
              "3                                           next door  0.006689\n",
              "23                                         sever year  0.006689\n",
              "6                                          minut walk  0.006689\n",
              "7                                     stay averi hous  0.006689\n",
              "9                                          next visit  0.006689\n",
              "4                                       inn next door  0.006689\n",
              "5                                    delici breakfast  0.006689\n",
              "12                                  right home moment  0.006689\n",
              "10                                averi inn next door  0.006689\n",
              "11                                        comfort bed  0.006689\n",
              "13                                      averi hous bb  0.006689\n",
              "14                                          next time  0.006689\n",
              "15                                minut walk downtown  0.006689\n",
              "16                                      dinner reserv  0.006689\n",
              "0                                          averi hous  0.006689"
            ]
          },
          "metadata": {
            "tags": []
          },
          "execution_count": 65
        }
      ]
    },
    {
      "cell_type": "code",
      "metadata": {
        "id": "XYR8FzyMVz42",
        "colab_type": "code",
        "outputId": "a3510238-9538-46a9-913b-5cc5d56102b0",
        "colab": {
          "base_uri": "https://localhost:8080/",
          "height": 1000
        }
      },
      "source": [
        "pmineglist_top1_phrase.sort_values('pmi',ascending=0).head(50)"
      ],
      "execution_count": 0,
      "outputs": [
        {
          "output_type": "execute_result",
          "data": {
            "text/html": [
              "<div>\n",
              "<style scoped>\n",
              "    .dataframe tbody tr th:only-of-type {\n",
              "        vertical-align: middle;\n",
              "    }\n",
              "\n",
              "    .dataframe tbody tr th {\n",
              "        vertical-align: top;\n",
              "    }\n",
              "\n",
              "    .dataframe thead th {\n",
              "        text-align: right;\n",
              "    }\n",
              "</style>\n",
              "<table border=\"1\" class=\"dataframe\">\n",
              "  <thead>\n",
              "    <tr style=\"text-align: right;\">\n",
              "      <th></th>\n",
              "      <th>word</th>\n",
              "      <th>pmi</th>\n",
              "    </tr>\n",
              "  </thead>\n",
              "  <tbody>\n",
              "    <tr>\n",
              "      <th>49</th>\n",
              "      <td>warm welcom food die accommod top drawer tange...</td>\n",
              "      <td>0.810930</td>\n",
              "    </tr>\n",
              "    <tr>\n",
              "      <th>42</th>\n",
              "      <td>great time allni</td>\n",
              "      <td>0.810930</td>\n",
              "    </tr>\n",
              "    <tr>\n",
              "      <th>35</th>\n",
              "      <td>hous year</td>\n",
              "      <td>0.810930</td>\n",
              "    </tr>\n",
              "    <tr>\n",
              "      <th>36</th>\n",
              "      <td>wonder home new owner</td>\n",
              "      <td>0.810930</td>\n",
              "    </tr>\n",
              "    <tr>\n",
              "      <th>37</th>\n",
              "      <td>njohn amanda</td>\n",
              "      <td>0.810930</td>\n",
              "    </tr>\n",
              "    <tr>\n",
              "      <th>39</th>\n",
              "      <td>comfort friend new bathroom closet thing</td>\n",
              "      <td>0.810930</td>\n",
              "    </tr>\n",
              "    <tr>\n",
              "      <th>40</th>\n",
              "      <td>world differ naveri hous everyth travel</td>\n",
              "      <td>0.810930</td>\n",
              "    </tr>\n",
              "    <tr>\n",
              "      <th>41</th>\n",
              "      <td>distinct pleasur njohn</td>\n",
              "      <td>0.810930</td>\n",
              "    </tr>\n",
              "    <tr>\n",
              "      <th>38</th>\n",
              "      <td>new furnitur</td>\n",
              "      <td>0.810930</td>\n",
              "    </tr>\n",
              "    <tr>\n",
              "      <th>43</th>\n",
              "      <td>recommend averi hous</td>\n",
              "      <td>0.810930</td>\n",
              "    </tr>\n",
              "    <tr>\n",
              "      <th>44</th>\n",
              "      <td>experi year</td>\n",
              "      <td>0.810930</td>\n",
              "    </tr>\n",
              "    <tr>\n",
              "      <th>45</th>\n",
              "      <td>special dietari request breakfast miss beat</td>\n",
              "      <td>0.810930</td>\n",
              "    </tr>\n",
              "    <tr>\n",
              "      <th>46</th>\n",
              "      <td>integr part</td>\n",
              "      <td>0.810930</td>\n",
              "    </tr>\n",
              "    <tr>\n",
              "      <th>47</th>\n",
              "      <td>year averi hous averi inn</td>\n",
              "      <td>0.810930</td>\n",
              "    </tr>\n",
              "    <tr>\n",
              "      <th>48</th>\n",
              "      <td>usual amanda</td>\n",
              "      <td>0.810930</td>\n",
              "    </tr>\n",
              "    <tr>\n",
              "      <th>26</th>\n",
              "      <td>mani other</td>\n",
              "      <td>0.117783</td>\n",
              "    </tr>\n",
              "    <tr>\n",
              "      <th>34</th>\n",
              "      <td>recommend averi hous bb</td>\n",
              "      <td>0.117783</td>\n",
              "    </tr>\n",
              "    <tr>\n",
              "      <th>33</th>\n",
              "      <td>theatr restaur</td>\n",
              "      <td>0.117783</td>\n",
              "    </tr>\n",
              "    <tr>\n",
              "      <th>32</th>\n",
              "      <td>comfi bed</td>\n",
              "      <td>0.117783</td>\n",
              "    </tr>\n",
              "    <tr>\n",
              "      <th>31</th>\n",
              "      <td>graciou host</td>\n",
              "      <td>0.117783</td>\n",
              "    </tr>\n",
              "    <tr>\n",
              "      <th>30</th>\n",
              "      <td>differ place</td>\n",
              "      <td>0.117783</td>\n",
              "    </tr>\n",
              "    <tr>\n",
              "      <th>29</th>\n",
              "      <td>futur visit</td>\n",
              "      <td>0.117783</td>\n",
              "    </tr>\n",
              "    <tr>\n",
              "      <th>28</th>\n",
              "      <td>recent short visit theatr</td>\n",
              "      <td>0.117783</td>\n",
              "    </tr>\n",
              "    <tr>\n",
              "      <th>27</th>\n",
              "      <td>distanc theatr</td>\n",
              "      <td>0.117783</td>\n",
              "    </tr>\n",
              "    <tr>\n",
              "      <th>25</th>\n",
              "      <td>great host</td>\n",
              "      <td>0.117783</td>\n",
              "    </tr>\n",
              "    <tr>\n",
              "      <th>24</th>\n",
              "      <td>distanc theater</td>\n",
              "      <td>0.117783</td>\n",
              "    </tr>\n",
              "    <tr>\n",
              "      <th>23</th>\n",
              "      <td>sever year</td>\n",
              "      <td>0.117783</td>\n",
              "    </tr>\n",
              "    <tr>\n",
              "      <th>22</th>\n",
              "      <td>mani bb</td>\n",
              "      <td>0.117783</td>\n",
              "    </tr>\n",
              "    <tr>\n",
              "      <th>21</th>\n",
              "      <td>cours breakfast</td>\n",
              "      <td>0.117783</td>\n",
              "    </tr>\n",
              "    <tr>\n",
              "      <th>20</th>\n",
              "      <td>mani time</td>\n",
              "      <td>0.117783</td>\n",
              "    </tr>\n",
              "    <tr>\n",
              "      <th>19</th>\n",
              "      <td>note play</td>\n",
              "      <td>0.117783</td>\n",
              "    </tr>\n",
              "    <tr>\n",
              "      <th>18</th>\n",
              "      <td>amanda john</td>\n",
              "      <td>0.117783</td>\n",
              "    </tr>\n",
              "    <tr>\n",
              "      <th>17</th>\n",
              "      <td>judi susan</td>\n",
              "      <td>0.117783</td>\n",
              "    </tr>\n",
              "    <tr>\n",
              "      <th>13</th>\n",
              "      <td>averi hous bb</td>\n",
              "      <td>-0.287682</td>\n",
              "    </tr>\n",
              "    <tr>\n",
              "      <th>10</th>\n",
              "      <td>averi inn next door</td>\n",
              "      <td>-0.287682</td>\n",
              "    </tr>\n",
              "    <tr>\n",
              "      <th>11</th>\n",
              "      <td>comfort bed</td>\n",
              "      <td>-0.287682</td>\n",
              "    </tr>\n",
              "    <tr>\n",
              "      <th>12</th>\n",
              "      <td>right home moment</td>\n",
              "      <td>-0.287682</td>\n",
              "    </tr>\n",
              "    <tr>\n",
              "      <th>14</th>\n",
              "      <td>next time</td>\n",
              "      <td>-0.287682</td>\n",
              "    </tr>\n",
              "    <tr>\n",
              "      <th>15</th>\n",
              "      <td>minut walk downtown</td>\n",
              "      <td>-0.287682</td>\n",
              "    </tr>\n",
              "    <tr>\n",
              "      <th>16</th>\n",
              "      <td>dinner reserv</td>\n",
              "      <td>-0.287682</td>\n",
              "    </tr>\n",
              "    <tr>\n",
              "      <th>9</th>\n",
              "      <td>next visit</td>\n",
              "      <td>-0.575364</td>\n",
              "    </tr>\n",
              "    <tr>\n",
              "      <th>8</th>\n",
              "      <td>distanc theatr restaur</td>\n",
              "      <td>-0.575364</td>\n",
              "    </tr>\n",
              "    <tr>\n",
              "      <th>7</th>\n",
              "      <td>stay averi hous</td>\n",
              "      <td>-0.575364</td>\n",
              "    </tr>\n",
              "    <tr>\n",
              "      <th>6</th>\n",
              "      <td>minut walk</td>\n",
              "      <td>-0.575364</td>\n",
              "    </tr>\n",
              "    <tr>\n",
              "      <th>5</th>\n",
              "      <td>delici breakfast</td>\n",
              "      <td>-0.798508</td>\n",
              "    </tr>\n",
              "    <tr>\n",
              "      <th>4</th>\n",
              "      <td>inn next door</td>\n",
              "      <td>-0.798508</td>\n",
              "    </tr>\n",
              "    <tr>\n",
              "      <th>3</th>\n",
              "      <td>next door</td>\n",
              "      <td>-1.134980</td>\n",
              "    </tr>\n",
              "    <tr>\n",
              "      <th>2</th>\n",
              "      <td>next year</td>\n",
              "      <td>-1.386294</td>\n",
              "    </tr>\n",
              "    <tr>\n",
              "      <th>1</th>\n",
              "      <td>john amanda</td>\n",
              "      <td>-2.133509</td>\n",
              "    </tr>\n",
              "    <tr>\n",
              "      <th>0</th>\n",
              "      <td>averi hous</td>\n",
              "      <td>-2.367124</td>\n",
              "    </tr>\n",
              "  </tbody>\n",
              "</table>\n",
              "</div>"
            ],
            "text/plain": [
              "                                                 word       pmi\n",
              "49  warm welcom food die accommod top drawer tange...  0.810930\n",
              "42                                   great time allni  0.810930\n",
              "35                                          hous year  0.810930\n",
              "36                              wonder home new owner  0.810930\n",
              "37                                       njohn amanda  0.810930\n",
              "39           comfort friend new bathroom closet thing  0.810930\n",
              "40            world differ naveri hous everyth travel  0.810930\n",
              "41                             distinct pleasur njohn  0.810930\n",
              "38                                       new furnitur  0.810930\n",
              "43                               recommend averi hous  0.810930\n",
              "44                                        experi year  0.810930\n",
              "45        special dietari request breakfast miss beat  0.810930\n",
              "46                                        integr part  0.810930\n",
              "47                          year averi hous averi inn  0.810930\n",
              "48                                       usual amanda  0.810930\n",
              "26                                         mani other  0.117783\n",
              "34                            recommend averi hous bb  0.117783\n",
              "33                                     theatr restaur  0.117783\n",
              "32                                          comfi bed  0.117783\n",
              "31                                       graciou host  0.117783\n",
              "30                                       differ place  0.117783\n",
              "29                                        futur visit  0.117783\n",
              "28                          recent short visit theatr  0.117783\n",
              "27                                     distanc theatr  0.117783\n",
              "25                                         great host  0.117783\n",
              "24                                    distanc theater  0.117783\n",
              "23                                         sever year  0.117783\n",
              "22                                            mani bb  0.117783\n",
              "21                                    cours breakfast  0.117783\n",
              "20                                          mani time  0.117783\n",
              "19                                          note play  0.117783\n",
              "18                                        amanda john  0.117783\n",
              "17                                         judi susan  0.117783\n",
              "13                                      averi hous bb -0.287682\n",
              "10                                averi inn next door -0.287682\n",
              "11                                        comfort bed -0.287682\n",
              "12                                  right home moment -0.287682\n",
              "14                                          next time -0.287682\n",
              "15                                minut walk downtown -0.287682\n",
              "16                                      dinner reserv -0.287682\n",
              "9                                          next visit -0.575364\n",
              "8                              distanc theatr restaur -0.575364\n",
              "7                                     stay averi hous -0.575364\n",
              "6                                          minut walk -0.575364\n",
              "5                                    delici breakfast -0.798508\n",
              "4                                       inn next door -0.798508\n",
              "3                                           next door -1.134980\n",
              "2                                           next year -1.386294\n",
              "1                                         john amanda -2.133509\n",
              "0                                          averi hous -2.367124"
            ]
          },
          "metadata": {
            "tags": []
          },
          "execution_count": 66
        }
      ]
    },
    {
      "cell_type": "markdown",
      "metadata": {
        "id": "itxnnAv1XnRO",
        "colab_type": "text"
      },
      "source": [
        "### Bottom Hotel"
      ]
    },
    {
      "cell_type": "markdown",
      "metadata": {
        "id": "T6Mt3DrSR2HD",
        "colab_type": "text"
      },
      "source": [
        ""
      ]
    },
    {
      "cell_type": "code",
      "metadata": {
        "id": "Xy1uxG7Z67oe",
        "colab_type": "code",
        "colab": {}
      },
      "source": [
        "hotel_Bot_1 = hotelDf_cleaned[hotelDf_cleaned['hotelName']=='Rosecourt Motel']\n",
        "reviewDF_Bot_1 = reviewDF_cleaned.iloc[hotel_Bot_1.index]\n",
        "hotel_Bot_1.reset_index(inplace=True)\n",
        "reviewDF_Bot_1.reset_index(inplace=True)"
      ],
      "execution_count": 0,
      "outputs": []
    },
    {
      "cell_type": "code",
      "metadata": {
        "id": "ILxq_RtkSzaS",
        "colab_type": "code",
        "outputId": "1b36d823-9d87-4592-9889-755411e12446",
        "colab": {
          "base_uri": "https://localhost:8080/",
          "height": 206
        }
      },
      "source": [
        "hotel_Bot_1.head()"
      ],
      "execution_count": 0,
      "outputs": [
        {
          "output_type": "execute_result",
          "data": {
            "text/html": [
              "<div>\n",
              "<style scoped>\n",
              "    .dataframe tbody tr th:only-of-type {\n",
              "        vertical-align: middle;\n",
              "    }\n",
              "\n",
              "    .dataframe tbody tr th {\n",
              "        vertical-align: top;\n",
              "    }\n",
              "\n",
              "    .dataframe thead th {\n",
              "        text-align: right;\n",
              "    }\n",
              "</style>\n",
              "<table border=\"1\" class=\"dataframe\">\n",
              "  <thead>\n",
              "    <tr style=\"text-align: right;\">\n",
              "      <th></th>\n",
              "      <th>index</th>\n",
              "      <th>filePath</th>\n",
              "      <th>hotelName</th>\n",
              "      <th>reviewColumn</th>\n",
              "      <th>ratingScore</th>\n",
              "      <th>groundTruth</th>\n",
              "      <th>vader</th>\n",
              "    </tr>\n",
              "  </thead>\n",
              "  <tbody>\n",
              "    <tr>\n",
              "      <th>0</th>\n",
              "      <td>2261</td>\n",
              "      <td>data/ca/155015/677409/40028663.html</td>\n",
              "      <td>Rosecourt Motel</td>\n",
              "      <td>really liked mine friends included 5 double si...</td>\n",
              "      <td>5</td>\n",
              "      <td>positive</td>\n",
              "      <td>0.9501</td>\n",
              "    </tr>\n",
              "    <tr>\n",
              "      <th>1</th>\n",
              "      <td>2262</td>\n",
              "      <td>data/ca/155015/677409/320059279.html</td>\n",
              "      <td>Rosecourt Motel</td>\n",
              "      <td>took lastminute trip hotels available ac work ...</td>\n",
              "      <td>2</td>\n",
              "      <td>negative</td>\n",
              "      <td>-0.4588</td>\n",
              "    </tr>\n",
              "    <tr>\n",
              "      <th>2</th>\n",
              "      <td>2263</td>\n",
              "      <td>data/ca/155015/677409/270486194.html</td>\n",
              "      <td>Rosecourt Motel</td>\n",
              "      <td>cleanliness smelled disgusting floors full dir...</td>\n",
              "      <td>1</td>\n",
              "      <td>negative</td>\n",
              "      <td>0.9060</td>\n",
              "    </tr>\n",
              "    <tr>\n",
              "      <th>3</th>\n",
              "      <td>2264</td>\n",
              "      <td>data/ca/155015/677409/618842262.html</td>\n",
              "      <td>Rosecourt Motel</td>\n",
              "      <td>stayed one night travelling solo owners helpfu...</td>\n",
              "      <td>3</td>\n",
              "      <td>negative</td>\n",
              "      <td>0.8074</td>\n",
              "    </tr>\n",
              "    <tr>\n",
              "      <th>4</th>\n",
              "      <td>2265</td>\n",
              "      <td>data/ca/155015/677409/172305382.html</td>\n",
              "      <td>Rosecourt Motel</td>\n",
              "      <td>son first arrived proprietor wife fighting ear...</td>\n",
              "      <td>1</td>\n",
              "      <td>negative</td>\n",
              "      <td>-0.9459</td>\n",
              "    </tr>\n",
              "  </tbody>\n",
              "</table>\n",
              "</div>"
            ],
            "text/plain": [
              "   index                              filePath  ... groundTruth   vader\n",
              "0   2261   data/ca/155015/677409/40028663.html  ...    positive  0.9501\n",
              "1   2262  data/ca/155015/677409/320059279.html  ...    negative -0.4588\n",
              "2   2263  data/ca/155015/677409/270486194.html  ...    negative  0.9060\n",
              "3   2264  data/ca/155015/677409/618842262.html  ...    negative  0.8074\n",
              "4   2265  data/ca/155015/677409/172305382.html  ...    negative -0.9459\n",
              "\n",
              "[5 rows x 7 columns]"
            ]
          },
          "metadata": {
            "tags": []
          },
          "execution_count": 68
        }
      ]
    },
    {
      "cell_type": "code",
      "metadata": {
        "id": "QgZYdbw_7pLC",
        "colab_type": "code",
        "outputId": "7cdb2315-f2d5-48df-dcf8-224d2095ec0a",
        "colab": {
          "base_uri": "https://localhost:8080/",
          "height": 206
        }
      },
      "source": [
        "reviewDF_Bot_1.head()"
      ],
      "execution_count": 0,
      "outputs": [
        {
          "output_type": "execute_result",
          "data": {
            "text/html": [
              "<div>\n",
              "<style scoped>\n",
              "    .dataframe tbody tr th:only-of-type {\n",
              "        vertical-align: middle;\n",
              "    }\n",
              "\n",
              "    .dataframe tbody tr th {\n",
              "        vertical-align: top;\n",
              "    }\n",
              "\n",
              "    .dataframe thead th {\n",
              "        text-align: right;\n",
              "    }\n",
              "</style>\n",
              "<table border=\"1\" class=\"dataframe\">\n",
              "  <thead>\n",
              "    <tr style=\"text-align: right;\">\n",
              "      <th></th>\n",
              "      <th>index</th>\n",
              "      <th>reviewCol</th>\n",
              "      <th>vader</th>\n",
              "    </tr>\n",
              "  </thead>\n",
              "  <tbody>\n",
              "    <tr>\n",
              "      <th>0</th>\n",
              "      <td>2261</td>\n",
              "      <td>really liked mine friends included 5 double si...</td>\n",
              "      <td>0.9501</td>\n",
              "    </tr>\n",
              "    <tr>\n",
              "      <th>1</th>\n",
              "      <td>2262</td>\n",
              "      <td>took lastminute trip hotels available ac work ...</td>\n",
              "      <td>-0.4588</td>\n",
              "    </tr>\n",
              "    <tr>\n",
              "      <th>2</th>\n",
              "      <td>2263</td>\n",
              "      <td>cleanliness smelled disgusting floors full dir...</td>\n",
              "      <td>0.9060</td>\n",
              "    </tr>\n",
              "    <tr>\n",
              "      <th>3</th>\n",
              "      <td>2264</td>\n",
              "      <td>stayed one night travelling solo owners helpfu...</td>\n",
              "      <td>0.8074</td>\n",
              "    </tr>\n",
              "    <tr>\n",
              "      <th>4</th>\n",
              "      <td>2265</td>\n",
              "      <td>son first arrived proprietor wife fighting ear...</td>\n",
              "      <td>-0.9459</td>\n",
              "    </tr>\n",
              "  </tbody>\n",
              "</table>\n",
              "</div>"
            ],
            "text/plain": [
              "   index                                          reviewCol   vader\n",
              "0   2261  really liked mine friends included 5 double si...  0.9501\n",
              "1   2262  took lastminute trip hotels available ac work ... -0.4588\n",
              "2   2263  cleanliness smelled disgusting floors full dir...  0.9060\n",
              "3   2264  stayed one night travelling solo owners helpfu...  0.8074\n",
              "4   2265  son first arrived proprietor wife fighting ear... -0.9459"
            ]
          },
          "metadata": {
            "tags": []
          },
          "execution_count": 69
        }
      ]
    },
    {
      "cell_type": "code",
      "metadata": {
        "id": "EQ1LFAX4XwHm",
        "colab_type": "code",
        "colab": {}
      },
      "source": [
        "# Extract the bottom phrases\n",
        "topk_bot1_phrase, finaldf_bot1_phrase = newDataFrameTransformation(hotel_Bot_1, reviewDF_Bot_1)"
      ],
      "execution_count": 0,
      "outputs": []
    },
    {
      "cell_type": "code",
      "metadata": {
        "id": "SoneKMd0WOvb",
        "colab_type": "code",
        "outputId": "59def3b7-fae8-4a78-e2b4-0fe56bdb808f",
        "colab": {
          "base_uri": "https://localhost:8080/",
          "height": 34
        }
      },
      "source": [
        "# Negative reviews\n",
        "pmiposlist_bot1_phrase, pmineglist_bot1_phrase, pmidf_top1_phrase = pmiForAllCal(finaldf_bot1_phrase,label_column='groundTruth',topk=topk_bot1_phrase)"
      ],
      "execution_count": 0,
      "outputs": [
        {
          "output_type": "stream",
          "text": [
            "100%|██████████| 50/50 [00:00<00:00, 111.68it/s]\n"
          ],
          "name": "stderr"
        }
      ]
    },
    {
      "cell_type": "code",
      "metadata": {
        "id": "SkLSoe8XTFUJ",
        "colab_type": "code",
        "outputId": "6672e077-c185-4128-8b6d-a414aa41b9fc",
        "colab": {
          "base_uri": "https://localhost:8080/",
          "height": 1000
        }
      },
      "source": [
        "pmiposlist_bot1_phrase.sort_values('pmi',ascending=0).head(50)"
      ],
      "execution_count": 0,
      "outputs": [
        {
          "output_type": "execute_result",
          "data": {
            "text/html": [
              "<div>\n",
              "<style scoped>\n",
              "    .dataframe tbody tr th:only-of-type {\n",
              "        vertical-align: middle;\n",
              "    }\n",
              "\n",
              "    .dataframe tbody tr th {\n",
              "        vertical-align: top;\n",
              "    }\n",
              "\n",
              "    .dataframe thead th {\n",
              "        text-align: right;\n",
              "    }\n",
              "</style>\n",
              "<table border=\"1\" class=\"dataframe\">\n",
              "  <thead>\n",
              "    <tr style=\"text-align: right;\">\n",
              "      <th></th>\n",
              "      <th>word</th>\n",
              "      <th>pmi</th>\n",
              "    </tr>\n",
              "  </thead>\n",
              "  <tbody>\n",
              "    <tr>\n",
              "      <th>1</th>\n",
              "      <td>like mine friend</td>\n",
              "      <td>1.558145</td>\n",
              "    </tr>\n",
              "    <tr>\n",
              "      <th>3</th>\n",
              "      <td>nice peac</td>\n",
              "      <td>1.558145</td>\n",
              "    </tr>\n",
              "    <tr>\n",
              "      <th>2</th>\n",
              "      <td>doubl singl bed</td>\n",
              "      <td>1.558145</td>\n",
              "    </tr>\n",
              "    <tr>\n",
              "      <th>0</th>\n",
              "      <td>main road</td>\n",
              "      <td>0.864997</td>\n",
              "    </tr>\n",
              "    <tr>\n",
              "      <th>48</th>\n",
              "      <td>night noth nois fact</td>\n",
              "      <td>-4.707757</td>\n",
              "    </tr>\n",
              "    <tr>\n",
              "      <th>47</th>\n",
              "      <td>sordid detail woman</td>\n",
              "      <td>-4.707757</td>\n",
              "    </tr>\n",
              "    <tr>\n",
              "      <th>28</th>\n",
              "      <td>smell musti terribl</td>\n",
              "      <td>-4.707757</td>\n",
              "    </tr>\n",
              "    <tr>\n",
              "      <th>29</th>\n",
              "      <td>window open allergi</td>\n",
              "      <td>-4.707757</td>\n",
              "    </tr>\n",
              "    <tr>\n",
              "      <th>30</th>\n",
              "      <td>filthi linen towel</td>\n",
              "      <td>-4.707757</td>\n",
              "    </tr>\n",
              "    <tr>\n",
              "      <th>31</th>\n",
              "      <td>wrinkl didnt</td>\n",
              "      <td>-4.707757</td>\n",
              "    </tr>\n",
              "    <tr>\n",
              "      <th>32</th>\n",
              "      <td>clean bathtub</td>\n",
              "      <td>-4.707757</td>\n",
              "    </tr>\n",
              "    <tr>\n",
              "      <th>33</th>\n",
              "      <td>timenno furnitur</td>\n",
              "      <td>-4.707757</td>\n",
              "    </tr>\n",
              "    <tr>\n",
              "      <th>34</th>\n",
              "      <td>bedspread curtain</td>\n",
              "      <td>-4.707757</td>\n",
              "    </tr>\n",
              "    <tr>\n",
              "      <th>35</th>\n",
              "      <td>nthe free wifi</td>\n",
              "      <td>-4.707757</td>\n",
              "    </tr>\n",
              "    <tr>\n",
              "      <th>36</th>\n",
              "      <td>nonexist youd wait</td>\n",
              "      <td>-4.707757</td>\n",
              "    </tr>\n",
              "    <tr>\n",
              "      <th>37</th>\n",
              "      <td>minut load page</td>\n",
              "      <td>-4.707757</td>\n",
              "    </tr>\n",
              "    <tr>\n",
              "      <th>38</th>\n",
              "      <td>youd reload</td>\n",
              "      <td>-4.707757</td>\n",
              "    </tr>\n",
              "    <tr>\n",
              "      <th>27</th>\n",
              "      <td>earli check next day</td>\n",
              "      <td>-4.707757</td>\n",
              "    </tr>\n",
              "    <tr>\n",
              "      <th>40</th>\n",
              "      <td>offic breakfast</td>\n",
              "      <td>-4.707757</td>\n",
              "    </tr>\n",
              "    <tr>\n",
              "      <th>41</th>\n",
              "      <td>bad bodi odour</td>\n",
              "      <td>-4.707757</td>\n",
              "    </tr>\n",
              "    <tr>\n",
              "      <th>42</th>\n",
              "      <td>officenthi cheap motel money travestynw</td>\n",
              "      <td>-4.707757</td>\n",
              "    </tr>\n",
              "    <tr>\n",
              "      <th>43</th>\n",
              "      <td>coupl place clean</td>\n",
              "      <td>-4.707757</td>\n",
              "    </tr>\n",
              "    <tr>\n",
              "      <th>44</th>\n",
              "      <td>year pull bed mattress</td>\n",
              "      <td>-4.707757</td>\n",
              "    </tr>\n",
              "    <tr>\n",
              "      <th>45</th>\n",
              "      <td>news report</td>\n",
              "      <td>-4.707757</td>\n",
              "    </tr>\n",
              "    <tr>\n",
              "      <th>46</th>\n",
              "      <td>swear word</td>\n",
              "      <td>-4.707757</td>\n",
              "    </tr>\n",
              "    <tr>\n",
              "      <th>39</th>\n",
              "      <td>lostnw didnt</td>\n",
              "      <td>-4.707757</td>\n",
              "    </tr>\n",
              "    <tr>\n",
              "      <th>25</th>\n",
              "      <td>nnthe neg review</td>\n",
              "      <td>-4.707757</td>\n",
              "    </tr>\n",
              "    <tr>\n",
              "      <th>26</th>\n",
              "      <td>proprietor wife</td>\n",
              "      <td>-4.707757</td>\n",
              "    </tr>\n",
              "    <tr>\n",
              "      <th>13</th>\n",
              "      <td>work femal nice hard understand male rude</td>\n",
              "      <td>-4.707757</td>\n",
              "    </tr>\n",
              "    <tr>\n",
              "      <th>4</th>\n",
              "      <td>lastminut trip hotel avail ac work</td>\n",
              "      <td>-4.707757</td>\n",
              "    </tr>\n",
              "    <tr>\n",
              "      <th>5</th>\n",
              "      <td>clean musti smell</td>\n",
              "      <td>-4.707757</td>\n",
              "    </tr>\n",
              "    <tr>\n",
              "      <th>6</th>\n",
              "      <td>counter furnitur</td>\n",
              "      <td>-4.707757</td>\n",
              "    </tr>\n",
              "    <tr>\n",
              "      <th>7</th>\n",
              "      <td>tire place</td>\n",
              "      <td>-4.707757</td>\n",
              "    </tr>\n",
              "    <tr>\n",
              "      <th>8</th>\n",
              "      <td>clean updat</td>\n",
              "      <td>-4.707757</td>\n",
              "    </tr>\n",
              "    <tr>\n",
              "      <th>9</th>\n",
              "      <td>light breakfast cereal store</td>\n",
              "      <td>-4.707757</td>\n",
              "    </tr>\n",
              "    <tr>\n",
              "      <th>10</th>\n",
              "      <td>roll coffe</td>\n",
              "      <td>-4.707757</td>\n",
              "    </tr>\n",
              "    <tr>\n",
              "      <th>11</th>\n",
              "      <td>floor full dirt lot</td>\n",
              "      <td>-4.707757</td>\n",
              "    </tr>\n",
              "    <tr>\n",
              "      <th>12</th>\n",
              "      <td>small amount</td>\n",
              "      <td>-4.707757</td>\n",
              "    </tr>\n",
              "    <tr>\n",
              "      <th>14</th>\n",
              "      <td>ask someth</td>\n",
              "      <td>-4.707757</td>\n",
              "    </tr>\n",
              "    <tr>\n",
              "      <th>24</th>\n",
              "      <td>minut walk theatr</td>\n",
              "      <td>-4.707757</td>\n",
              "    </tr>\n",
              "    <tr>\n",
              "      <th>15</th>\n",
              "      <td>clean towel</td>\n",
              "      <td>-4.707757</td>\n",
              "    </tr>\n",
              "    <tr>\n",
              "      <th>16</th>\n",
              "      <td>one week</td>\n",
              "      <td>-4.707757</td>\n",
              "    </tr>\n",
              "    <tr>\n",
              "      <th>17</th>\n",
              "      <td>give new one man</td>\n",
              "      <td>-4.707757</td>\n",
              "    </tr>\n",
              "    <tr>\n",
              "      <th>18</th>\n",
              "      <td>happi excus give fresh towel nnlocat locat bad...</td>\n",
              "      <td>-4.707757</td>\n",
              "    </tr>\n",
              "    <tr>\n",
              "      <th>19</th>\n",
              "      <td>night drinkingnnoverview plea rent motel</td>\n",
              "      <td>-4.707757</td>\n",
              "    </tr>\n",
              "    <tr>\n",
              "      <th>20</th>\n",
              "      <td>aw place</td>\n",
              "      <td>-4.707757</td>\n",
              "    </tr>\n",
              "    <tr>\n",
              "      <th>21</th>\n",
              "      <td>refus clean towel</td>\n",
              "      <td>-4.707757</td>\n",
              "    </tr>\n",
              "    <tr>\n",
              "      <th>22</th>\n",
              "      <td>solo owner</td>\n",
              "      <td>-4.707757</td>\n",
              "    </tr>\n",
              "    <tr>\n",
              "      <th>23</th>\n",
              "      <td>comfort clean quiet area itu2019</td>\n",
              "      <td>-4.707757</td>\n",
              "    </tr>\n",
              "    <tr>\n",
              "      <th>49</th>\n",
              "      <td>lot nice hotel motel</td>\n",
              "      <td>-4.707757</td>\n",
              "    </tr>\n",
              "  </tbody>\n",
              "</table>\n",
              "</div>"
            ],
            "text/plain": [
              "                                                 word       pmi\n",
              "1                                    like mine friend  1.558145\n",
              "3                                           nice peac  1.558145\n",
              "2                                     doubl singl bed  1.558145\n",
              "0                                           main road  0.864997\n",
              "48                               night noth nois fact -4.707757\n",
              "47                                sordid detail woman -4.707757\n",
              "28                                smell musti terribl -4.707757\n",
              "29                                window open allergi -4.707757\n",
              "30                                 filthi linen towel -4.707757\n",
              "31                                       wrinkl didnt -4.707757\n",
              "32                                      clean bathtub -4.707757\n",
              "33                                   timenno furnitur -4.707757\n",
              "34                                  bedspread curtain -4.707757\n",
              "35                                     nthe free wifi -4.707757\n",
              "36                                 nonexist youd wait -4.707757\n",
              "37                                    minut load page -4.707757\n",
              "38                                        youd reload -4.707757\n",
              "27                               earli check next day -4.707757\n",
              "40                                    offic breakfast -4.707757\n",
              "41                                     bad bodi odour -4.707757\n",
              "42            officenthi cheap motel money travestynw -4.707757\n",
              "43                                  coupl place clean -4.707757\n",
              "44                             year pull bed mattress -4.707757\n",
              "45                                        news report -4.707757\n",
              "46                                         swear word -4.707757\n",
              "39                                       lostnw didnt -4.707757\n",
              "25                                   nnthe neg review -4.707757\n",
              "26                                    proprietor wife -4.707757\n",
              "13          work femal nice hard understand male rude -4.707757\n",
              "4                  lastminut trip hotel avail ac work -4.707757\n",
              "5                                   clean musti smell -4.707757\n",
              "6                                    counter furnitur -4.707757\n",
              "7                                          tire place -4.707757\n",
              "8                                         clean updat -4.707757\n",
              "9                        light breakfast cereal store -4.707757\n",
              "10                                         roll coffe -4.707757\n",
              "11                                floor full dirt lot -4.707757\n",
              "12                                       small amount -4.707757\n",
              "14                                         ask someth -4.707757\n",
              "24                                  minut walk theatr -4.707757\n",
              "15                                        clean towel -4.707757\n",
              "16                                           one week -4.707757\n",
              "17                                   give new one man -4.707757\n",
              "18  happi excus give fresh towel nnlocat locat bad... -4.707757\n",
              "19           night drinkingnnoverview plea rent motel -4.707757\n",
              "20                                           aw place -4.707757\n",
              "21                                  refus clean towel -4.707757\n",
              "22                                         solo owner -4.707757\n",
              "23                   comfort clean quiet area itu2019 -4.707757\n",
              "49                               lot nice hotel motel -4.707757"
            ]
          },
          "metadata": {
            "tags": []
          },
          "execution_count": 72
        }
      ]
    },
    {
      "cell_type": "code",
      "metadata": {
        "id": "CuDKTgO4TVWv",
        "colab_type": "code",
        "outputId": "00de8992-11a0-4ae5-b2f1-eefeb314f927",
        "colab": {
          "base_uri": "https://localhost:8080/",
          "height": 1000
        }
      },
      "source": [
        "pmineglist_bot1_phrase.sort_values('pmi',ascending=0).head(50)"
      ],
      "execution_count": 0,
      "outputs": [
        {
          "output_type": "execute_result",
          "data": {
            "text/html": [
              "<div>\n",
              "<style scoped>\n",
              "    .dataframe tbody tr th:only-of-type {\n",
              "        vertical-align: middle;\n",
              "    }\n",
              "\n",
              "    .dataframe tbody tr th {\n",
              "        vertical-align: top;\n",
              "    }\n",
              "\n",
              "    .dataframe thead th {\n",
              "        text-align: right;\n",
              "    }\n",
              "</style>\n",
              "<table border=\"1\" class=\"dataframe\">\n",
              "  <thead>\n",
              "    <tr style=\"text-align: right;\">\n",
              "      <th></th>\n",
              "      <th>word</th>\n",
              "      <th>pmi</th>\n",
              "    </tr>\n",
              "  </thead>\n",
              "  <tbody>\n",
              "    <tr>\n",
              "      <th>25</th>\n",
              "      <td>nnthe neg review</td>\n",
              "      <td>0.236389</td>\n",
              "    </tr>\n",
              "    <tr>\n",
              "      <th>26</th>\n",
              "      <td>proprietor wife</td>\n",
              "      <td>0.236389</td>\n",
              "    </tr>\n",
              "    <tr>\n",
              "      <th>28</th>\n",
              "      <td>smell musti terribl</td>\n",
              "      <td>0.236389</td>\n",
              "    </tr>\n",
              "    <tr>\n",
              "      <th>29</th>\n",
              "      <td>window open allergi</td>\n",
              "      <td>0.236389</td>\n",
              "    </tr>\n",
              "    <tr>\n",
              "      <th>30</th>\n",
              "      <td>filthi linen towel</td>\n",
              "      <td>0.236389</td>\n",
              "    </tr>\n",
              "    <tr>\n",
              "      <th>31</th>\n",
              "      <td>wrinkl didnt</td>\n",
              "      <td>0.236389</td>\n",
              "    </tr>\n",
              "    <tr>\n",
              "      <th>32</th>\n",
              "      <td>clean bathtub</td>\n",
              "      <td>0.236389</td>\n",
              "    </tr>\n",
              "    <tr>\n",
              "      <th>33</th>\n",
              "      <td>timenno furnitur</td>\n",
              "      <td>0.236389</td>\n",
              "    </tr>\n",
              "    <tr>\n",
              "      <th>34</th>\n",
              "      <td>bedspread curtain</td>\n",
              "      <td>0.236389</td>\n",
              "    </tr>\n",
              "    <tr>\n",
              "      <th>35</th>\n",
              "      <td>nthe free wifi</td>\n",
              "      <td>0.236389</td>\n",
              "    </tr>\n",
              "    <tr>\n",
              "      <th>36</th>\n",
              "      <td>nonexist youd wait</td>\n",
              "      <td>0.236389</td>\n",
              "    </tr>\n",
              "    <tr>\n",
              "      <th>37</th>\n",
              "      <td>minut load page</td>\n",
              "      <td>0.236389</td>\n",
              "    </tr>\n",
              "    <tr>\n",
              "      <th>38</th>\n",
              "      <td>youd reload</td>\n",
              "      <td>0.236389</td>\n",
              "    </tr>\n",
              "    <tr>\n",
              "      <th>39</th>\n",
              "      <td>lostnw didnt</td>\n",
              "      <td>0.236389</td>\n",
              "    </tr>\n",
              "    <tr>\n",
              "      <th>40</th>\n",
              "      <td>offic breakfast</td>\n",
              "      <td>0.236389</td>\n",
              "    </tr>\n",
              "    <tr>\n",
              "      <th>41</th>\n",
              "      <td>bad bodi odour</td>\n",
              "      <td>0.236389</td>\n",
              "    </tr>\n",
              "    <tr>\n",
              "      <th>42</th>\n",
              "      <td>officenthi cheap motel money travestynw</td>\n",
              "      <td>0.236389</td>\n",
              "    </tr>\n",
              "    <tr>\n",
              "      <th>43</th>\n",
              "      <td>coupl place clean</td>\n",
              "      <td>0.236389</td>\n",
              "    </tr>\n",
              "    <tr>\n",
              "      <th>44</th>\n",
              "      <td>year pull bed mattress</td>\n",
              "      <td>0.236389</td>\n",
              "    </tr>\n",
              "    <tr>\n",
              "      <th>45</th>\n",
              "      <td>news report</td>\n",
              "      <td>0.236389</td>\n",
              "    </tr>\n",
              "    <tr>\n",
              "      <th>46</th>\n",
              "      <td>swear word</td>\n",
              "      <td>0.236389</td>\n",
              "    </tr>\n",
              "    <tr>\n",
              "      <th>47</th>\n",
              "      <td>sordid detail woman</td>\n",
              "      <td>0.236389</td>\n",
              "    </tr>\n",
              "    <tr>\n",
              "      <th>48</th>\n",
              "      <td>night noth nois fact</td>\n",
              "      <td>0.236389</td>\n",
              "    </tr>\n",
              "    <tr>\n",
              "      <th>27</th>\n",
              "      <td>earli check next day</td>\n",
              "      <td>0.236389</td>\n",
              "    </tr>\n",
              "    <tr>\n",
              "      <th>49</th>\n",
              "      <td>lot nice hotel motel</td>\n",
              "      <td>0.236389</td>\n",
              "    </tr>\n",
              "    <tr>\n",
              "      <th>13</th>\n",
              "      <td>work femal nice hard understand male rude</td>\n",
              "      <td>0.236389</td>\n",
              "    </tr>\n",
              "    <tr>\n",
              "      <th>14</th>\n",
              "      <td>ask someth</td>\n",
              "      <td>0.236389</td>\n",
              "    </tr>\n",
              "    <tr>\n",
              "      <th>6</th>\n",
              "      <td>counter furnitur</td>\n",
              "      <td>0.236389</td>\n",
              "    </tr>\n",
              "    <tr>\n",
              "      <th>7</th>\n",
              "      <td>tire place</td>\n",
              "      <td>0.236389</td>\n",
              "    </tr>\n",
              "    <tr>\n",
              "      <th>8</th>\n",
              "      <td>clean updat</td>\n",
              "      <td>0.236389</td>\n",
              "    </tr>\n",
              "    <tr>\n",
              "      <th>9</th>\n",
              "      <td>light breakfast cereal store</td>\n",
              "      <td>0.236389</td>\n",
              "    </tr>\n",
              "    <tr>\n",
              "      <th>10</th>\n",
              "      <td>roll coffe</td>\n",
              "      <td>0.236389</td>\n",
              "    </tr>\n",
              "    <tr>\n",
              "      <th>11</th>\n",
              "      <td>floor full dirt lot</td>\n",
              "      <td>0.236389</td>\n",
              "    </tr>\n",
              "    <tr>\n",
              "      <th>12</th>\n",
              "      <td>small amount</td>\n",
              "      <td>0.236389</td>\n",
              "    </tr>\n",
              "    <tr>\n",
              "      <th>24</th>\n",
              "      <td>minut walk theatr</td>\n",
              "      <td>0.236389</td>\n",
              "    </tr>\n",
              "    <tr>\n",
              "      <th>15</th>\n",
              "      <td>clean towel</td>\n",
              "      <td>0.236389</td>\n",
              "    </tr>\n",
              "    <tr>\n",
              "      <th>4</th>\n",
              "      <td>lastminut trip hotel avail ac work</td>\n",
              "      <td>0.236389</td>\n",
              "    </tr>\n",
              "    <tr>\n",
              "      <th>16</th>\n",
              "      <td>one week</td>\n",
              "      <td>0.236389</td>\n",
              "    </tr>\n",
              "    <tr>\n",
              "      <th>17</th>\n",
              "      <td>give new one man</td>\n",
              "      <td>0.236389</td>\n",
              "    </tr>\n",
              "    <tr>\n",
              "      <th>18</th>\n",
              "      <td>happi excus give fresh towel nnlocat locat bad...</td>\n",
              "      <td>0.236389</td>\n",
              "    </tr>\n",
              "    <tr>\n",
              "      <th>19</th>\n",
              "      <td>night drinkingnnoverview plea rent motel</td>\n",
              "      <td>0.236389</td>\n",
              "    </tr>\n",
              "    <tr>\n",
              "      <th>20</th>\n",
              "      <td>aw place</td>\n",
              "      <td>0.236389</td>\n",
              "    </tr>\n",
              "    <tr>\n",
              "      <th>21</th>\n",
              "      <td>refus clean towel</td>\n",
              "      <td>0.236389</td>\n",
              "    </tr>\n",
              "    <tr>\n",
              "      <th>22</th>\n",
              "      <td>solo owner</td>\n",
              "      <td>0.236389</td>\n",
              "    </tr>\n",
              "    <tr>\n",
              "      <th>23</th>\n",
              "      <td>comfort clean quiet area itu2019</td>\n",
              "      <td>0.236389</td>\n",
              "    </tr>\n",
              "    <tr>\n",
              "      <th>5</th>\n",
              "      <td>clean musti smell</td>\n",
              "      <td>0.236389</td>\n",
              "    </tr>\n",
              "    <tr>\n",
              "      <th>0</th>\n",
              "      <td>main road</td>\n",
              "      <td>-0.456758</td>\n",
              "    </tr>\n",
              "    <tr>\n",
              "      <th>3</th>\n",
              "      <td>nice peac</td>\n",
              "      <td>-6.029513</td>\n",
              "    </tr>\n",
              "    <tr>\n",
              "      <th>2</th>\n",
              "      <td>doubl singl bed</td>\n",
              "      <td>-6.029513</td>\n",
              "    </tr>\n",
              "    <tr>\n",
              "      <th>1</th>\n",
              "      <td>like mine friend</td>\n",
              "      <td>-6.029513</td>\n",
              "    </tr>\n",
              "  </tbody>\n",
              "</table>\n",
              "</div>"
            ],
            "text/plain": [
              "                                                 word       pmi\n",
              "25                                   nnthe neg review  0.236389\n",
              "26                                    proprietor wife  0.236389\n",
              "28                                smell musti terribl  0.236389\n",
              "29                                window open allergi  0.236389\n",
              "30                                 filthi linen towel  0.236389\n",
              "31                                       wrinkl didnt  0.236389\n",
              "32                                      clean bathtub  0.236389\n",
              "33                                   timenno furnitur  0.236389\n",
              "34                                  bedspread curtain  0.236389\n",
              "35                                     nthe free wifi  0.236389\n",
              "36                                 nonexist youd wait  0.236389\n",
              "37                                    minut load page  0.236389\n",
              "38                                        youd reload  0.236389\n",
              "39                                       lostnw didnt  0.236389\n",
              "40                                    offic breakfast  0.236389\n",
              "41                                     bad bodi odour  0.236389\n",
              "42            officenthi cheap motel money travestynw  0.236389\n",
              "43                                  coupl place clean  0.236389\n",
              "44                             year pull bed mattress  0.236389\n",
              "45                                        news report  0.236389\n",
              "46                                         swear word  0.236389\n",
              "47                                sordid detail woman  0.236389\n",
              "48                               night noth nois fact  0.236389\n",
              "27                               earli check next day  0.236389\n",
              "49                               lot nice hotel motel  0.236389\n",
              "13          work femal nice hard understand male rude  0.236389\n",
              "14                                         ask someth  0.236389\n",
              "6                                    counter furnitur  0.236389\n",
              "7                                          tire place  0.236389\n",
              "8                                         clean updat  0.236389\n",
              "9                        light breakfast cereal store  0.236389\n",
              "10                                         roll coffe  0.236389\n",
              "11                                floor full dirt lot  0.236389\n",
              "12                                       small amount  0.236389\n",
              "24                                  minut walk theatr  0.236389\n",
              "15                                        clean towel  0.236389\n",
              "4                  lastminut trip hotel avail ac work  0.236389\n",
              "16                                           one week  0.236389\n",
              "17                                   give new one man  0.236389\n",
              "18  happi excus give fresh towel nnlocat locat bad...  0.236389\n",
              "19           night drinkingnnoverview plea rent motel  0.236389\n",
              "20                                           aw place  0.236389\n",
              "21                                  refus clean towel  0.236389\n",
              "22                                         solo owner  0.236389\n",
              "23                   comfort clean quiet area itu2019  0.236389\n",
              "5                                   clean musti smell  0.236389\n",
              "0                                           main road -0.456758\n",
              "3                                           nice peac -6.029513\n",
              "2                                     doubl singl bed -6.029513\n",
              "1                                    like mine friend -6.029513"
            ]
          },
          "metadata": {
            "tags": []
          },
          "execution_count": 73
        }
      ]
    },
    {
      "cell_type": "markdown",
      "metadata": {
        "id": "YXZbPHbjR3ZC",
        "colab_type": "text"
      },
      "source": [
        "# Q5. General Plots"
      ]
    },
    {
      "cell_type": "markdown",
      "metadata": {
        "id": "XB9qwylZSA1m",
        "colab_type": "text"
      },
      "source": [
        "## **1. Histogram**"
      ]
    },
    {
      "cell_type": "markdown",
      "metadata": {
        "id": "tJpKiAnvSCfh",
        "colab_type": "text"
      },
      "source": [
        "### (a) Show separate histograms of ground truth and Vader sentiment scores (ignore hotel ID). Do you notice any interesting differences?"
      ]
    },
    {
      "cell_type": "code",
      "metadata": {
        "id": "g65QyB-4R9en",
        "colab_type": "code",
        "outputId": "2fb1c972-7ffb-410a-c673-cd02fd5013d8",
        "colab": {
          "base_uri": "https://localhost:8080/",
          "height": 206
        }
      },
      "source": [
        "hotelDf_cleaned.head()"
      ],
      "execution_count": 0,
      "outputs": [
        {
          "output_type": "execute_result",
          "data": {
            "text/html": [
              "<div>\n",
              "<style scoped>\n",
              "    .dataframe tbody tr th:only-of-type {\n",
              "        vertical-align: middle;\n",
              "    }\n",
              "\n",
              "    .dataframe tbody tr th {\n",
              "        vertical-align: top;\n",
              "    }\n",
              "\n",
              "    .dataframe thead th {\n",
              "        text-align: right;\n",
              "    }\n",
              "</style>\n",
              "<table border=\"1\" class=\"dataframe\">\n",
              "  <thead>\n",
              "    <tr style=\"text-align: right;\">\n",
              "      <th></th>\n",
              "      <th>filePath</th>\n",
              "      <th>hotelName</th>\n",
              "      <th>reviewColumn</th>\n",
              "      <th>ratingScore</th>\n",
              "      <th>groundTruth</th>\n",
              "      <th>vader</th>\n",
              "    </tr>\n",
              "  </thead>\n",
              "  <tbody>\n",
              "    <tr>\n",
              "      <th>0</th>\n",
              "      <td>data/ca/181736/182000/206859191.html</td>\n",
              "      <td>Courtyard Waterloo St. Jacobs</td>\n",
              "      <td>situated right beside st jacobs theatre steps ...</td>\n",
              "      <td>5</td>\n",
              "      <td>positive</td>\n",
              "      <td>0.5106</td>\n",
              "    </tr>\n",
              "    <tr>\n",
              "      <th>1</th>\n",
              "      <td>data/ca/181736/182000/318616131.html</td>\n",
              "      <td>Courtyard Waterloo St. Jacobs</td>\n",
              "      <td>family arrived recently friday night booked 2 ...</td>\n",
              "      <td>4</td>\n",
              "      <td>positive</td>\n",
              "      <td>0.9108</td>\n",
              "    </tr>\n",
              "    <tr>\n",
              "      <th>2</th>\n",
              "      <td>data/ca/181736/182000/691359341.html</td>\n",
              "      <td>Courtyard Waterloo St. Jacobs</td>\n",
              "      <td>front desk lovely could actually locate someon...</td>\n",
              "      <td>2</td>\n",
              "      <td>negative</td>\n",
              "      <td>0.5647</td>\n",
              "    </tr>\n",
              "    <tr>\n",
              "      <th>3</th>\n",
              "      <td>data/ca/181736/182000/356425412.html</td>\n",
              "      <td>Courtyard Waterloo St. Jacobs</td>\n",
              "      <td>manager housekeeping rude seemed annoyed every...</td>\n",
              "      <td>1</td>\n",
              "      <td>negative</td>\n",
              "      <td>-0.4754</td>\n",
              "    </tr>\n",
              "    <tr>\n",
              "      <th>4</th>\n",
              "      <td>data/ca/181736/182000/153795869.html</td>\n",
              "      <td>Courtyard Waterloo St. Jacobs</td>\n",
              "      <td>wonderfully clean friendly first seems great l...</td>\n",
              "      <td>3</td>\n",
              "      <td>negative</td>\n",
              "      <td>0.9961</td>\n",
              "    </tr>\n",
              "  </tbody>\n",
              "</table>\n",
              "</div>"
            ],
            "text/plain": [
              "                               filePath  ...   vader\n",
              "0  data/ca/181736/182000/206859191.html  ...  0.5106\n",
              "1  data/ca/181736/182000/318616131.html  ...  0.9108\n",
              "2  data/ca/181736/182000/691359341.html  ...  0.5647\n",
              "3  data/ca/181736/182000/356425412.html  ... -0.4754\n",
              "4  data/ca/181736/182000/153795869.html  ...  0.9961\n",
              "\n",
              "[5 rows x 6 columns]"
            ]
          },
          "metadata": {
            "tags": []
          },
          "execution_count": 74
        }
      ]
    },
    {
      "cell_type": "code",
      "metadata": {
        "id": "oY763Eg_VZdj",
        "colab_type": "code",
        "outputId": "78791952-9ec4-4c11-a121-d06d5066ade1",
        "colab": {
          "base_uri": "https://localhost:8080/",
          "height": 294
        }
      },
      "source": [
        "# Plot HIstogram of ground turth\n",
        "plt.title(\"Histogram of Grouond Truth\")\n",
        "plt.hist(hotelDf_cleaned['ratingScore'],bins = 10)\n",
        "plt.xlabel('Rating')\n",
        "plt.ylabel(\"Frequency\")\n",
        "plt.show()"
      ],
      "execution_count": 0,
      "outputs": [
        {
          "output_type": "display_data",
          "data": {
            "image/png": "[encoded data removed]",
            "text/plain": [
              "<Figure size 432x288 with 1 Axes>"
            ]
          },
          "metadata": {
            "tags": []
          }
        }
      ]
    },
    {
      "cell_type": "code",
      "metadata": {
        "id": "JeecFNSYV9op",
        "colab_type": "code",
        "outputId": "416ea260-c205-401c-c632-0e572f817bbd",
        "colab": {
          "base_uri": "https://localhost:8080/",
          "height": 294
        }
      },
      "source": [
        "# Plot histograms of Vader sentiment scores\n",
        "plt.title(\"Histogram of Grouond Truth\")\n",
        "plt.hist(hotelDf_cleaned['vader'],bins = 10)\n",
        "plt.xlabel('vader score')\n",
        "plt.ylabel(\"Frequency\")\n",
        "plt.show()"
      ],
      "execution_count": 0,
      "outputs": [
        {
          "output_type": "display_data",
          "data": {
            "image/png": "[encoded data removed]",
            "text/plain": [
              "<Figure size 432x288 with 1 Axes>"
            ]
          },
          "metadata": {
            "tags": []
          }
        }
      ]
    },
    {
      "cell_type": "markdown",
      "metadata": {
        "id": "22HuaicbWT1v",
        "colab_type": "text"
      },
      "source": [
        "It is noted that the rating of 5 and higher varder score have more frequency which means that people tend to spend time writing reviews on positive rating (when they enjoy the experience in that hotel ). Also, it seems that the varder score rating could be indicate which review is positive and which is not as it is simiar trend as the ground truth histogram."
      ]
    },
    {
      "cell_type": "markdown",
      "metadata": {
        "id": "dCQwmTB-SFS0",
        "colab_type": "text"
      },
      "source": [
        "### (b) Show a histogram of the number of reviews per hotel. Do you notice any interesting trends? Are these expected?"
      ]
    },
    {
      "cell_type": "code",
      "metadata": {
        "id": "5gPaexNabyUq",
        "colab_type": "code",
        "colab": {}
      },
      "source": [
        "Num_reviews = hotelDf_cleaned.groupby(['hotelName']).size().sort_values(ascending = False)"
      ],
      "execution_count": 0,
      "outputs": []
    },
    {
      "cell_type": "code",
      "metadata": {
        "id": "58IDw-YoSHuY",
        "colab_type": "code",
        "outputId": "ffe955af-a6c5-45e9-8bd4-1c122dc2f068",
        "colab": {
          "base_uri": "https://localhost:8080/",
          "height": 941
        }
      },
      "source": [
        "# Plot number of reviews per hotel using pandas.plot\n",
        "Num_reviews.plot(kind= 'bar',stacked=True,figsize=(25,10))\n",
        "plt.ylabel(\"Number of Reviews\")\n",
        "plt.title(\"Number of Reivews per hotel\")"
      ],
      "execution_count": 0,
      "outputs": [
        {
          "output_type": "execute_result",
          "data": {
            "text/plain": [
              "Text(0.5, 1.0, 'Number of Reivews per hotel')"
            ]
          },
          "metadata": {
            "tags": []
          },
          "execution_count": 78
        },
        {
          "output_type": "display_data",
          "data": {
            "image/png": "[encoded data removed]",
            "text/plain": [
              "<Figure size 1800x720 with 1 Axes>"
            ]
          },
          "metadata": {
            "tags": []
          }
        }
      ]
    },
    {
      "cell_type": "markdown",
      "metadata": {
        "id": "hDuQemuhbIXZ",
        "colab_type": "text"
      },
      "source": [
        "It is noted that most of hotels have less 100 reivews."
      ]
    },
    {
      "cell_type": "markdown",
      "metadata": {
        "id": "hy9yBrilSNMp",
        "colab_type": "text"
      },
      "source": [
        "##**2. Boxplots**"
      ]
    },
    {
      "cell_type": "markdown",
      "metadata": {
        "id": "JRSCDdwPSRJi",
        "colab_type": "text"
      },
      "source": [
        "### (a) In two plots, one for ground truth star rating and one for Vader sentiment, show a plot of 5 side-by-side boxplots of these scores."
      ]
    },
    {
      "cell_type": "code",
      "metadata": {
        "id": "tUOwike7nqeN",
        "colab_type": "code",
        "outputId": "29793769-2553-4596-cc04-c4a21c8eef4e",
        "colab": {
          "base_uri": "https://localhost:8080/",
          "height": 206
        }
      },
      "source": [
        "hotel_AVGrating.sort_values(by='ratingScore',ascending = False).head()"
      ],
      "execution_count": 0,
      "outputs": [
        {
          "output_type": "execute_result",
          "data": {
            "text/html": [
              "<div>\n",
              "<style scoped>\n",
              "    .dataframe tbody tr th:only-of-type {\n",
              "        vertical-align: middle;\n",
              "    }\n",
              "\n",
              "    .dataframe tbody tr th {\n",
              "        vertical-align: top;\n",
              "    }\n",
              "\n",
              "    .dataframe thead th {\n",
              "        text-align: right;\n",
              "    }\n",
              "</style>\n",
              "<table border=\"1\" class=\"dataframe\">\n",
              "  <thead>\n",
              "    <tr style=\"text-align: right;\">\n",
              "      <th></th>\n",
              "      <th>hotelName</th>\n",
              "      <th>ratingScore</th>\n",
              "    </tr>\n",
              "  </thead>\n",
              "  <tbody>\n",
              "    <tr>\n",
              "      <th>24</th>\n",
              "      <td>Cottage on Caledonia</td>\n",
              "      <td>5.0</td>\n",
              "    </tr>\n",
              "    <tr>\n",
              "      <th>36</th>\n",
              "      <td>Hatfield House on Hibernia B and  B</td>\n",
              "      <td>5.0</td>\n",
              "    </tr>\n",
              "    <tr>\n",
              "      <th>27</th>\n",
              "      <td>Daly House Boutique Bed &amp;amp; Breakfast</td>\n",
              "      <td>5.0</td>\n",
              "    </tr>\n",
              "    <tr>\n",
              "      <th>67</th>\n",
              "      <td>The Robin Goodfellow B&amp;amp;B</td>\n",
              "      <td>5.0</td>\n",
              "    </tr>\n",
              "    <tr>\n",
              "      <th>15</th>\n",
              "      <td>Avonview Manor</td>\n",
              "      <td>5.0</td>\n",
              "    </tr>\n",
              "  </tbody>\n",
              "</table>\n",
              "</div>"
            ],
            "text/plain": [
              "                                  hotelName  ratingScore\n",
              "24                     Cottage on Caledonia          5.0\n",
              "36      Hatfield House on Hibernia B and  B          5.0\n",
              "27  Daly House Boutique Bed &amp; Breakfast          5.0\n",
              "67             The Robin Goodfellow B&amp;B          5.0\n",
              "15                           Avonview Manor          5.0"
            ]
          },
          "metadata": {
            "tags": []
          },
          "execution_count": 79
        }
      ]
    },
    {
      "cell_type": "code",
      "metadata": {
        "id": "ft45YFWdn6PX",
        "colab_type": "code",
        "outputId": "443b2590-145d-41de-b30c-b30b2ad6f759",
        "colab": {
          "base_uri": "https://localhost:8080/",
          "height": 206
        }
      },
      "source": [
        "hotel_AVG_vader.sort_values(by='vader',ascending = False).head()"
      ],
      "execution_count": 0,
      "outputs": [
        {
          "output_type": "execute_result",
          "data": {
            "text/html": [
              "<div>\n",
              "<style scoped>\n",
              "    .dataframe tbody tr th:only-of-type {\n",
              "        vertical-align: middle;\n",
              "    }\n",
              "\n",
              "    .dataframe tbody tr th {\n",
              "        vertical-align: top;\n",
              "    }\n",
              "\n",
              "    .dataframe thead th {\n",
              "        text-align: right;\n",
              "    }\n",
              "</style>\n",
              "<table border=\"1\" class=\"dataframe\">\n",
              "  <thead>\n",
              "    <tr style=\"text-align: right;\">\n",
              "      <th></th>\n",
              "      <th>hotelName</th>\n",
              "      <th>vader</th>\n",
              "    </tr>\n",
              "  </thead>\n",
              "  <tbody>\n",
              "    <tr>\n",
              "      <th>35</th>\n",
              "      <td>Ginger Jar Guest House</td>\n",
              "      <td>0.993600</td>\n",
              "    </tr>\n",
              "    <tr>\n",
              "      <th>48</th>\n",
              "      <td>Newhaven on the River</td>\n",
              "      <td>0.983460</td>\n",
              "    </tr>\n",
              "    <tr>\n",
              "      <th>32</th>\n",
              "      <td>Evanndor</td>\n",
              "      <td>0.976400</td>\n",
              "    </tr>\n",
              "    <tr>\n",
              "      <th>27</th>\n",
              "      <td>Daly House Boutique Bed &amp;amp; Breakfast</td>\n",
              "      <td>0.974633</td>\n",
              "    </tr>\n",
              "    <tr>\n",
              "      <th>67</th>\n",
              "      <td>The Robin Goodfellow B&amp;amp;B</td>\n",
              "      <td>0.973850</td>\n",
              "    </tr>\n",
              "  </tbody>\n",
              "</table>\n",
              "</div>"
            ],
            "text/plain": [
              "                                  hotelName     vader\n",
              "35                   Ginger Jar Guest House  0.993600\n",
              "48                    Newhaven on the River  0.983460\n",
              "32                                 Evanndor  0.976400\n",
              "27  Daly House Boutique Bed &amp; Breakfast  0.974633\n",
              "67             The Robin Goodfellow B&amp;B  0.973850"
            ]
          },
          "metadata": {
            "tags": []
          },
          "execution_count": 80
        }
      ]
    },
    {
      "cell_type": "code",
      "metadata": {
        "id": "oIRQCiiEoUTf",
        "colab_type": "code",
        "outputId": "4dcb8666-b5bf-4e37-f161-17da383ac292",
        "colab": {
          "base_uri": "https://localhost:8080/",
          "height": 362
        }
      },
      "source": [
        "tp5gthotel = hotel_AVGrating.sort_values('ratingScore',ascending=0).head(10)\n",
        "tp5gthotel"
      ],
      "execution_count": 0,
      "outputs": [
        {
          "output_type": "execute_result",
          "data": {
            "text/html": [
              "<div>\n",
              "<style scoped>\n",
              "    .dataframe tbody tr th:only-of-type {\n",
              "        vertical-align: middle;\n",
              "    }\n",
              "\n",
              "    .dataframe tbody tr th {\n",
              "        vertical-align: top;\n",
              "    }\n",
              "\n",
              "    .dataframe thead th {\n",
              "        text-align: right;\n",
              "    }\n",
              "</style>\n",
              "<table border=\"1\" class=\"dataframe\">\n",
              "  <thead>\n",
              "    <tr style=\"text-align: right;\">\n",
              "      <th></th>\n",
              "      <th>hotelName</th>\n",
              "      <th>ratingScore</th>\n",
              "    </tr>\n",
              "  </thead>\n",
              "  <tbody>\n",
              "    <tr>\n",
              "      <th>24</th>\n",
              "      <td>Cottage on Caledonia</td>\n",
              "      <td>5.000000</td>\n",
              "    </tr>\n",
              "    <tr>\n",
              "      <th>36</th>\n",
              "      <td>Hatfield House on Hibernia B and  B</td>\n",
              "      <td>5.000000</td>\n",
              "    </tr>\n",
              "    <tr>\n",
              "      <th>27</th>\n",
              "      <td>Daly House Boutique Bed &amp;amp; Breakfast</td>\n",
              "      <td>5.000000</td>\n",
              "    </tr>\n",
              "    <tr>\n",
              "      <th>67</th>\n",
              "      <td>The Robin Goodfellow B&amp;amp;B</td>\n",
              "      <td>5.000000</td>\n",
              "    </tr>\n",
              "    <tr>\n",
              "      <th>15</th>\n",
              "      <td>Avonview Manor</td>\n",
              "      <td>5.000000</td>\n",
              "    </tr>\n",
              "    <tr>\n",
              "      <th>48</th>\n",
              "      <td>Newhaven on the River</td>\n",
              "      <td>5.000000</td>\n",
              "    </tr>\n",
              "    <tr>\n",
              "      <th>32</th>\n",
              "      <td>Evanndor</td>\n",
              "      <td>5.000000</td>\n",
              "    </tr>\n",
              "    <tr>\n",
              "      <th>64</th>\n",
              "      <td>The Old Rectory</td>\n",
              "      <td>4.988235</td>\n",
              "    </tr>\n",
              "    <tr>\n",
              "      <th>19</th>\n",
              "      <td>Birmingham Manor Bed and Breakfast</td>\n",
              "      <td>4.973404</td>\n",
              "    </tr>\n",
              "    <tr>\n",
              "      <th>14</th>\n",
              "      <td>Avery House B&amp;amp;B</td>\n",
              "      <td>4.966667</td>\n",
              "    </tr>\n",
              "  </tbody>\n",
              "</table>\n",
              "</div>"
            ],
            "text/plain": [
              "                                  hotelName  ratingScore\n",
              "24                     Cottage on Caledonia     5.000000\n",
              "36      Hatfield House on Hibernia B and  B     5.000000\n",
              "27  Daly House Boutique Bed &amp; Breakfast     5.000000\n",
              "67             The Robin Goodfellow B&amp;B     5.000000\n",
              "15                           Avonview Manor     5.000000\n",
              "48                    Newhaven on the River     5.000000\n",
              "32                                 Evanndor     5.000000\n",
              "64                          The Old Rectory     4.988235\n",
              "19       Birmingham Manor Bed and Breakfast     4.973404\n",
              "14                      Avery House B&amp;B     4.966667"
            ]
          },
          "metadata": {
            "tags": []
          },
          "execution_count": 81
        }
      ]
    },
    {
      "cell_type": "code",
      "metadata": {
        "id": "eT6eVSq5xYxc",
        "colab_type": "code",
        "outputId": "484dc20e-b24a-4f7c-d2ad-7ca695613b19",
        "colab": {
          "base_uri": "https://localhost:8080/",
          "height": 281
        }
      },
      "source": [
        "# Gound Trueth\n",
        "h1 = hotelDf_cleaned.loc[hotelDf_cleaned['hotelName'] == tp5gthotel['hotelName'].values[1]]['ratingScore']\n",
        "h2 = hotelDf_cleaned.loc[hotelDf_cleaned['hotelName'] == tp5gthotel['hotelName'].values[2]]['ratingScore']\n",
        "h3 = hotelDf_cleaned.loc[hotelDf_cleaned['hotelName'] == tp5gthotel['hotelName'].values[3]]['ratingScore']\n",
        "h4 = hotelDf_cleaned.loc[hotelDf_cleaned['hotelName'] == tp5gthotel['hotelName'].values[4]]['ratingScore']\n",
        "h5 = hotelDf_cleaned.loc[hotelDf_cleaned['hotelName'] == tp5gthotel['hotelName'].values[5]]['ratingScore']\n",
        "\n",
        "data =[h1,h2,h3,h4,h5]\n",
        "plt.figure()\n",
        "plt.boxplot(data)\n",
        "plt.title(\"Box Plot for Ground Truth\")\n",
        "plt.show()"
      ],
      "execution_count": 0,
      "outputs": [
        {
          "output_type": "display_data",
          "data": {
            "image/png": "[encoded data removed]",
            "text/plain": [
              "<Figure size 432x288 with 1 Axes>"
            ]
          },
          "metadata": {
            "tags": []
          }
        }
      ]
    },
    {
      "cell_type": "code",
      "metadata": {
        "id": "5JCrN2iPpH7j",
        "colab_type": "code",
        "outputId": "929d2e28-3407-4360-dddd-f08f05c21e6e",
        "colab": {
          "base_uri": "https://localhost:8080/",
          "height": 281
        }
      },
      "source": [
        "# Vader Score\n",
        "h1 = hotelDf_cleaned.loc[hotelDf_cleaned['hotelName'] == tp5gthotel['hotelName'].values[1]]['vader']\n",
        "h2 = hotelDf_cleaned.loc[hotelDf_cleaned['hotelName'] == tp5gthotel['hotelName'].values[2]]['vader']\n",
        "h3 = hotelDf_cleaned.loc[hotelDf_cleaned['hotelName'] == tp5gthotel['hotelName'].values[3]]['vader']\n",
        "h4 = hotelDf_cleaned.loc[hotelDf_cleaned['hotelName'] == tp5gthotel['hotelName'].values[4]]['vader']\n",
        "h5 = hotelDf_cleaned.loc[hotelDf_cleaned['hotelName'] == tp5gthotel['hotelName'].values[5]]['vader']\n",
        "\n",
        "data =[h1,h2,h3,h4,h5]\n",
        "plt.figure()\n",
        "plt.boxplot(data)\n",
        "plt.title(\"Box Plot for Vader Score\")\n",
        "plt.show()"
      ],
      "execution_count": 0,
      "outputs": [
        {
          "output_type": "display_data",
          "data": {
            "image/png": "[encoded data removed]",
            "text/plain": [
              "<Figure size 432x288 with 1 Axes>"
            ]
          },
          "metadata": {
            "tags": []
          }
        }
      ]
    },
    {
      "cell_type": "markdown",
      "metadata": {
        "id": "tL2y1UngST49",
        "colab_type": "text"
      },
      "source": [
        "### (b) Report the mean and variance of the ground truth and Vader sentiment scores for the top-5 ranked hotels according to star rating."
      ]
    },
    {
      "cell_type": "code",
      "metadata": {
        "id": "2IS2NHj1yTzv",
        "colab_type": "code",
        "outputId": "799d12ee-f08d-4ee5-bb6b-ceed5b18b1c3",
        "colab": {
          "base_uri": "https://localhost:8080/",
          "height": 86
        }
      },
      "source": [
        "\n",
        "top5_hotel_by_GT = hotelDf.groupby('hotelName').mean()[['ratingScore','vader']].sort_values('ratingScore',ascending=0)[1:6].reset_index()\n",
        "top5_hotel_by_GT['hotelName'].values"
      ],
      "execution_count": 0,
      "outputs": [
        {
          "output_type": "execute_result",
          "data": {
            "text/plain": [
              "array(['Hatfield House on Hibernia B and  B',\n",
              "       'Daly House Boutique Bed &amp; Breakfast',\n",
              "       'The Robin Goodfellow B&amp;B', 'Avonview Manor',\n",
              "       'Newhaven on the River'], dtype=object)"
            ]
          },
          "metadata": {
            "tags": []
          },
          "execution_count": 84
        }
      ]
    },
    {
      "cell_type": "code",
      "metadata": {
        "id": "sfhcHDO42ktV",
        "colab_type": "code",
        "colab": {}
      },
      "source": [
        "var_true = []\n",
        "var_vader = []\n",
        "for i in range(len(top5_hotel_by_GT['hotelName'].values)):\n",
        "  var_true.append(hotelDf.loc[hotelDf['hotelName'] == top5_hotel_by_GT['hotelName'].values[i]]['ratingScore'].var())\n",
        "  var_vader.append(hotelDf.loc[hotelDf['hotelName'] == top5_hotel_by_GT['hotelName'].values[i]]['vader'].var())"
      ],
      "execution_count": 0,
      "outputs": []
    },
    {
      "cell_type": "code",
      "metadata": {
        "id": "xH9nu0p93z56",
        "colab_type": "code",
        "colab": {}
      },
      "source": [
        "top5_hotel_by_GT['Variance_ground'] = var_true\n",
        "top5_hotel_by_GT['Variance_vader'] = var_vader"
      ],
      "execution_count": 0,
      "outputs": []
    },
    {
      "cell_type": "code",
      "metadata": {
        "id": "AcAobvXA5ld8",
        "colab_type": "code",
        "outputId": "4f19ec62-aa6e-4f1b-b9dc-06812339136b",
        "colab": {
          "base_uri": "https://localhost:8080/",
          "height": 206
        }
      },
      "source": [
        "top5_hotel_by_GT"
      ],
      "execution_count": 0,
      "outputs": [
        {
          "output_type": "execute_result",
          "data": {
            "text/html": [
              "<div>\n",
              "<style scoped>\n",
              "    .dataframe tbody tr th:only-of-type {\n",
              "        vertical-align: middle;\n",
              "    }\n",
              "\n",
              "    .dataframe tbody tr th {\n",
              "        vertical-align: top;\n",
              "    }\n",
              "\n",
              "    .dataframe thead th {\n",
              "        text-align: right;\n",
              "    }\n",
              "</style>\n",
              "<table border=\"1\" class=\"dataframe\">\n",
              "  <thead>\n",
              "    <tr style=\"text-align: right;\">\n",
              "      <th></th>\n",
              "      <th>hotelName</th>\n",
              "      <th>ratingScore</th>\n",
              "      <th>vader</th>\n",
              "      <th>Variance_ground</th>\n",
              "      <th>Variance_vader</th>\n",
              "    </tr>\n",
              "  </thead>\n",
              "  <tbody>\n",
              "    <tr>\n",
              "      <th>0</th>\n",
              "      <td>Hatfield House on Hibernia B and  B</td>\n",
              "      <td>5.0</td>\n",
              "      <td>0.945593</td>\n",
              "      <td>0.0</td>\n",
              "      <td>0.002922</td>\n",
              "    </tr>\n",
              "    <tr>\n",
              "      <th>1</th>\n",
              "      <td>Daly House Boutique Bed &amp;amp; Breakfast</td>\n",
              "      <td>5.0</td>\n",
              "      <td>0.974633</td>\n",
              "      <td>0.0</td>\n",
              "      <td>0.000672</td>\n",
              "    </tr>\n",
              "    <tr>\n",
              "      <th>2</th>\n",
              "      <td>The Robin Goodfellow B&amp;amp;B</td>\n",
              "      <td>5.0</td>\n",
              "      <td>0.973850</td>\n",
              "      <td>0.0</td>\n",
              "      <td>0.000055</td>\n",
              "    </tr>\n",
              "    <tr>\n",
              "      <th>3</th>\n",
              "      <td>Avonview Manor</td>\n",
              "      <td>5.0</td>\n",
              "      <td>0.944990</td>\n",
              "      <td>0.0</td>\n",
              "      <td>0.004756</td>\n",
              "    </tr>\n",
              "    <tr>\n",
              "      <th>4</th>\n",
              "      <td>Newhaven on the River</td>\n",
              "      <td>5.0</td>\n",
              "      <td>0.983460</td>\n",
              "      <td>0.0</td>\n",
              "      <td>0.000016</td>\n",
              "    </tr>\n",
              "  </tbody>\n",
              "</table>\n",
              "</div>"
            ],
            "text/plain": [
              "                                 hotelName  ...  Variance_vader\n",
              "0      Hatfield House on Hibernia B and  B  ...        0.002922\n",
              "1  Daly House Boutique Bed &amp; Breakfast  ...        0.000672\n",
              "2             The Robin Goodfellow B&amp;B  ...        0.000055\n",
              "3                           Avonview Manor  ...        0.004756\n",
              "4                    Newhaven on the River  ...        0.000016\n",
              "\n",
              "[5 rows x 5 columns]"
            ]
          },
          "metadata": {
            "tags": []
          },
          "execution_count": 87
        }
      ]
    },
    {
      "cell_type": "markdown",
      "metadata": {
        "id": "aEoty3ekSZOd",
        "colab_type": "text"
      },
      "source": [
        "### (c) Which do you find more informative, the boxplots or the mean and variance, or are they equally informative? Why?"
      ]
    },
    {
      "cell_type": "markdown",
      "metadata": {
        "id": "yMX3MkEu4R0o",
        "colab_type": "text"
      },
      "source": [
        "Boxplot is more informative. THis is because the boxplot shows the outliers, quartile and median value which help reader to visulize the data."
      ]
    },
    {
      "cell_type": "markdown",
      "metadata": {
        "id": "dZOZuPLySc7z",
        "colab_type": "text"
      },
      "source": [
        "## **3.Scatterplots and heatmaps**"
      ]
    },
    {
      "cell_type": "markdown",
      "metadata": {
        "id": "xrRi6IgUSfcs",
        "colab_type": "text"
      },
      "source": [
        "### (a) Show both a scatterplot and heatmap of ground truth score (star rating) versus Vader sentiment score. Each review is a point on the scatterplot. Do you notice anything interesting? What does this tell you about star ratings vs. Vader sentiment scores? What does this tell you about human ratings and/or Vader sentiment analysis?"
      ]
    },
    {
      "cell_type": "code",
      "metadata": {
        "id": "lo3VjXSESiM6",
        "colab_type": "code",
        "outputId": "e1c1306c-a2dc-4b84-e429-92c9a8e5293d",
        "colab": {
          "base_uri": "https://localhost:8080/",
          "height": 296
        }
      },
      "source": [
        "y = hotelDf['ratingScore'].values\n",
        "x = hotelDf['vader'].values\n",
        "plt.plot(x, y,\"o\")\n",
        "plt.ylabel('Rating')\n",
        "plt.xlabel('Vader Score')"
      ],
      "execution_count": 0,
      "outputs": [
        {
          "output_type": "execute_result",
          "data": {
            "text/plain": [
              "Text(0.5, 0, 'Vader Score')"
            ]
          },
          "metadata": {
            "tags": []
          },
          "execution_count": 88
        },
        {
          "output_type": "display_data",
          "data": {
            "image/png": "[encoded data removed]",
            "text/plain": [
              "<Figure size 432x288 with 1 Axes>"
            ]
          },
          "metadata": {
            "tags": []
          }
        }
      ]
    },
    {
      "cell_type": "code",
      "metadata": {
        "id": "4quL0Uhr4AGo",
        "colab_type": "code",
        "colab": {}
      },
      "source": [
        "from scipy.stats.kde import gaussian_kde\n",
        "\n",
        "k = gaussian_kde(np.vstack([x, y]))\n",
        "xi, yi = np.mgrid[x.min():x.max():x.size**0.5*1j,y.min():y.max():y.size**0.5*1j]\n",
        "zi = k(np.vstack([xi.flatten(), yi.flatten()]))"
      ],
      "execution_count": 0,
      "outputs": []
    },
    {
      "cell_type": "code",
      "metadata": {
        "id": "kl8hZGCQ4AWU",
        "colab_type": "code",
        "outputId": "3ad7a696-5ec3-4b4a-a14b-ab70774c4b5c",
        "colab": {
          "base_uri": "https://localhost:8080/",
          "height": 518
        }
      },
      "source": [
        "cmap = sns.cubehelix_palette(light=1, as_cmap=True)\n",
        "fig = plt.figure(figsize=(6,8))\n",
        "ax1 = fig.add_subplot(211)\n",
        "ax2 = fig.add_subplot(212)\n",
        "\n",
        "ax1.pcolormesh(xi, yi, np.log10(zi.reshape(xi.shape)), cmap=cmap)\n",
        "ax2.contourf(xi, yi, np.log10(zi.reshape(xi.shape)), cmap=cmap)\n",
        "\n",
        "ax1.set_xlim(x.min(), x.max())\n",
        "ax1.set_ylim(y.min(), y.max())\n",
        "ax2.set_xlim(x.min(), x.max())\n",
        "ax2.set_ylim(y.min(), y.max())\n",
        "\n",
        "ax1.set_xlabel('Vader Score')\n",
        "ax1.set_ylabel('Rating')\n",
        "\n",
        "ax2.set_xlabel('Vader Score')\n",
        "ax2.set_ylabel('Rating')"
      ],
      "execution_count": 0,
      "outputs": [
        {
          "output_type": "execute_result",
          "data": {
            "text/plain": [
              "Text(0, 0.5, 'Rating')"
            ]
          },
          "metadata": {
            "tags": []
          },
          "execution_count": 90
        },
        {
          "output_type": "display_data",
          "data": {
            "image/png": "[encoded data removed]",
            "text/plain": [
              "<Figure size 432x576 with 2 Axes>"
            ]
          },
          "metadata": {
            "tags": []
          }
        }
      ]
    },
    {
      "cell_type": "markdown",
      "metadata": {
        "id": "beVaMTe-5P_D",
        "colab_type": "text"
      },
      "source": [
        "It seems that the vader score and the ground truth rating highly correlated at rating of 4 to 5 because the heat map shows the very strong darkness in this area."
      ]
    },
    {
      "cell_type": "markdown",
      "metadata": {
        "id": "1P57Tbr1Sj9c",
        "colab_type": "text"
      },
      "source": [
        "### (b) Show two scatterplots and two heatmaps of the length of reviews versus each of ground truth score and Vader sentiment score. Each review is a point on the scatterplot. Are there any trends?"
      ]
    },
    {
      "cell_type": "code",
      "metadata": {
        "id": "-28Efvb65-kR",
        "colab_type": "code",
        "colab": {}
      },
      "source": [
        "# Calcate the length for each review\n",
        "word_length = []\n",
        "for sentence in hotelDf['reviewColumn']:\n",
        "  word_length.append(len(sentence.split()))"
      ],
      "execution_count": 0,
      "outputs": []
    },
    {
      "cell_type": "code",
      "metadata": {
        "id": "w1su48A1SnaW",
        "colab_type": "code",
        "outputId": "6031d120-9c47-4933-f218-06048ad35be0",
        "colab": {
          "base_uri": "https://localhost:8080/",
          "height": 386
        }
      },
      "source": [
        "y = hotelDf['ratingScore'].values\n",
        "x = np.array(word_length)\n",
        "\n",
        "k = gaussian_kde(np.vstack([x, y]))\n",
        "xi, yi = np.mgrid[x.min():x.max():x.size**0.5*1j,y.min():y.max():y.size**0.5*1j]\n",
        "zi = k(np.vstack([xi.flatten(), yi.flatten()]))\n",
        "cmap = sns.cubehelix_palette(light=1, as_cmap=True)\n",
        "\n",
        "fig,(ax1,ax2)= plt.subplots(1,2,figsize = (15,5))\n",
        "\n",
        "plt.suptitle(\"Scatter Plot and Heatp Map for Rating vs Review length\")\n",
        "\n",
        "#Generate the Scatter Plot \n",
        "ax1.plot(x, y,\"o\")\n",
        "ax1.set_xlabel('Review Length')\n",
        "ax1.set_ylabel('Rating')\n",
        "\n",
        "#Generate the Heat Map\n",
        "ax2.pcolormesh(xi, yi, np.log10(zi.reshape(xi.shape)), cmap=cmap)\n",
        "ax2.set_xlim(x.min(), x.max())\n",
        "ax2.set_ylim(y.min(), y.max())\n",
        "ax2.set_xlim(x.min(), x.max())\n",
        "ax2.set_ylim(y.min(), y.max())\n",
        "ax2.set_xlabel('Review Length')\n",
        "ax2.set_ylabel('Rating')\n"
      ],
      "execution_count": 0,
      "outputs": [
        {
          "output_type": "execute_result",
          "data": {
            "text/plain": [
              "Text(0, 0.5, 'Rating')"
            ]
          },
          "metadata": {
            "tags": []
          },
          "execution_count": 92
        },
        {
          "output_type": "display_data",
          "data": {
            "image/png": "[encoded data removed]",
            "text/plain": [
              "<Figure size 1080x360 with 2 Axes>"
            ]
          },
          "metadata": {
            "tags": []
          }
        }
      ]
    },
    {
      "cell_type": "code",
      "metadata": {
        "id": "fxr2-09z_0yR",
        "colab_type": "code",
        "outputId": "557ffc46-451a-4883-d91a-38e6db9f04d8",
        "colab": {
          "base_uri": "https://localhost:8080/",
          "height": 386
        }
      },
      "source": [
        "y = hotelDf['vader'].values\n",
        "x = np.array(word_length)\n",
        "\n",
        "k = gaussian_kde(np.vstack([x, y]))\n",
        "xi, yi = np.mgrid[x.min():x.max():x.size**0.5*1j,y.min():y.max():y.size**0.5*1j]\n",
        "zi = k(np.vstack([xi.flatten(), yi.flatten()]))\n",
        "cmap = sns.cubehelix_palette(light=1, as_cmap=True)\n",
        "\n",
        "fig,(ax1,ax2)= plt.subplots(1,2,figsize = (15,5))\n",
        "\n",
        "plt.suptitle(\"Scatter Plot and Heatp Map for Rating vs Review length\")\n",
        "\n",
        "#Generate the Scatter Plot \n",
        "ax1.plot(x, y,\"o\")\n",
        "ax1.set_xlabel('Review Length')\n",
        "ax1.set_ylabel('Vader Score')\n",
        "\n",
        "#Generate the Heat Map\n",
        "ax2.pcolormesh(xi, yi, np.log10(zi.reshape(xi.shape)), cmap=cmap)\n",
        "ax2.set_xlim(x.min(), x.max())\n",
        "ax2.set_ylim(y.min(), y.max())\n",
        "ax2.set_xlim(x.min(), x.max())\n",
        "ax2.set_ylim(y.min(), y.max())\n",
        "ax2.set_xlabel('Review Length')\n",
        "ax2.set_ylabel('Vader Score')\n"
      ],
      "execution_count": 0,
      "outputs": [
        {
          "output_type": "execute_result",
          "data": {
            "text/plain": [
              "Text(0, 0.5, 'Vader Score')"
            ]
          },
          "metadata": {
            "tags": []
          },
          "execution_count": 93
        },
        {
          "output_type": "display_data",
          "data": {
            "image/png": "[encoded data removed]",
            "text/plain": [
              "<Figure size 1080x360 with 2 Axes>"
            ]
          },
          "metadata": {
            "tags": []
          }
        }
      ]
    },
    {
      "cell_type": "markdown",
      "metadata": {
        "id": "WxSRwkVnAqVc",
        "colab_type": "text"
      },
      "source": [
        "From the above graphs, both scatter and heatmaps show that the \"Perfect\" positive review (e.g., top of the graph) and \" worest\" negative reviews tend to have longer reivews while the nuetral rateing have a relatively shor reviews. Also, the positive reviews look like have abit more words than the negative reviews. It is also worth noting that most revriews have atound 200 words."
      ]
    },
    {
      "cell_type": "markdown",
      "metadata": {
        "id": "iFiocFhNSmN3",
        "colab_type": "text"
      },
      "source": [
        "### (c) Show two scatterplots of the number of reviews per hotel versus each of average ground truth score and average Vader sentiment score. In this case, each hotel is a single point on the scatterplot. Are there any trends?"
      ]
    },
    {
      "cell_type": "code",
      "metadata": {
        "id": "nOHpA6_aCEhA",
        "colab_type": "code",
        "outputId": "5f02a7e4-1bd1-41bc-dc92-e3bbf24bf9e9",
        "colab": {
          "base_uri": "https://localhost:8080/",
          "height": 386
        }
      },
      "source": [
        "y_rating = hotelDf.groupby('hotelName')['ratingScore'].mean().values\n",
        "y_vader = hotelDf.groupby('hotelName')['vader'].mean().values\n",
        "x = hotelDf.groupby('hotelName')['reviewColumn'].count().values\n",
        "\n",
        "fig,(ax1,ax2)= plt.subplots(1,2,figsize = (15,5))\n",
        "\n",
        "plt.suptitle(\"Scatter Plot for Rating and Vader Score vs # of Reviews per Hotel\")\n",
        "\n",
        "#Generate the Scatter Plot for rating\n",
        "ax1.plot(x, y_rating,\"o\")\n",
        "ax1.set_xlabel('# of Review')\n",
        "ax1.set_ylabel('Rating')\n",
        "\n",
        "#Generate the Scatter Plot for vader score\n",
        "ax2.plot(x, y_vader,\"o\")\n",
        "ax2.set_xlabel('# of Review')\n",
        "ax2.set_ylabel('Vader Score')\n"
      ],
      "execution_count": 0,
      "outputs": [
        {
          "output_type": "execute_result",
          "data": {
            "text/plain": [
              "Text(0, 0.5, 'Vader Score')"
            ]
          },
          "metadata": {
            "tags": []
          },
          "execution_count": 94
        },
        {
          "output_type": "display_data",
          "data": {
            "image/png": "[encoded data removed]",
            "text/plain": [
              "<Figure size 1080x360 with 2 Axes>"
            ]
          },
          "metadata": {
            "tags": []
          }
        }
      ]
    },
    {
      "cell_type": "markdown",
      "metadata": {
        "id": "ibR8zbjuHcv-",
        "colab_type": "text"
      },
      "source": [
        "It shows that:\n",
        "1. Most hotels have high rating in this small town\n",
        "2. Most hotels with positive ratings have very small amount of reviews.\n",
        "3. Most hotels have number of reivews less than 100."
      ]
    },
    {
      "cell_type": "code",
      "metadata": {
        "id": "Tee4XBTD1LYn",
        "colab_type": "code",
        "colab": {}
      },
      "source": [
        ""
      ],
      "execution_count": 0,
      "outputs": []
    }
  ]
}