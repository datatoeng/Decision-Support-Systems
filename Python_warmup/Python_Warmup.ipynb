{
  "nbformat": 4,
  "nbformat_minor": 0,
  "metadata": {
    "kernelspec": {
      "display_name": "Python [conda env:mie451-warmup]",
      "language": "python",
      "name": "conda-env-mie451-warmup-py"
    },
    "language_info": {
      "codemirror_mode": {
        "name": "ipython",
        "version": 3
      },
      "file_extension": ".py",
      "mimetype": "text/x-python",
      "name": "python",
      "nbconvert_exporter": "python",
      "pygments_lexer": "ipython3",
      "version": "3.6.6"
    },
    "colab": {
      "name": "Python_Warmup.ipynb",
      "provenance": [],
      "collapsed_sections": []
    }
  },
  "cells": [
    {
      "cell_type": "markdown",
      "metadata": {
        "id": "4L1Vk_YhUVSO",
        "colab_type": "text"
      },
      "source": [
        "# Assignment - Python Warmup\n",
        "Please follow the instructions in the assignment's PDF and fill in the code for each function."
      ]
    },
    {
      "cell_type": "markdown",
      "metadata": {
        "id": "X5whGOVf-xpp",
        "colab_type": "text"
      },
      "source": [
        "Student Name: Yuchao Wu\n",
        "Student Number: 1000651984"
      ]
    },
    {
      "cell_type": "markdown",
      "metadata": {
        "id": "K2wlQJ1RUVSQ",
        "colab_type": "text"
      },
      "source": [
        "## Exercise 1"
      ]
    },
    {
      "cell_type": "code",
      "metadata": {
        "id": "8OZXKLRRAGsy",
        "colab_type": "code",
        "colab": {}
      },
      "source": [
        "import numpy as np\n",
        "import pandas as pd"
      ],
      "execution_count": 0,
      "outputs": []
    },
    {
      "cell_type": "code",
      "metadata": {
        "id": "LRYjSAU2UVSR",
        "colab_type": "code",
        "colab": {}
      },
      "source": [
        "def positionWord(filePath, position):\n",
        "  # Please write your code here\n",
        "  example_file=open(filePath)\n",
        "  word_list =[]\n",
        "  for line in example_file:\n",
        "    word = line.split()[position]\n",
        "    word_list.append(word)\n",
        "  return word_list"
      ],
      "execution_count": 0,
      "outputs": []
    },
    {
      "cell_type": "markdown",
      "metadata": {
        "id": "SVGFSuf1UVSV",
        "colab_type": "text"
      },
      "source": [
        "## Exercise 2"
      ]
    },
    {
      "cell_type": "code",
      "metadata": {
        "id": "aUz-S0pDUVSW",
        "colab_type": "code",
        "colab": {}
      },
      "source": [
        "def onlyUpperCase(text):\n",
        "  # Please write your code here\n",
        "  Upcase = \"\"\n",
        "  for char in text:\n",
        "    if char.isupper():\n",
        "      Upcase = Upcase + char\n",
        "  return Upcase"
      ],
      "execution_count": 0,
      "outputs": []
    },
    {
      "cell_type": "markdown",
      "metadata": {
        "id": "z2rIx_F7UVSZ",
        "colab_type": "text"
      },
      "source": [
        "## Exercise 3"
      ]
    },
    {
      "cell_type": "code",
      "metadata": {
        "id": "E6XvgsgmUVSa",
        "colab_type": "code",
        "colab": {}
      },
      "source": [
        "def divisors(num1, num2):\n",
        "  # Please write your code here\n",
        "  number = []\n",
        "  for i in range (1,num1):\n",
        "    if (i%num2 ==0):\n",
        "      number.append(i)\n",
        "  return number"
      ],
      "execution_count": 0,
      "outputs": []
    },
    {
      "cell_type": "code",
      "metadata": {
        "id": "xPyjbmkCQYbJ",
        "colab_type": "code",
        "outputId": "70db4b93-4451-4d71-a247-ffbffae608b5",
        "colab": {
          "base_uri": "https://localhost:8080/",
          "height": 34
        }
      },
      "source": [
        "divisors(10,2)"
      ],
      "execution_count": 0,
      "outputs": [
        {
          "output_type": "execute_result",
          "data": {
            "text/plain": [
              "[2, 4, 6, 8]"
            ]
          },
          "metadata": {
            "tags": []
          },
          "execution_count": 15
        }
      ]
    },
    {
      "cell_type": "markdown",
      "metadata": {
        "id": "fJEhXAtDUVSd",
        "colab_type": "text"
      },
      "source": [
        "## Exercise 4"
      ]
    },
    {
      "cell_type": "code",
      "metadata": {
        "id": "3Cs0OgGmUVSe",
        "colab_type": "code",
        "colab": {}
      },
      "source": [
        "def countWords(wordList):\n",
        "  # Please write your code here\n",
        "  output={}\n",
        "  for word_1 in wordList:\n",
        "    count = 0 \n",
        "    for word_2 in wordList:\n",
        "      if word_1 == word_2:\n",
        "        count += 1\n",
        "        output[word_1] = count\n",
        "  return output"
      ],
      "execution_count": 0,
      "outputs": []
    },
    {
      "cell_type": "markdown",
      "metadata": {
        "id": "CGC6gPENUVSh",
        "colab_type": "text"
      },
      "source": [
        "## Exercise 5"
      ]
    },
    {
      "cell_type": "code",
      "metadata": {
        "id": "yABkiEt5UVSi",
        "colab_type": "code",
        "colab": {}
      },
      "source": [
        "def organizedCountWords(wordList):\n",
        "  # Please write your code here\n",
        "  inner = {}\n",
        "  outer = {}\n",
        "  for w1 in wordList:\n",
        "    inner = {}\n",
        "    for w2 in wordList:\n",
        "      Length = len(w2)\n",
        "      if len (w1) == len(w2):\n",
        "        inner.update({w2:wordList.count(w2)})\n",
        "        outer.update({len(w2):inner})\n",
        "  return outer"
      ],
      "execution_count": 0,
      "outputs": []
    },
    {
      "cell_type": "markdown",
      "metadata": {
        "id": "tlb0ecAtUX-e",
        "colab_type": "text"
      },
      "source": [
        "##Exercise 6"
      ]
    },
    {
      "cell_type": "code",
      "metadata": {
        "id": "FvW7BpD3UXG2",
        "colab_type": "code",
        "colab": {}
      },
      "source": [
        "def AvgNeighbourhoodListingPrice(neighbourhoodList, room_type, number_of_reviews, minimum_nights):\n",
        "  # Please write your code here\n",
        "  import pandas as pd\n",
        "  df = pd.read_csv ('https://raw.githubusercontent.com/MIE451-1513-2019/course-datasets/master/toronto_airbnb_listings_Aug2019.csv')\n",
        "  df_grouped =[]\n",
        "  \n",
        "  for name in neighbourhoodList:\n",
        "    df_filter=df[(df['neighbourhood']== name) & (df.room_type == room_type) & (df.number_of_reviews >= number_of_reviews) & (df.minimum_nights <=minimum_nights)]\n",
        "    df_grouped.append(df_filter.groupby('neighbourhood')[['price']].mean())# store DataFrame in list\n",
        "  \n",
        "  #combine the the dataframes generatd in the loop\n",
        "  df_grouped=pd.concat(df_grouped)\n",
        "  # sort the price by descending order and round the numebr by 2 decimals\n",
        "  return df_grouped.sort_values(by='price',ascending =False).round(decimals=2)\n"
      ],
      "execution_count": 0,
      "outputs": []
    },
    {
      "cell_type": "markdown",
      "metadata": {
        "id": "cxMjcYPrjkZL",
        "colab_type": "text"
      },
      "source": [
        "## Exercise 7"
      ]
    },
    {
      "cell_type": "code",
      "metadata": {
        "id": "xRjMh_EjjnYM",
        "colab_type": "code",
        "colab": {}
      },
      "source": [
        "def leastSquaresFit(urlX,urlY):\n",
        "  # Please write your code here\n",
        "  import numpy as np\n",
        "  x = (pd.read_csv(urlX,header=None)).values\n",
        "  # create a design matrix of 1\n",
        "  one_matrix = np.ones((len(x),1))\n",
        "  # create a new X matrix\n",
        "  X = np.hstack((one_matrix,x))\n",
        "  Y = (pd.read_csv(urlY,header=None)).values\n",
        "  # calculate the weights\n",
        "  w = np.dot(np.linalg.inv(np.dot(X.T, X)), np.dot(X.T, Y))\n",
        "  return w[1:]"
      ],
      "execution_count": 0,
      "outputs": []
    },
    {
      "cell_type": "markdown",
      "metadata": {
        "id": "4BVZJpHKUVSk",
        "colab_type": "text"
      },
      "source": [
        "----------\n",
        "## Validators\n",
        "This following cell provide basic validation of your functions.\n",
        "\n",
        "You should run each cell and make sure you do not get an exception.\n",
        "\n",
        "**IMPORTANT: passing these validators does not mean your code is correct. These are basic validators to make sure the interface of your functions is correct.**"
      ]
    },
    {
      "cell_type": "code",
      "metadata": {
        "id": "ciHXaur-UVSk",
        "colab_type": "code",
        "colab": {}
      },
      "source": [
        "assert(isinstance(positionWord(\"example.txt\", 2), list))"
      ],
      "execution_count": 0,
      "outputs": []
    },
    {
      "cell_type": "code",
      "metadata": {
        "id": "j7V9yRrQUVSm",
        "colab_type": "code",
        "colab": {}
      },
      "source": [
        "assert(isinstance(onlyUpperCase(\"lorem ipsum Dolor Sit amet, conSectetur.\"), str))"
      ],
      "execution_count": 0,
      "outputs": []
    },
    {
      "cell_type": "code",
      "metadata": {
        "id": "xEW8K0GKUVSo",
        "colab_type": "code",
        "colab": {}
      },
      "source": [
        "assert(isinstance(divisors(23, 6), list))"
      ],
      "execution_count": 0,
      "outputs": []
    },
    {
      "cell_type": "code",
      "metadata": {
        "id": "oo1YSY-GUVSq",
        "colab_type": "code",
        "colab": {}
      },
      "source": [
        "words = [\"the\", \"seething\", \"sea\", \"ceaseth\", \"and\", \"thus\", \"the\", \"seething\", \"sea\", \"sufficeth\", \"us\"]\n",
        "assert(isinstance(countWords(words), dict))"
      ],
      "execution_count": 0,
      "outputs": []
    },
    {
      "cell_type": "code",
      "metadata": {
        "id": "FFbsU1TuUVSr",
        "colab_type": "code",
        "colab": {}
      },
      "source": [
        "words = [\"the\", \"seething\", \"sea\", \"ceaseth\", \"and\", \"thus\", \"the\", \"seething\", \"sea\", \"sufficeth\", \"us\"]\n",
        "assert(isinstance(organizedCountWords(words), dict))"
      ],
      "execution_count": 0,
      "outputs": []
    },
    {
      "cell_type": "code",
      "metadata": {
        "id": "ws_ZzLA0W1Qp",
        "colab_type": "code",
        "colab": {}
      },
      "source": [
        "df = AvgNeighbourhoodListingPrice([\"Little Portugal\",\"Waterfront Communities-The Island\",\"Rosedale-Moore Park\",\"Kensington-Chinatown\"], \"Private room\", 50, 4)\n",
        "assert(df.shape == (4,1))"
      ],
      "execution_count": 0,
      "outputs": []
    },
    {
      "cell_type": "code",
      "metadata": {
        "id": "dZNBA8Y6g602",
        "colab_type": "code",
        "colab": {}
      },
      "source": [
        "import pandas as pd\n",
        "assert(isinstance(df,pd.DataFrame))"
      ],
      "execution_count": 0,
      "outputs": []
    },
    {
      "cell_type": "code",
      "metadata": {
        "id": "1E-9ru9-jhv1",
        "colab_type": "code",
        "colab": {}
      },
      "source": [
        "w = leastSquaresFit(\"https://raw.githubusercontent.com/MIE451-1513-2019/course-datasets/master/X.csv\",\"https://raw.githubusercontent.com/MIE451-1513-2019/course-datasets/master/Y.csv\")\n",
        "assert(w.shape == (3, 1))\n"
      ],
      "execution_count": 0,
      "outputs": []
    },
    {
      "cell_type": "code",
      "metadata": {
        "id": "PDvo9Ik_hzDA",
        "colab_type": "code",
        "colab": {}
      },
      "source": [
        "import numpy as np \n",
        "assert(isinstance(w,np.ndarray))"
      ],
      "execution_count": 0,
      "outputs": []
    },
    {
      "cell_type": "code",
      "metadata": {
        "id": "0FoJ4zcAgORN",
        "colab_type": "code",
        "colab": {}
      },
      "source": [
        ""
      ],
      "execution_count": 0,
      "outputs": []
    }
  ]
}